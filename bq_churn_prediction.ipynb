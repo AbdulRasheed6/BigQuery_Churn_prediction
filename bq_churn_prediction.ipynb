{
  "cells": [
    {
      "cell_type": "markdown",
      "metadata": {
        "id": "view-in-github",
        "colab_type": "text"
      },
      "source": [
        "<a href=\"https://colab.research.google.com/github/AbdulRasheed6/BigQuery_Churn_prediction/blob/main/bq_churn_prediction.ipynb\" target=\"_parent\"><img src=\"https://colab.research.google.com/assets/colab-badge.svg\" alt=\"Open In Colab\"/></a>"
      ]
    },
    {
      "cell_type": "markdown",
      "id": "39d24a6a",
      "metadata": {
        "id": "39d24a6a"
      },
      "source": [
        "# Deploy a BigQuery ML user churn propensity model to Vertex AI for online predictions"
      ]
    },
    {
      "cell_type": "markdown",
      "id": "c97e1100",
      "metadata": {
        "id": "c97e1100"
      },
      "source": [
        "## Learning objectives"
      ]
    },
    {
      "cell_type": "markdown",
      "id": "a426ddad",
      "metadata": {
        "id": "a426ddad"
      },
      "source": [
        "* Explore and preprocess a [Google Analytics 4](https://support.google.com/analytics/answer/7029846) data sample in [BigQuery](https://cloud.google.com/bigquery) for machine learning.  \n",
        "* Train a [BigQuery ML (BQML)](https://cloud.google.com/bigquery-ml) [XGBoost](https://xgboost.readthedocs.io/en/latest/) classifier to predict user churn on a mobile gaming application.\n",
        "* Tune a BQML XGBoost classifier using [BQML hyperparameter tuning features](https://cloud.google.com/bigquery-ml/docs/reference/standard-sql/bigqueryml-syntax-create-boosted-tree).\n",
        "* Evaluate the performance of a BQML XGBoost classifier.\n",
        "* Explain your XGBoost model with [BQML Explainable AI](https://cloud.google.com/bigquery-ml/docs/reference/standard-sql/bigqueryml-syntax-xai-overview) global feature attributions.\n",
        "* Generate batch predictions with your BQML XGBoost model.\n",
        "* Export a BQML XGBoost model to a [Google Cloud Storage](https://cloud.google.com/storage).\n",
        "* Upload and deploy a BQML XGBoost model to a [Vertex AI Prediction](https://cloud.google.com/vertex-ai/docs/predictions/getting-predictions) Endpoint for online predictions."
      ]
    },
    {
      "cell_type": "markdown",
      "id": "32a258db",
      "metadata": {
        "id": "32a258db"
      },
      "source": [
        "## Introduction"
      ]
    },
    {
      "cell_type": "markdown",
      "id": "5d8d5372",
      "metadata": {
        "id": "5d8d5372"
      },
      "source": [
        "In this lab, you will train, evaluate, explain, and generate batch and online predictions with a BigQuery ML (BQML) XGBoost model. You will use a Google Analytics 4 dataset from a real mobile application, Flood it! ([Android app](https://play.google.com/store/apps/details?id=com.labpixies.flood), [iOS app](https://itunes.apple.com/us/app/flood-it!/id476943146?mt=8)), to determine the likelihood of users returning to the application. You will generate batch predictions with your BigQuery ML model as well as export and deploy it to **Vertex AI** for online predictions.\n",
        "\n",
        "[BigQuery ML](https://cloud.google.com/bigquery-ml/docs/introduction) lets you train and do batch inference with machine learning models in BigQuery using standard SQL queries faster by eliminating the need to move data with fewer lines of code. [Vertex AI](https://cloud.google.com/vertex-ai) is Google Cloud's complimentary next generation, unified platform for machine learning development. By developing and deploying BQML machine learning solutions on Vertex AI, you can leverage a scalable online prediction service and MLOps tools for model retraining and monitoring to significantly enhance your development productivity, the ability to scale your workflow and decision making with your data, and accelerate time to value.\n",
        "\n",
        "![BQML Vertex AI](./images/vertex-bqml-lab-architecture-diagram.png \"Vertex BQML Lab Architecture Diagram\")\n",
        "\n",
        "Note: this lab is inspired by and extends [Churn prediction for game developers using Google Analytics 4 (GA4) and BigQuery ML](https://cloud.google.com/blog/topics/developers-practitioners/churn-prediction-game-developers-using-google-analytics-4-ga4-and-bigquery-ml). See that blog post and accompanying tutorial for additional depth on this use case and BigQuery ML. In this lab, you will go one step further and focus on how Vertex AI extends BQML's capabilities through online prediction so you can incorporate both customer churn predictions into decision making UIs such as [Looker dashboards](https://looker.com/google-cloud) but also online predictions directly into customer applications to power targeted interventions such as targeted incentives."
      ]
    },
    {
      "cell_type": "markdown",
      "id": "bce45947",
      "metadata": {
        "id": "bce45947"
      },
      "source": [
        "### Use case: user churn propensity modeling in the mobile gaming industry"
      ]
    },
    {
      "cell_type": "markdown",
      "id": "14102f4b",
      "metadata": {
        "id": "14102f4b"
      },
      "source": [
        "According to a [2019 study](https://gameanalytics.com/reports/mobile-gaming-industry-analysis-h1-2019) on 100K mobile games by the Mobile Gaming Industry Analysis, most mobile games only see a 25% retention rate for users after the first 24 hours, known and any game \"below 30% retention generally needs improvement\". For mobile game developers, improving user retention is critical to revenue stability and increasing profitability. In fact, [Bain & Company research](https://hbr.org/2014/10/the-value-of-keeping-the-right-customers) found that 5% growth in retention rate can result in a 25-95% increase in profits. With lower costs to retain existing customers, the business objective for game developers is clear: reduce churn and improve customer loyalty to drive long-term profitability.\n",
        "\n",
        "Your task in this lab: use machine learning to predict user churn propensity after day 1, a crucial user onboarding window, and serve these online predictions to inform interventions such as targeted in-game rewards and notifications."
      ]
    },
    {
      "cell_type": "markdown",
      "id": "4963f56a",
      "metadata": {
        "id": "4963f56a"
      },
      "source": [
        "## Setup"
      ]
    },
    {
      "cell_type": "code",
      "execution_count": null,
      "id": "35ce5269-6546-4e54-809b-8fa6e29471dc",
      "metadata": {
        "tags": [],
        "id": "35ce5269-6546-4e54-809b-8fa6e29471dc",
        "outputId": "295f827c-deed-4b15-eefe-9b18db2982fe"
      },
      "outputs": [
        {
          "name": "stdout",
          "output_type": "stream",
          "text": [
            "Requirement already satisfied: google-cloud-aiplatform in /opt/conda/lib/python3.10/site-packages (1.67.1)\n",
            "Requirement already satisfied: google-api-core!=2.0.*,!=2.1.*,!=2.2.*,!=2.3.*,!=2.4.*,!=2.5.*,!=2.6.*,!=2.7.*,<3.0.0dev,>=1.34.1 in /opt/conda/lib/python3.10/site-packages (from google-api-core[grpc]!=2.0.*,!=2.1.*,!=2.2.*,!=2.3.*,!=2.4.*,!=2.5.*,!=2.6.*,!=2.7.*,<3.0.0dev,>=1.34.1->google-cloud-aiplatform) (1.34.1)\n",
            "Requirement already satisfied: google-auth<3.0.0dev,>=2.14.1 in /opt/conda/lib/python3.10/site-packages (from google-cloud-aiplatform) (2.35.0)\n",
            "Requirement already satisfied: proto-plus<2.0.0dev,>=1.22.3 in /opt/conda/lib/python3.10/site-packages (from google-cloud-aiplatform) (1.24.0)\n",
            "Requirement already satisfied: protobuf!=4.21.0,!=4.21.1,!=4.21.2,!=4.21.3,!=4.21.4,!=4.21.5,<6.0.0dev,>=3.20.2 in /opt/conda/lib/python3.10/site-packages (from google-cloud-aiplatform) (3.20.3)\n",
            "Requirement already satisfied: packaging>=14.3 in /opt/conda/lib/python3.10/site-packages (from google-cloud-aiplatform) (24.1)\n",
            "Requirement already satisfied: google-cloud-storage<3.0.0dev,>=1.32.0 in /opt/conda/lib/python3.10/site-packages (from google-cloud-aiplatform) (2.14.0)\n",
            "Requirement already satisfied: google-cloud-bigquery!=3.20.0,<4.0.0dev,>=1.15.0 in /opt/conda/lib/python3.10/site-packages (from google-cloud-aiplatform) (3.25.0)\n",
            "Requirement already satisfied: google-cloud-resource-manager<3.0.0dev,>=1.3.3 in /opt/conda/lib/python3.10/site-packages (from google-cloud-aiplatform) (1.12.5)\n",
            "Requirement already satisfied: shapely<3.0.0dev in /opt/conda/lib/python3.10/site-packages (from google-cloud-aiplatform) (2.0.6)\n",
            "Requirement already satisfied: pydantic<3 in /opt/conda/lib/python3.10/site-packages (from google-cloud-aiplatform) (1.10.18)\n",
            "Requirement already satisfied: docstring-parser<1 in /opt/conda/lib/python3.10/site-packages (from google-cloud-aiplatform) (0.16)\n",
            "Requirement already satisfied: googleapis-common-protos<2.0dev,>=1.56.2 in /opt/conda/lib/python3.10/site-packages (from google-api-core!=2.0.*,!=2.1.*,!=2.2.*,!=2.3.*,!=2.4.*,!=2.5.*,!=2.6.*,!=2.7.*,<3.0.0dev,>=1.34.1->google-api-core[grpc]!=2.0.*,!=2.1.*,!=2.2.*,!=2.3.*,!=2.4.*,!=2.5.*,!=2.6.*,!=2.7.*,<3.0.0dev,>=1.34.1->google-cloud-aiplatform) (1.65.0)\n",
            "Requirement already satisfied: requests<3.0.0dev,>=2.18.0 in /opt/conda/lib/python3.10/site-packages (from google-api-core!=2.0.*,!=2.1.*,!=2.2.*,!=2.3.*,!=2.4.*,!=2.5.*,!=2.6.*,!=2.7.*,<3.0.0dev,>=1.34.1->google-api-core[grpc]!=2.0.*,!=2.1.*,!=2.2.*,!=2.3.*,!=2.4.*,!=2.5.*,!=2.6.*,!=2.7.*,<3.0.0dev,>=1.34.1->google-cloud-aiplatform) (2.32.3)\n",
            "Requirement already satisfied: grpcio<2.0dev,>=1.33.2 in /opt/conda/lib/python3.10/site-packages (from google-api-core[grpc]!=2.0.*,!=2.1.*,!=2.2.*,!=2.3.*,!=2.4.*,!=2.5.*,!=2.6.*,!=2.7.*,<3.0.0dev,>=1.34.1->google-cloud-aiplatform) (1.48.0)\n",
            "Requirement already satisfied: grpcio-status<2.0dev,>=1.33.2 in /opt/conda/lib/python3.10/site-packages (from google-api-core[grpc]!=2.0.*,!=2.1.*,!=2.2.*,!=2.3.*,!=2.4.*,!=2.5.*,!=2.6.*,!=2.7.*,<3.0.0dev,>=1.34.1->google-cloud-aiplatform) (1.48.0)\n",
            "Requirement already satisfied: cachetools<6.0,>=2.0.0 in /opt/conda/lib/python3.10/site-packages (from google-auth<3.0.0dev,>=2.14.1->google-cloud-aiplatform) (4.2.4)\n",
            "Requirement already satisfied: pyasn1-modules>=0.2.1 in /opt/conda/lib/python3.10/site-packages (from google-auth<3.0.0dev,>=2.14.1->google-cloud-aiplatform) (0.4.1)\n",
            "Requirement already satisfied: rsa<5,>=3.1.4 in /opt/conda/lib/python3.10/site-packages (from google-auth<3.0.0dev,>=2.14.1->google-cloud-aiplatform) (4.9)\n",
            "Requirement already satisfied: google-cloud-core<3.0.0dev,>=1.6.0 in /opt/conda/lib/python3.10/site-packages (from google-cloud-bigquery!=3.20.0,<4.0.0dev,>=1.15.0->google-cloud-aiplatform) (2.4.1)\n",
            "Requirement already satisfied: google-resumable-media<3.0dev,>=0.6.0 in /opt/conda/lib/python3.10/site-packages (from google-cloud-bigquery!=3.20.0,<4.0.0dev,>=1.15.0->google-cloud-aiplatform) (2.7.2)\n",
            "Requirement already satisfied: python-dateutil<3.0dev,>=2.7.2 in /opt/conda/lib/python3.10/site-packages (from google-cloud-bigquery!=3.20.0,<4.0.0dev,>=1.15.0->google-cloud-aiplatform) (2.9.0)\n",
            "Requirement already satisfied: grpc-google-iam-v1<1.0.0dev,>=0.12.4 in /opt/conda/lib/python3.10/site-packages (from google-cloud-resource-manager<3.0.0dev,>=1.3.3->google-cloud-aiplatform) (0.12.7)\n",
            "Requirement already satisfied: google-crc32c<2.0dev,>=1.0 in /opt/conda/lib/python3.10/site-packages (from google-cloud-storage<3.0.0dev,>=1.32.0->google-cloud-aiplatform) (1.6.0)\n",
            "Requirement already satisfied: typing-extensions>=4.2.0 in /opt/conda/lib/python3.10/site-packages (from pydantic<3->google-cloud-aiplatform) (4.12.2)\n",
            "Requirement already satisfied: numpy<3,>=1.14 in /opt/conda/lib/python3.10/site-packages (from shapely<3.0.0dev->google-cloud-aiplatform) (1.24.4)\n",
            "Requirement already satisfied: six>=1.5.2 in /opt/conda/lib/python3.10/site-packages (from grpcio<2.0dev,>=1.33.2->google-api-core[grpc]!=2.0.*,!=2.1.*,!=2.2.*,!=2.3.*,!=2.4.*,!=2.5.*,!=2.6.*,!=2.7.*,<3.0.0dev,>=1.34.1->google-cloud-aiplatform) (1.16.0)\n",
            "Requirement already satisfied: pyasn1<0.7.0,>=0.4.6 in /opt/conda/lib/python3.10/site-packages (from pyasn1-modules>=0.2.1->google-auth<3.0.0dev,>=2.14.1->google-cloud-aiplatform) (0.6.1)\n",
            "Requirement already satisfied: charset-normalizer<4,>=2 in /opt/conda/lib/python3.10/site-packages (from requests<3.0.0dev,>=2.18.0->google-api-core!=2.0.*,!=2.1.*,!=2.2.*,!=2.3.*,!=2.4.*,!=2.5.*,!=2.6.*,!=2.7.*,<3.0.0dev,>=1.34.1->google-api-core[grpc]!=2.0.*,!=2.1.*,!=2.2.*,!=2.3.*,!=2.4.*,!=2.5.*,!=2.6.*,!=2.7.*,<3.0.0dev,>=1.34.1->google-cloud-aiplatform) (3.3.2)\n",
            "Requirement already satisfied: idna<4,>=2.5 in /opt/conda/lib/python3.10/site-packages (from requests<3.0.0dev,>=2.18.0->google-api-core!=2.0.*,!=2.1.*,!=2.2.*,!=2.3.*,!=2.4.*,!=2.5.*,!=2.6.*,!=2.7.*,<3.0.0dev,>=1.34.1->google-api-core[grpc]!=2.0.*,!=2.1.*,!=2.2.*,!=2.3.*,!=2.4.*,!=2.5.*,!=2.6.*,!=2.7.*,<3.0.0dev,>=1.34.1->google-cloud-aiplatform) (3.10)\n",
            "Requirement already satisfied: urllib3<3,>=1.21.1 in /opt/conda/lib/python3.10/site-packages (from requests<3.0.0dev,>=2.18.0->google-api-core!=2.0.*,!=2.1.*,!=2.2.*,!=2.3.*,!=2.4.*,!=2.5.*,!=2.6.*,!=2.7.*,<3.0.0dev,>=1.34.1->google-api-core[grpc]!=2.0.*,!=2.1.*,!=2.2.*,!=2.3.*,!=2.4.*,!=2.5.*,!=2.6.*,!=2.7.*,<3.0.0dev,>=1.34.1->google-cloud-aiplatform) (1.26.20)\n",
            "Requirement already satisfied: certifi>=2017.4.17 in /opt/conda/lib/python3.10/site-packages (from requests<3.0.0dev,>=2.18.0->google-api-core!=2.0.*,!=2.1.*,!=2.2.*,!=2.3.*,!=2.4.*,!=2.5.*,!=2.6.*,!=2.7.*,<3.0.0dev,>=1.34.1->google-api-core[grpc]!=2.0.*,!=2.1.*,!=2.2.*,!=2.3.*,!=2.4.*,!=2.5.*,!=2.6.*,!=2.7.*,<3.0.0dev,>=1.34.1->google-cloud-aiplatform) (2024.8.30)\n",
            "Collecting pyarrow==11.0.0\n",
            "  Downloading pyarrow-11.0.0-cp310-cp310-manylinux_2_17_x86_64.manylinux2014_x86_64.whl.metadata (3.0 kB)\n",
            "Requirement already satisfied: numpy>=1.16.6 in /opt/conda/lib/python3.10/site-packages (from pyarrow==11.0.0) (1.24.4)\n",
            "Downloading pyarrow-11.0.0-cp310-cp310-manylinux_2_17_x86_64.manylinux2014_x86_64.whl (34.9 MB)\n",
            "\u001b[2K   \u001b[90m━━━━━━━━━━━━━━━━━━━━━━━━━━━━━━━━━━━━━━━━\u001b[0m \u001b[32m34.9/34.9 MB\u001b[0m \u001b[31m76.6 MB/s\u001b[0m eta \u001b[36m0:00:00\u001b[0m:00:01\u001b[0m00:01\u001b[0m\n",
            "\u001b[?25hInstalling collected packages: pyarrow\n",
            "\u001b[33m  WARNING: The script plasma_store is installed in '/home/jupyter/.local/bin' which is not on PATH.\n",
            "  Consider adding this directory to PATH or, if you prefer to suppress this warning, use --no-warn-script-location.\u001b[0m\u001b[33m\n",
            "\u001b[0m\u001b[31mERROR: pip's dependency resolver does not currently take into account all the packages that are installed. This behaviour is the source of the following dependency conflicts.\n",
            "apache-beam 2.46.0 requires grpcio!=1.48.0,<2,>=1.33.1, but you have grpcio 1.48.0 which is incompatible.\n",
            "apache-beam 2.46.0 requires pyarrow<10.0.0,>=3.0.0, but you have pyarrow 11.0.0 which is incompatible.\u001b[0m\u001b[31m\n",
            "\u001b[0mSuccessfully installed pyarrow-11.0.0\n",
            "Requirement already satisfied: google-cloud-bigquery in /opt/conda/lib/python3.10/site-packages (3.25.0)\n",
            "Collecting google-cloud-bigquery\n",
            "  Downloading google_cloud_bigquery-3.27.0-py2.py3-none-any.whl.metadata (8.6 kB)\n",
            "Collecting google-api-core<3.0.0dev,>=2.11.1 (from google-api-core[grpc]<3.0.0dev,>=2.11.1->google-cloud-bigquery)\n",
            "  Downloading google_api_core-2.23.0-py3-none-any.whl.metadata (3.0 kB)\n",
            "Requirement already satisfied: google-auth<3.0.0dev,>=2.14.1 in /opt/conda/lib/python3.10/site-packages (from google-cloud-bigquery) (2.35.0)\n",
            "Requirement already satisfied: google-cloud-core<3.0.0dev,>=2.4.1 in /opt/conda/lib/python3.10/site-packages (from google-cloud-bigquery) (2.4.1)\n",
            "Requirement already satisfied: google-resumable-media<3.0dev,>=2.0.0 in /opt/conda/lib/python3.10/site-packages (from google-cloud-bigquery) (2.7.2)\n",
            "Requirement already satisfied: packaging>=20.0.0 in /opt/conda/lib/python3.10/site-packages (from google-cloud-bigquery) (24.1)\n",
            "Requirement already satisfied: python-dateutil<3.0dev,>=2.7.3 in /opt/conda/lib/python3.10/site-packages (from google-cloud-bigquery) (2.9.0)\n",
            "Requirement already satisfied: requests<3.0.0dev,>=2.21.0 in /opt/conda/lib/python3.10/site-packages (from google-cloud-bigquery) (2.32.3)\n",
            "Requirement already satisfied: googleapis-common-protos<2.0.dev0,>=1.56.2 in /opt/conda/lib/python3.10/site-packages (from google-api-core<3.0.0dev,>=2.11.1->google-api-core[grpc]<3.0.0dev,>=2.11.1->google-cloud-bigquery) (1.65.0)\n",
            "Requirement already satisfied: protobuf!=3.20.0,!=3.20.1,!=4.21.0,!=4.21.1,!=4.21.2,!=4.21.3,!=4.21.4,!=4.21.5,<6.0.0.dev0,>=3.19.5 in /opt/conda/lib/python3.10/site-packages (from google-api-core<3.0.0dev,>=2.11.1->google-api-core[grpc]<3.0.0dev,>=2.11.1->google-cloud-bigquery) (3.20.3)\n",
            "Requirement already satisfied: proto-plus<2.0.0dev,>=1.22.3 in /opt/conda/lib/python3.10/site-packages (from google-api-core<3.0.0dev,>=2.11.1->google-api-core[grpc]<3.0.0dev,>=2.11.1->google-cloud-bigquery) (1.24.0)\n",
            "Requirement already satisfied: grpcio<2.0dev,>=1.33.2 in /opt/conda/lib/python3.10/site-packages (from google-api-core[grpc]<3.0.0dev,>=2.11.1->google-cloud-bigquery) (1.48.0)\n",
            "Requirement already satisfied: grpcio-status<2.0.dev0,>=1.33.2 in /opt/conda/lib/python3.10/site-packages (from google-api-core[grpc]<3.0.0dev,>=2.11.1->google-cloud-bigquery) (1.48.0)\n",
            "Requirement already satisfied: cachetools<6.0,>=2.0.0 in /opt/conda/lib/python3.10/site-packages (from google-auth<3.0.0dev,>=2.14.1->google-cloud-bigquery) (4.2.4)\n",
            "Requirement already satisfied: pyasn1-modules>=0.2.1 in /opt/conda/lib/python3.10/site-packages (from google-auth<3.0.0dev,>=2.14.1->google-cloud-bigquery) (0.4.1)\n",
            "Requirement already satisfied: rsa<5,>=3.1.4 in /opt/conda/lib/python3.10/site-packages (from google-auth<3.0.0dev,>=2.14.1->google-cloud-bigquery) (4.9)\n",
            "Requirement already satisfied: google-crc32c<2.0dev,>=1.0 in /opt/conda/lib/python3.10/site-packages (from google-resumable-media<3.0dev,>=2.0.0->google-cloud-bigquery) (1.6.0)\n",
            "Requirement already satisfied: six>=1.5 in /opt/conda/lib/python3.10/site-packages (from python-dateutil<3.0dev,>=2.7.3->google-cloud-bigquery) (1.16.0)\n",
            "Requirement already satisfied: charset-normalizer<4,>=2 in /opt/conda/lib/python3.10/site-packages (from requests<3.0.0dev,>=2.21.0->google-cloud-bigquery) (3.3.2)\n",
            "Requirement already satisfied: idna<4,>=2.5 in /opt/conda/lib/python3.10/site-packages (from requests<3.0.0dev,>=2.21.0->google-cloud-bigquery) (3.10)\n",
            "Requirement already satisfied: urllib3<3,>=1.21.1 in /opt/conda/lib/python3.10/site-packages (from requests<3.0.0dev,>=2.21.0->google-cloud-bigquery) (1.26.20)\n",
            "Requirement already satisfied: certifi>=2017.4.17 in /opt/conda/lib/python3.10/site-packages (from requests<3.0.0dev,>=2.21.0->google-cloud-bigquery) (2024.8.30)\n",
            "Requirement already satisfied: pyasn1<0.7.0,>=0.4.6 in /opt/conda/lib/python3.10/site-packages (from pyasn1-modules>=0.2.1->google-auth<3.0.0dev,>=2.14.1->google-cloud-bigquery) (0.6.1)\n",
            "Downloading google_cloud_bigquery-3.27.0-py2.py3-none-any.whl (240 kB)\n",
            "Downloading google_api_core-2.23.0-py3-none-any.whl (156 kB)\n",
            "Installing collected packages: google-api-core, google-cloud-bigquery\n",
            "\u001b[31mERROR: pip's dependency resolver does not currently take into account all the packages that are installed. This behaviour is the source of the following dependency conflicts.\n",
            "dataproc-jupyter-plugin 0.1.80 requires aiohttp~=3.9.5, but you have aiohttp 3.10.5 which is incompatible.\n",
            "google-api-python-client 1.8.0 requires google-api-core<2dev,>=1.13.0, but you have google-api-core 2.23.0 which is incompatible.\n",
            "google-cloud-pubsub 2.23.1 requires grpcio<2.0dev,>=1.51.3, but you have grpcio 1.48.0 which is incompatible.\u001b[0m\u001b[31m\n",
            "\u001b[0mSuccessfully installed google-api-core-2.23.0 google-cloud-bigquery-3.27.0\n",
            "Requirement already satisfied: google-cloud-bigquery-storage in /opt/conda/lib/python3.10/site-packages (2.16.2)\n",
            "Collecting google-cloud-bigquery-storage\n",
            "  Downloading google_cloud_bigquery_storage-2.27.0-py2.py3-none-any.whl.metadata (5.6 kB)\n",
            "Requirement already satisfied: google-api-core!=2.0.*,!=2.1.*,!=2.10.*,!=2.2.*,!=2.3.*,!=2.4.*,!=2.5.*,!=2.6.*,!=2.7.*,!=2.8.*,!=2.9.*,<3.0.0dev,>=1.34.0 in /home/jupyter/.local/lib/python3.10/site-packages (from google-api-core[grpc]!=2.0.*,!=2.1.*,!=2.10.*,!=2.2.*,!=2.3.*,!=2.4.*,!=2.5.*,!=2.6.*,!=2.7.*,!=2.8.*,!=2.9.*,<3.0.0dev,>=1.34.0->google-cloud-bigquery-storage) (2.23.0)\n",
            "Requirement already satisfied: google-auth<3.0.0dev,>=2.14.1 in /opt/conda/lib/python3.10/site-packages (from google-cloud-bigquery-storage) (2.35.0)\n",
            "Requirement already satisfied: proto-plus<2.0.0dev,>=1.22.0 in /opt/conda/lib/python3.10/site-packages (from google-cloud-bigquery-storage) (1.24.0)\n",
            "Requirement already satisfied: protobuf!=3.20.0,!=3.20.1,!=4.21.0,!=4.21.1,!=4.21.2,!=4.21.3,!=4.21.4,!=4.21.5,<6.0.0dev,>=3.20.2 in /opt/conda/lib/python3.10/site-packages (from google-cloud-bigquery-storage) (3.20.3)\n",
            "Requirement already satisfied: googleapis-common-protos<2.0.dev0,>=1.56.2 in /opt/conda/lib/python3.10/site-packages (from google-api-core!=2.0.*,!=2.1.*,!=2.10.*,!=2.2.*,!=2.3.*,!=2.4.*,!=2.5.*,!=2.6.*,!=2.7.*,!=2.8.*,!=2.9.*,<3.0.0dev,>=1.34.0->google-api-core[grpc]!=2.0.*,!=2.1.*,!=2.10.*,!=2.2.*,!=2.3.*,!=2.4.*,!=2.5.*,!=2.6.*,!=2.7.*,!=2.8.*,!=2.9.*,<3.0.0dev,>=1.34.0->google-cloud-bigquery-storage) (1.65.0)\n",
            "Requirement already satisfied: requests<3.0.0.dev0,>=2.18.0 in /opt/conda/lib/python3.10/site-packages (from google-api-core!=2.0.*,!=2.1.*,!=2.10.*,!=2.2.*,!=2.3.*,!=2.4.*,!=2.5.*,!=2.6.*,!=2.7.*,!=2.8.*,!=2.9.*,<3.0.0dev,>=1.34.0->google-api-core[grpc]!=2.0.*,!=2.1.*,!=2.10.*,!=2.2.*,!=2.3.*,!=2.4.*,!=2.5.*,!=2.6.*,!=2.7.*,!=2.8.*,!=2.9.*,<3.0.0dev,>=1.34.0->google-cloud-bigquery-storage) (2.32.3)\n",
            "Requirement already satisfied: grpcio<2.0dev,>=1.33.2 in /opt/conda/lib/python3.10/site-packages (from google-api-core[grpc]!=2.0.*,!=2.1.*,!=2.10.*,!=2.2.*,!=2.3.*,!=2.4.*,!=2.5.*,!=2.6.*,!=2.7.*,!=2.8.*,!=2.9.*,<3.0.0dev,>=1.34.0->google-cloud-bigquery-storage) (1.48.0)\n",
            "Requirement already satisfied: grpcio-status<2.0.dev0,>=1.33.2 in /opt/conda/lib/python3.10/site-packages (from google-api-core[grpc]!=2.0.*,!=2.1.*,!=2.10.*,!=2.2.*,!=2.3.*,!=2.4.*,!=2.5.*,!=2.6.*,!=2.7.*,!=2.8.*,!=2.9.*,<3.0.0dev,>=1.34.0->google-cloud-bigquery-storage) (1.48.0)\n",
            "Requirement already satisfied: cachetools<6.0,>=2.0.0 in /opt/conda/lib/python3.10/site-packages (from google-auth<3.0.0dev,>=2.14.1->google-cloud-bigquery-storage) (4.2.4)\n",
            "Requirement already satisfied: pyasn1-modules>=0.2.1 in /opt/conda/lib/python3.10/site-packages (from google-auth<3.0.0dev,>=2.14.1->google-cloud-bigquery-storage) (0.4.1)\n",
            "Requirement already satisfied: rsa<5,>=3.1.4 in /opt/conda/lib/python3.10/site-packages (from google-auth<3.0.0dev,>=2.14.1->google-cloud-bigquery-storage) (4.9)\n",
            "Requirement already satisfied: six>=1.5.2 in /opt/conda/lib/python3.10/site-packages (from grpcio<2.0dev,>=1.33.2->google-api-core[grpc]!=2.0.*,!=2.1.*,!=2.10.*,!=2.2.*,!=2.3.*,!=2.4.*,!=2.5.*,!=2.6.*,!=2.7.*,!=2.8.*,!=2.9.*,<3.0.0dev,>=1.34.0->google-cloud-bigquery-storage) (1.16.0)\n",
            "Requirement already satisfied: pyasn1<0.7.0,>=0.4.6 in /opt/conda/lib/python3.10/site-packages (from pyasn1-modules>=0.2.1->google-auth<3.0.0dev,>=2.14.1->google-cloud-bigquery-storage) (0.6.1)\n",
            "Requirement already satisfied: charset-normalizer<4,>=2 in /opt/conda/lib/python3.10/site-packages (from requests<3.0.0.dev0,>=2.18.0->google-api-core!=2.0.*,!=2.1.*,!=2.10.*,!=2.2.*,!=2.3.*,!=2.4.*,!=2.5.*,!=2.6.*,!=2.7.*,!=2.8.*,!=2.9.*,<3.0.0dev,>=1.34.0->google-api-core[grpc]!=2.0.*,!=2.1.*,!=2.10.*,!=2.2.*,!=2.3.*,!=2.4.*,!=2.5.*,!=2.6.*,!=2.7.*,!=2.8.*,!=2.9.*,<3.0.0dev,>=1.34.0->google-cloud-bigquery-storage) (3.3.2)\n",
            "Requirement already satisfied: idna<4,>=2.5 in /opt/conda/lib/python3.10/site-packages (from requests<3.0.0.dev0,>=2.18.0->google-api-core!=2.0.*,!=2.1.*,!=2.10.*,!=2.2.*,!=2.3.*,!=2.4.*,!=2.5.*,!=2.6.*,!=2.7.*,!=2.8.*,!=2.9.*,<3.0.0dev,>=1.34.0->google-api-core[grpc]!=2.0.*,!=2.1.*,!=2.10.*,!=2.2.*,!=2.3.*,!=2.4.*,!=2.5.*,!=2.6.*,!=2.7.*,!=2.8.*,!=2.9.*,<3.0.0dev,>=1.34.0->google-cloud-bigquery-storage) (3.10)\n",
            "Requirement already satisfied: urllib3<3,>=1.21.1 in /opt/conda/lib/python3.10/site-packages (from requests<3.0.0.dev0,>=2.18.0->google-api-core!=2.0.*,!=2.1.*,!=2.10.*,!=2.2.*,!=2.3.*,!=2.4.*,!=2.5.*,!=2.6.*,!=2.7.*,!=2.8.*,!=2.9.*,<3.0.0dev,>=1.34.0->google-api-core[grpc]!=2.0.*,!=2.1.*,!=2.10.*,!=2.2.*,!=2.3.*,!=2.4.*,!=2.5.*,!=2.6.*,!=2.7.*,!=2.8.*,!=2.9.*,<3.0.0dev,>=1.34.0->google-cloud-bigquery-storage) (1.26.20)\n",
            "Requirement already satisfied: certifi>=2017.4.17 in /opt/conda/lib/python3.10/site-packages (from requests<3.0.0.dev0,>=2.18.0->google-api-core!=2.0.*,!=2.1.*,!=2.10.*,!=2.2.*,!=2.3.*,!=2.4.*,!=2.5.*,!=2.6.*,!=2.7.*,!=2.8.*,!=2.9.*,<3.0.0dev,>=1.34.0->google-api-core[grpc]!=2.0.*,!=2.1.*,!=2.10.*,!=2.2.*,!=2.3.*,!=2.4.*,!=2.5.*,!=2.6.*,!=2.7.*,!=2.8.*,!=2.9.*,<3.0.0dev,>=1.34.0->google-cloud-bigquery-storage) (2024.8.30)\n",
            "Downloading google_cloud_bigquery_storage-2.27.0-py2.py3-none-any.whl (240 kB)\n",
            "Installing collected packages: google-cloud-bigquery-storage\n",
            "Successfully installed google-cloud-bigquery-storage-2.27.0\n",
            "Requirement already satisfied: google-cloud-storage in /opt/conda/lib/python3.10/site-packages (2.14.0)\n",
            "Collecting google-cloud-storage\n",
            "  Downloading google_cloud_storage-2.18.2-py2.py3-none-any.whl.metadata (9.1 kB)\n",
            "Requirement already satisfied: google-auth<3.0dev,>=2.26.1 in /opt/conda/lib/python3.10/site-packages (from google-cloud-storage) (2.35.0)\n",
            "Requirement already satisfied: google-api-core<3.0.0dev,>=2.15.0 in /home/jupyter/.local/lib/python3.10/site-packages (from google-cloud-storage) (2.23.0)\n",
            "Requirement already satisfied: google-cloud-core<3.0dev,>=2.3.0 in /opt/conda/lib/python3.10/site-packages (from google-cloud-storage) (2.4.1)\n",
            "Requirement already satisfied: google-resumable-media>=2.7.2 in /opt/conda/lib/python3.10/site-packages (from google-cloud-storage) (2.7.2)\n",
            "Requirement already satisfied: requests<3.0.0dev,>=2.18.0 in /opt/conda/lib/python3.10/site-packages (from google-cloud-storage) (2.32.3)\n",
            "Requirement already satisfied: google-crc32c<2.0dev,>=1.0 in /opt/conda/lib/python3.10/site-packages (from google-cloud-storage) (1.6.0)\n",
            "Requirement already satisfied: googleapis-common-protos<2.0.dev0,>=1.56.2 in /opt/conda/lib/python3.10/site-packages (from google-api-core<3.0.0dev,>=2.15.0->google-cloud-storage) (1.65.0)\n",
            "Requirement already satisfied: protobuf!=3.20.0,!=3.20.1,!=4.21.0,!=4.21.1,!=4.21.2,!=4.21.3,!=4.21.4,!=4.21.5,<6.0.0.dev0,>=3.19.5 in /opt/conda/lib/python3.10/site-packages (from google-api-core<3.0.0dev,>=2.15.0->google-cloud-storage) (3.20.3)\n",
            "Requirement already satisfied: proto-plus<2.0.0dev,>=1.22.3 in /opt/conda/lib/python3.10/site-packages (from google-api-core<3.0.0dev,>=2.15.0->google-cloud-storage) (1.24.0)\n",
            "Requirement already satisfied: cachetools<6.0,>=2.0.0 in /opt/conda/lib/python3.10/site-packages (from google-auth<3.0dev,>=2.26.1->google-cloud-storage) (4.2.4)\n",
            "Requirement already satisfied: pyasn1-modules>=0.2.1 in /opt/conda/lib/python3.10/site-packages (from google-auth<3.0dev,>=2.26.1->google-cloud-storage) (0.4.1)\n",
            "Requirement already satisfied: rsa<5,>=3.1.4 in /opt/conda/lib/python3.10/site-packages (from google-auth<3.0dev,>=2.26.1->google-cloud-storage) (4.9)\n",
            "Requirement already satisfied: charset-normalizer<4,>=2 in /opt/conda/lib/python3.10/site-packages (from requests<3.0.0dev,>=2.18.0->google-cloud-storage) (3.3.2)\n",
            "Requirement already satisfied: idna<4,>=2.5 in /opt/conda/lib/python3.10/site-packages (from requests<3.0.0dev,>=2.18.0->google-cloud-storage) (3.10)\n",
            "Requirement already satisfied: urllib3<3,>=1.21.1 in /opt/conda/lib/python3.10/site-packages (from requests<3.0.0dev,>=2.18.0->google-cloud-storage) (1.26.20)\n",
            "Requirement already satisfied: certifi>=2017.4.17 in /opt/conda/lib/python3.10/site-packages (from requests<3.0.0dev,>=2.18.0->google-cloud-storage) (2024.8.30)\n",
            "Requirement already satisfied: pyasn1<0.7.0,>=0.4.6 in /opt/conda/lib/python3.10/site-packages (from pyasn1-modules>=0.2.1->google-auth<3.0dev,>=2.26.1->google-cloud-storage) (0.6.1)\n",
            "Downloading google_cloud_storage-2.18.2-py2.py3-none-any.whl (130 kB)\n",
            "Installing collected packages: google-cloud-storage\n",
            "\u001b[31mERROR: pip's dependency resolver does not currently take into account all the packages that are installed. This behaviour is the source of the following dependency conflicts.\n",
            "dataproc-jupyter-plugin 0.1.80 requires aiohttp~=3.9.5, but you have aiohttp 3.10.5 which is incompatible.\u001b[0m\u001b[31m\n",
            "\u001b[0mSuccessfully installed google-cloud-storage-2.18.2\n",
            "Requirement already satisfied: db-dtypes in /opt/conda/lib/python3.10/site-packages (1.3.0)\n",
            "Requirement already satisfied: packaging>=17.0 in /opt/conda/lib/python3.10/site-packages (from db-dtypes) (24.1)\n",
            "Requirement already satisfied: pandas>=0.24.2 in /opt/conda/lib/python3.10/site-packages (from db-dtypes) (2.0.3)\n",
            "Requirement already satisfied: pyarrow>=3.0.0 in /home/jupyter/.local/lib/python3.10/site-packages (from db-dtypes) (11.0.0)\n",
            "Requirement already satisfied: numpy>=1.16.6 in /opt/conda/lib/python3.10/site-packages (from db-dtypes) (1.24.4)\n",
            "Requirement already satisfied: python-dateutil>=2.8.2 in /opt/conda/lib/python3.10/site-packages (from pandas>=0.24.2->db-dtypes) (2.9.0)\n",
            "Requirement already satisfied: pytz>=2020.1 in /opt/conda/lib/python3.10/site-packages (from pandas>=0.24.2->db-dtypes) (2024.2)\n",
            "Requirement already satisfied: tzdata>=2022.1 in /opt/conda/lib/python3.10/site-packages (from pandas>=0.24.2->db-dtypes) (2024.1)\n",
            "Requirement already satisfied: six>=1.5 in /opt/conda/lib/python3.10/site-packages (from python-dateutil>=2.8.2->pandas>=0.24.2->db-dtypes) (1.16.0)\n"
          ]
        }
      ],
      "source": [
        "!pip3 install google-cloud-aiplatform --user\n",
        "!pip3 install pyarrow==11.0.0 --user\n",
        "!pip3 install --upgrade google-cloud-bigquery --user\n",
        "!pip3 install --upgrade google-cloud-bigquery-storage --user\n",
        "!pip3 install --upgrade google-cloud-storage --user\n",
        "!pip install db-dtypes"
      ]
    },
    {
      "cell_type": "markdown",
      "id": "32ae1c8a",
      "metadata": {
        "id": "32ae1c8a"
      },
      "source": [
        "**Restart the kernel and ignore the compatibility errors.**"
      ]
    },
    {
      "cell_type": "markdown",
      "id": "0cbbab34",
      "metadata": {
        "id": "0cbbab34"
      },
      "source": [
        "### Define constants"
      ]
    },
    {
      "cell_type": "code",
      "execution_count": null,
      "id": "edbc96b2",
      "metadata": {
        "tags": [],
        "id": "edbc96b2"
      },
      "outputs": [],
      "source": [
        "# Retrieve and set PROJECT_ID and REGION environment variables.\n",
        "PROJECT_ID = !(gcloud config get-value core/project)\n",
        "PROJECT_ID = PROJECT_ID[0]"
      ]
    },
    {
      "cell_type": "markdown",
      "id": "1b1bea8f",
      "metadata": {
        "id": "1b1bea8f"
      },
      "source": [
        "**Note:** Replace the <code>REGION</code> with the associated region mentioned in the qwiklabs resource panel."
      ]
    },
    {
      "cell_type": "code",
      "execution_count": null,
      "id": "935a4807",
      "metadata": {
        "tags": [],
        "id": "935a4807"
      },
      "outputs": [],
      "source": [
        "BQ_LOCATION = 'US'\n",
        "REGION = 'us-central1'"
      ]
    },
    {
      "cell_type": "markdown",
      "id": "1b1bea9f",
      "metadata": {
        "id": "1b1bea9f"
      },
      "source": [
        "### Import libraries"
      ]
    },
    {
      "cell_type": "code",
      "execution_count": null,
      "id": "4afdade5",
      "metadata": {
        "tags": [],
        "id": "4afdade5"
      },
      "outputs": [],
      "source": [
        "from google.cloud import bigquery\n",
        "from google.cloud import aiplatform as vertexai\n",
        "import numpy as np\n",
        "import pandas as pd"
      ]
    },
    {
      "cell_type": "markdown",
      "id": "76acc5de",
      "metadata": {
        "id": "76acc5de"
      },
      "source": [
        "### Create a GCS bucket for artifact storage"
      ]
    },
    {
      "cell_type": "markdown",
      "id": "abc13d5c",
      "metadata": {
        "id": "abc13d5c"
      },
      "source": [
        "Create a globally unique Google Cloud Storage bucket for artifact storage. You will use this bucket to export your BQML model later in the lab and upload it to Vertex AI."
      ]
    },
    {
      "cell_type": "code",
      "execution_count": null,
      "id": "d7682097",
      "metadata": {
        "tags": [],
        "id": "d7682097"
      },
      "outputs": [],
      "source": [
        "GCS_BUCKET = f\"{PROJECT_ID}-bqmlga4\""
      ]
    },
    {
      "cell_type": "code",
      "execution_count": null,
      "id": "c003d940",
      "metadata": {
        "tags": [],
        "id": "c003d940"
      },
      "outputs": [],
      "source": [
        "!gsutil mb -l $REGION gs://$GCS_BUCKET"
      ]
    },
    {
      "cell_type": "markdown",
      "id": "cd34ed14",
      "metadata": {
        "id": "cd34ed14"
      },
      "source": [
        "### Create a BigQuery dataset"
      ]
    },
    {
      "cell_type": "markdown",
      "id": "a93d1373",
      "metadata": {
        "id": "a93d1373"
      },
      "source": [
        "Next, create a BigQuery dataset from this notebook using the Python-based [`bq` command line utility](https://cloud.google.com/bigquery/docs/bq-command-line-tool).\n",
        "\n",
        "This dataset will group your feature views, model, and predictions table together. You can view it in the [BigQuery](https://pantheon.corp.google.com/bigquery) console."
      ]
    },
    {
      "cell_type": "code",
      "execution_count": null,
      "id": "fd775fe7",
      "metadata": {
        "tags": [],
        "id": "fd775fe7"
      },
      "outputs": [],
      "source": [
        "BQ_DATASET = f\"{PROJECT_ID}:bqmlga4\""
      ]
    },
    {
      "cell_type": "code",
      "execution_count": null,
      "id": "53014527",
      "metadata": {
        "tags": [],
        "id": "53014527"
      },
      "outputs": [],
      "source": [
        "!bq mk --location={BQ_LOCATION} --dataset {BQ_DATASET}"
      ]
    },
    {
      "cell_type": "markdown",
      "id": "86c8624c",
      "metadata": {
        "id": "86c8624c"
      },
      "source": [
        "### Initialize the Vertex Python SDK client"
      ]
    },
    {
      "cell_type": "markdown",
      "id": "af877157",
      "metadata": {
        "id": "af877157"
      },
      "source": [
        "Import the Vertex SDK for Python into your Python environment and initialize it."
      ]
    },
    {
      "cell_type": "code",
      "execution_count": null,
      "id": "5d992f3c",
      "metadata": {
        "tags": [],
        "id": "5d992f3c"
      },
      "outputs": [],
      "source": [
        "vertexai.init(project=PROJECT_ID, location=REGION, staging_bucket=f\"gs://{GCS_BUCKET}\")"
      ]
    },
    {
      "cell_type": "markdown",
      "id": "45dc2862",
      "metadata": {
        "id": "45dc2862"
      },
      "source": [
        "## Exploratory Data Analysis (EDA) in BigQuery"
      ]
    },
    {
      "cell_type": "markdown",
      "id": "0cacbd08",
      "metadata": {
        "id": "0cacbd08"
      },
      "source": [
        "This lab uses a [public BigQuery dataset]() that contains raw event data from a real mobile gaming app called **Flood it!** ([Android app](https://play.google.com/store/apps/details?id=com.labpixies.flood), [iOS app](https://itunes.apple.com/us/app/flood-it!/id476943146?mt=8)).\n",
        "\n",
        "The data schema originates from Google Analytics for Firebase but is the same schema as [Google Analytics 4](https://support.google.com/analytics/answer/9358801).\n",
        "\n",
        "Take a look at a sample of the raw event dataset using the query below:"
      ]
    },
    {
      "cell_type": "code",
      "execution_count": null,
      "id": "049d2d38",
      "metadata": {
        "tags": [],
        "colab": {
          "referenced_widgets": [
            "06fca7b2341e4c6a80ee77a9329b1eae",
            "3b3857571d6e4a00aa1e0e69bc978a37"
          ]
        },
        "id": "049d2d38",
        "outputId": "e4884a6a-8552-41fe-d3c5-d84c7804897c"
      },
      "outputs": [
        {
          "data": {
            "application/vnd.jupyter.widget-view+json": {
              "model_id": "06fca7b2341e4c6a80ee77a9329b1eae",
              "version_major": 2,
              "version_minor": 0
            },
            "text/plain": [
              "Query is running:   0%|          |"
            ]
          },
          "metadata": {},
          "output_type": "display_data"
        },
        {
          "name": "stderr",
          "output_type": "stream",
          "text": [
            "/opt/conda/lib/python3.10/site-packages/google/cloud/bigquery/table.py:2309: UserWarning: Unable to represent RANGE schema as struct using pandas ArrowDtype. Using `object` instead. To use ArrowDtype, use pandas >= 1.5 and pyarrow >= 10.0.1.\n",
            "  warnings.warn(_RANGE_PYARROW_WARNING)\n",
            "/opt/conda/lib/python3.10/site-packages/google/cloud/bigquery/table.py:2323: UserWarning: Unable to represent RANGE schema as struct using pandas ArrowDtype. Using `object` instead. To use ArrowDtype, use pandas >= 1.5 and pyarrow >= 10.0.1.\n",
            "  warnings.warn(_RANGE_PYARROW_WARNING)\n",
            "/opt/conda/lib/python3.10/site-packages/google/cloud/bigquery/table.py:2337: UserWarning: Unable to represent RANGE schema as struct using pandas ArrowDtype. Using `object` instead. To use ArrowDtype, use pandas >= 1.5 and pyarrow >= 10.0.1.\n",
            "  warnings.warn(_RANGE_PYARROW_WARNING)\n"
          ]
        },
        {
          "data": {
            "application/vnd.jupyter.widget-view+json": {
              "model_id": "3b3857571d6e4a00aa1e0e69bc978a37",
              "version_major": 2,
              "version_minor": 0
            },
            "text/plain": [
              "Downloading:   0%|          |"
            ]
          },
          "metadata": {},
          "output_type": "display_data"
        },
        {
          "data": {
            "text/html": [
              "<div>\n",
              "<style scoped>\n",
              "    .dataframe tbody tr th:only-of-type {\n",
              "        vertical-align: middle;\n",
              "    }\n",
              "\n",
              "    .dataframe tbody tr th {\n",
              "        vertical-align: top;\n",
              "    }\n",
              "\n",
              "    .dataframe thead th {\n",
              "        text-align: right;\n",
              "    }\n",
              "</style>\n",
              "<table border=\"1\" class=\"dataframe\">\n",
              "  <thead>\n",
              "    <tr style=\"text-align: right;\">\n",
              "      <th></th>\n",
              "      <th>event_date</th>\n",
              "      <th>event_timestamp</th>\n",
              "      <th>event_name</th>\n",
              "      <th>event_params</th>\n",
              "      <th>event_previous_timestamp</th>\n",
              "      <th>event_value_in_usd</th>\n",
              "      <th>event_bundle_sequence_id</th>\n",
              "      <th>event_server_timestamp_offset</th>\n",
              "      <th>user_id</th>\n",
              "      <th>user_pseudo_id</th>\n",
              "      <th>user_properties</th>\n",
              "      <th>user_first_touch_timestamp</th>\n",
              "      <th>user_ltv</th>\n",
              "      <th>device</th>\n",
              "      <th>geo</th>\n",
              "      <th>app_info</th>\n",
              "      <th>traffic_source</th>\n",
              "      <th>stream_id</th>\n",
              "      <th>platform</th>\n",
              "      <th>event_dimensions</th>\n",
              "    </tr>\n",
              "  </thead>\n",
              "  <tbody>\n",
              "    <tr>\n",
              "      <th>0</th>\n",
              "      <td>20180616</td>\n",
              "      <td>1529195577844012</td>\n",
              "      <td>post_score</td>\n",
              "      <td>[{'key': 'time', 'value': {'string_value': Non...</td>\n",
              "      <td>1528260386964012</td>\n",
              "      <td>NaN</td>\n",
              "      <td>&lt;NA&gt;</td>\n",
              "      <td>&lt;NA&gt;</td>\n",
              "      <td>None</td>\n",
              "      <td>525E3BEE74AD824923CC04FE45E45B40</td>\n",
              "      <td>[{'key': 'ad_frequency', 'value': {'string_val...</td>\n",
              "      <td>1473814855637000</td>\n",
              "      <td>None</td>\n",
              "      <td>{'category': 'mobile', 'mobile_brand_name': 'n...</td>\n",
              "      <td>{'continent': 'Americas', 'country': 'United S...</td>\n",
              "      <td>{'id': 'com.labpixies.flood', 'version': '2.62...</td>\n",
              "      <td>{'name': '(direct)', 'medium': '(none)', 'sour...</td>\n",
              "      <td>1051193346</td>\n",
              "      <td>ANDROID</td>\n",
              "      <td>None</td>\n",
              "    </tr>\n",
              "    <tr>\n",
              "      <th>1</th>\n",
              "      <td>20180616</td>\n",
              "      <td>1529195635484011</td>\n",
              "      <td>post_score</td>\n",
              "      <td>[{'key': 'time', 'value': {'string_value': Non...</td>\n",
              "      <td>1529195496844011</td>\n",
              "      <td>NaN</td>\n",
              "      <td>&lt;NA&gt;</td>\n",
              "      <td>&lt;NA&gt;</td>\n",
              "      <td>None</td>\n",
              "      <td>525E3BEE74AD824923CC04FE45E45B40</td>\n",
              "      <td>[{'key': 'ad_frequency', 'value': {'string_val...</td>\n",
              "      <td>1473814855637000</td>\n",
              "      <td>None</td>\n",
              "      <td>{'category': 'mobile', 'mobile_brand_name': 'n...</td>\n",
              "      <td>{'continent': 'Americas', 'country': 'United S...</td>\n",
              "      <td>{'id': 'com.labpixies.flood', 'version': '2.62...</td>\n",
              "      <td>{'name': '(direct)', 'medium': '(none)', 'sour...</td>\n",
              "      <td>1051193346</td>\n",
              "      <td>ANDROID</td>\n",
              "      <td>None</td>\n",
              "    </tr>\n",
              "    <tr>\n",
              "      <th>2</th>\n",
              "      <td>20180616</td>\n",
              "      <td>1529195670568021</td>\n",
              "      <td>post_score</td>\n",
              "      <td>[{'key': 'time', 'value': {'string_value': Non...</td>\n",
              "      <td>1529195584484021</td>\n",
              "      <td>NaN</td>\n",
              "      <td>&lt;NA&gt;</td>\n",
              "      <td>&lt;NA&gt;</td>\n",
              "      <td>None</td>\n",
              "      <td>525E3BEE74AD824923CC04FE45E45B40</td>\n",
              "      <td>[{'key': 'ad_frequency', 'value': {'string_val...</td>\n",
              "      <td>1473814855637000</td>\n",
              "      <td>None</td>\n",
              "      <td>{'category': 'mobile', 'mobile_brand_name': 'n...</td>\n",
              "      <td>{'continent': 'Americas', 'country': 'United S...</td>\n",
              "      <td>{'id': 'com.labpixies.flood', 'version': '2.62...</td>\n",
              "      <td>{'name': '(direct)', 'medium': '(none)', 'sour...</td>\n",
              "      <td>1051193346</td>\n",
              "      <td>ANDROID</td>\n",
              "      <td>None</td>\n",
              "    </tr>\n",
              "    <tr>\n",
              "      <th>3</th>\n",
              "      <td>20180616</td>\n",
              "      <td>1529195674454031</td>\n",
              "      <td>post_score</td>\n",
              "      <td>[{'key': 'time', 'value': {'string_value': Non...</td>\n",
              "      <td>1529195612568031</td>\n",
              "      <td>NaN</td>\n",
              "      <td>&lt;NA&gt;</td>\n",
              "      <td>&lt;NA&gt;</td>\n",
              "      <td>None</td>\n",
              "      <td>525E3BEE74AD824923CC04FE45E45B40</td>\n",
              "      <td>[{'key': 'ad_frequency', 'value': {'string_val...</td>\n",
              "      <td>1473814855637000</td>\n",
              "      <td>None</td>\n",
              "      <td>{'category': 'mobile', 'mobile_brand_name': 'n...</td>\n",
              "      <td>{'continent': 'Americas', 'country': 'United S...</td>\n",
              "      <td>{'id': 'com.labpixies.flood', 'version': '2.62...</td>\n",
              "      <td>{'name': '(direct)', 'medium': '(none)', 'sour...</td>\n",
              "      <td>1051193346</td>\n",
              "      <td>ANDROID</td>\n",
              "      <td>None</td>\n",
              "    </tr>\n",
              "    <tr>\n",
              "      <th>4</th>\n",
              "      <td>20180616</td>\n",
              "      <td>1529195787478011</td>\n",
              "      <td>post_score</td>\n",
              "      <td>[{'key': 'time', 'value': {'string_value': Non...</td>\n",
              "      <td>1529195648454011</td>\n",
              "      <td>NaN</td>\n",
              "      <td>&lt;NA&gt;</td>\n",
              "      <td>&lt;NA&gt;</td>\n",
              "      <td>None</td>\n",
              "      <td>525E3BEE74AD824923CC04FE45E45B40</td>\n",
              "      <td>[{'key': 'ad_frequency', 'value': {'string_val...</td>\n",
              "      <td>1473814855637000</td>\n",
              "      <td>None</td>\n",
              "      <td>{'category': 'mobile', 'mobile_brand_name': 'n...</td>\n",
              "      <td>{'continent': 'Americas', 'country': 'United S...</td>\n",
              "      <td>{'id': 'com.labpixies.flood', 'version': '2.62...</td>\n",
              "      <td>{'name': '(direct)', 'medium': '(none)', 'sour...</td>\n",
              "      <td>1051193346</td>\n",
              "      <td>ANDROID</td>\n",
              "      <td>None</td>\n",
              "    </tr>\n",
              "    <tr>\n",
              "      <th>...</th>\n",
              "      <td>...</td>\n",
              "      <td>...</td>\n",
              "      <td>...</td>\n",
              "      <td>...</td>\n",
              "      <td>...</td>\n",
              "      <td>...</td>\n",
              "      <td>...</td>\n",
              "      <td>...</td>\n",
              "      <td>...</td>\n",
              "      <td>...</td>\n",
              "      <td>...</td>\n",
              "      <td>...</td>\n",
              "      <td>...</td>\n",
              "      <td>...</td>\n",
              "      <td>...</td>\n",
              "      <td>...</td>\n",
              "      <td>...</td>\n",
              "      <td>...</td>\n",
              "      <td>...</td>\n",
              "      <td>...</td>\n",
              "    </tr>\n",
              "    <tr>\n",
              "      <th>49995</th>\n",
              "      <td>20180616</td>\n",
              "      <td>1529202149042131</td>\n",
              "      <td>level_complete_quickplay</td>\n",
              "      <td>[{'key': 'value', 'value': {'string_value': No...</td>\n",
              "      <td>1529201861520131</td>\n",
              "      <td>NaN</td>\n",
              "      <td>&lt;NA&gt;</td>\n",
              "      <td>&lt;NA&gt;</td>\n",
              "      <td>None</td>\n",
              "      <td>3B4A6FCA6DCB4C2749409DC4188A306E</td>\n",
              "      <td>[{'key': 'first_open_time', 'value': {'string_...</td>\n",
              "      <td>1526444942454000</td>\n",
              "      <td>None</td>\n",
              "      <td>{'category': 'tablet', 'mobile_brand_name': 'n...</td>\n",
              "      <td>{'continent': 'Americas', 'country': 'United S...</td>\n",
              "      <td>{'id': 'com.google.flood2', 'version': '2.6.27...</td>\n",
              "      <td>{'name': '(direct)', 'medium': '(none)', 'sour...</td>\n",
              "      <td>1051193347</td>\n",
              "      <td>IOS</td>\n",
              "      <td>None</td>\n",
              "    </tr>\n",
              "    <tr>\n",
              "      <th>49996</th>\n",
              "      <td>20180616</td>\n",
              "      <td>1529202243826155</td>\n",
              "      <td>level_complete_quickplay</td>\n",
              "      <td>[{'key': 'value', 'value': {'string_value': No...</td>\n",
              "      <td>1529202118042155</td>\n",
              "      <td>NaN</td>\n",
              "      <td>&lt;NA&gt;</td>\n",
              "      <td>&lt;NA&gt;</td>\n",
              "      <td>None</td>\n",
              "      <td>3B4A6FCA6DCB4C2749409DC4188A306E</td>\n",
              "      <td>[{'key': 'first_open_time', 'value': {'string_...</td>\n",
              "      <td>1526444942454000</td>\n",
              "      <td>None</td>\n",
              "      <td>{'category': 'tablet', 'mobile_brand_name': 'n...</td>\n",
              "      <td>{'continent': 'Americas', 'country': 'United S...</td>\n",
              "      <td>{'id': 'com.google.flood2', 'version': '2.6.27...</td>\n",
              "      <td>{'name': '(direct)', 'medium': '(none)', 'sour...</td>\n",
              "      <td>1051193347</td>\n",
              "      <td>IOS</td>\n",
              "      <td>None</td>\n",
              "    </tr>\n",
              "    <tr>\n",
              "      <th>49997</th>\n",
              "      <td>20180616</td>\n",
              "      <td>1529202272336168</td>\n",
              "      <td>level_complete_quickplay</td>\n",
              "      <td>[{'key': 'value', 'value': {'string_value': No...</td>\n",
              "      <td>1529202172826168</td>\n",
              "      <td>NaN</td>\n",
              "      <td>&lt;NA&gt;</td>\n",
              "      <td>&lt;NA&gt;</td>\n",
              "      <td>None</td>\n",
              "      <td>3B4A6FCA6DCB4C2749409DC4188A306E</td>\n",
              "      <td>[{'key': 'first_open_time', 'value': {'string_...</td>\n",
              "      <td>1526444942454000</td>\n",
              "      <td>None</td>\n",
              "      <td>{'category': 'tablet', 'mobile_brand_name': 'n...</td>\n",
              "      <td>{'continent': 'Americas', 'country': 'United S...</td>\n",
              "      <td>{'id': 'com.google.flood2', 'version': '2.6.27...</td>\n",
              "      <td>{'name': '(direct)', 'medium': '(none)', 'sour...</td>\n",
              "      <td>1051193347</td>\n",
              "      <td>IOS</td>\n",
              "      <td>None</td>\n",
              "    </tr>\n",
              "    <tr>\n",
              "      <th>49998</th>\n",
              "      <td>20180616</td>\n",
              "      <td>1529202331440196</td>\n",
              "      <td>level_complete_quickplay</td>\n",
              "      <td>[{'key': 'value', 'value': {'string_value': No...</td>\n",
              "      <td>1529202223336196</td>\n",
              "      <td>NaN</td>\n",
              "      <td>&lt;NA&gt;</td>\n",
              "      <td>&lt;NA&gt;</td>\n",
              "      <td>None</td>\n",
              "      <td>3B4A6FCA6DCB4C2749409DC4188A306E</td>\n",
              "      <td>[{'key': 'first_open_time', 'value': {'string_...</td>\n",
              "      <td>1526444942454000</td>\n",
              "      <td>None</td>\n",
              "      <td>{'category': 'tablet', 'mobile_brand_name': 'n...</td>\n",
              "      <td>{'continent': 'Americas', 'country': 'United S...</td>\n",
              "      <td>{'id': 'com.google.flood2', 'version': '2.6.27...</td>\n",
              "      <td>{'name': '(direct)', 'medium': '(none)', 'sour...</td>\n",
              "      <td>1051193347</td>\n",
              "      <td>IOS</td>\n",
              "      <td>None</td>\n",
              "    </tr>\n",
              "    <tr>\n",
              "      <th>49999</th>\n",
              "      <td>20180616</td>\n",
              "      <td>1529202498756264</td>\n",
              "      <td>level_complete_quickplay</td>\n",
              "      <td>[{'key': 'value', 'value': {'string_value': No...</td>\n",
              "      <td>1529202328440264</td>\n",
              "      <td>NaN</td>\n",
              "      <td>&lt;NA&gt;</td>\n",
              "      <td>&lt;NA&gt;</td>\n",
              "      <td>None</td>\n",
              "      <td>3B4A6FCA6DCB4C2749409DC4188A306E</td>\n",
              "      <td>[{'key': 'first_open_time', 'value': {'string_...</td>\n",
              "      <td>1526444942454000</td>\n",
              "      <td>None</td>\n",
              "      <td>{'category': 'tablet', 'mobile_brand_name': 'n...</td>\n",
              "      <td>{'continent': 'Americas', 'country': 'United S...</td>\n",
              "      <td>{'id': 'com.google.flood2', 'version': '2.6.27...</td>\n",
              "      <td>{'name': '(direct)', 'medium': '(none)', 'sour...</td>\n",
              "      <td>1051193347</td>\n",
              "      <td>IOS</td>\n",
              "      <td>None</td>\n",
              "    </tr>\n",
              "  </tbody>\n",
              "</table>\n",
              "<p>50000 rows × 20 columns</p>\n",
              "</div>"
            ],
            "text/plain": [
              "      event_date   event_timestamp                event_name  \\\n",
              "0       20180616  1529195577844012                post_score   \n",
              "1       20180616  1529195635484011                post_score   \n",
              "2       20180616  1529195670568021                post_score   \n",
              "3       20180616  1529195674454031                post_score   \n",
              "4       20180616  1529195787478011                post_score   \n",
              "...          ...               ...                       ...   \n",
              "49995   20180616  1529202149042131  level_complete_quickplay   \n",
              "49996   20180616  1529202243826155  level_complete_quickplay   \n",
              "49997   20180616  1529202272336168  level_complete_quickplay   \n",
              "49998   20180616  1529202331440196  level_complete_quickplay   \n",
              "49999   20180616  1529202498756264  level_complete_quickplay   \n",
              "\n",
              "                                            event_params  \\\n",
              "0      [{'key': 'time', 'value': {'string_value': Non...   \n",
              "1      [{'key': 'time', 'value': {'string_value': Non...   \n",
              "2      [{'key': 'time', 'value': {'string_value': Non...   \n",
              "3      [{'key': 'time', 'value': {'string_value': Non...   \n",
              "4      [{'key': 'time', 'value': {'string_value': Non...   \n",
              "...                                                  ...   \n",
              "49995  [{'key': 'value', 'value': {'string_value': No...   \n",
              "49996  [{'key': 'value', 'value': {'string_value': No...   \n",
              "49997  [{'key': 'value', 'value': {'string_value': No...   \n",
              "49998  [{'key': 'value', 'value': {'string_value': No...   \n",
              "49999  [{'key': 'value', 'value': {'string_value': No...   \n",
              "\n",
              "       event_previous_timestamp  event_value_in_usd  event_bundle_sequence_id  \\\n",
              "0              1528260386964012                 NaN                      <NA>   \n",
              "1              1529195496844011                 NaN                      <NA>   \n",
              "2              1529195584484021                 NaN                      <NA>   \n",
              "3              1529195612568031                 NaN                      <NA>   \n",
              "4              1529195648454011                 NaN                      <NA>   \n",
              "...                         ...                 ...                       ...   \n",
              "49995          1529201861520131                 NaN                      <NA>   \n",
              "49996          1529202118042155                 NaN                      <NA>   \n",
              "49997          1529202172826168                 NaN                      <NA>   \n",
              "49998          1529202223336196                 NaN                      <NA>   \n",
              "49999          1529202328440264                 NaN                      <NA>   \n",
              "\n",
              "       event_server_timestamp_offset user_id  \\\n",
              "0                               <NA>    None   \n",
              "1                               <NA>    None   \n",
              "2                               <NA>    None   \n",
              "3                               <NA>    None   \n",
              "4                               <NA>    None   \n",
              "...                              ...     ...   \n",
              "49995                           <NA>    None   \n",
              "49996                           <NA>    None   \n",
              "49997                           <NA>    None   \n",
              "49998                           <NA>    None   \n",
              "49999                           <NA>    None   \n",
              "\n",
              "                         user_pseudo_id  \\\n",
              "0      525E3BEE74AD824923CC04FE45E45B40   \n",
              "1      525E3BEE74AD824923CC04FE45E45B40   \n",
              "2      525E3BEE74AD824923CC04FE45E45B40   \n",
              "3      525E3BEE74AD824923CC04FE45E45B40   \n",
              "4      525E3BEE74AD824923CC04FE45E45B40   \n",
              "...                                 ...   \n",
              "49995  3B4A6FCA6DCB4C2749409DC4188A306E   \n",
              "49996  3B4A6FCA6DCB4C2749409DC4188A306E   \n",
              "49997  3B4A6FCA6DCB4C2749409DC4188A306E   \n",
              "49998  3B4A6FCA6DCB4C2749409DC4188A306E   \n",
              "49999  3B4A6FCA6DCB4C2749409DC4188A306E   \n",
              "\n",
              "                                         user_properties  \\\n",
              "0      [{'key': 'ad_frequency', 'value': {'string_val...   \n",
              "1      [{'key': 'ad_frequency', 'value': {'string_val...   \n",
              "2      [{'key': 'ad_frequency', 'value': {'string_val...   \n",
              "3      [{'key': 'ad_frequency', 'value': {'string_val...   \n",
              "4      [{'key': 'ad_frequency', 'value': {'string_val...   \n",
              "...                                                  ...   \n",
              "49995  [{'key': 'first_open_time', 'value': {'string_...   \n",
              "49996  [{'key': 'first_open_time', 'value': {'string_...   \n",
              "49997  [{'key': 'first_open_time', 'value': {'string_...   \n",
              "49998  [{'key': 'first_open_time', 'value': {'string_...   \n",
              "49999  [{'key': 'first_open_time', 'value': {'string_...   \n",
              "\n",
              "       user_first_touch_timestamp user_ltv  \\\n",
              "0                1473814855637000     None   \n",
              "1                1473814855637000     None   \n",
              "2                1473814855637000     None   \n",
              "3                1473814855637000     None   \n",
              "4                1473814855637000     None   \n",
              "...                           ...      ...   \n",
              "49995            1526444942454000     None   \n",
              "49996            1526444942454000     None   \n",
              "49997            1526444942454000     None   \n",
              "49998            1526444942454000     None   \n",
              "49999            1526444942454000     None   \n",
              "\n",
              "                                                  device  \\\n",
              "0      {'category': 'mobile', 'mobile_brand_name': 'n...   \n",
              "1      {'category': 'mobile', 'mobile_brand_name': 'n...   \n",
              "2      {'category': 'mobile', 'mobile_brand_name': 'n...   \n",
              "3      {'category': 'mobile', 'mobile_brand_name': 'n...   \n",
              "4      {'category': 'mobile', 'mobile_brand_name': 'n...   \n",
              "...                                                  ...   \n",
              "49995  {'category': 'tablet', 'mobile_brand_name': 'n...   \n",
              "49996  {'category': 'tablet', 'mobile_brand_name': 'n...   \n",
              "49997  {'category': 'tablet', 'mobile_brand_name': 'n...   \n",
              "49998  {'category': 'tablet', 'mobile_brand_name': 'n...   \n",
              "49999  {'category': 'tablet', 'mobile_brand_name': 'n...   \n",
              "\n",
              "                                                     geo  \\\n",
              "0      {'continent': 'Americas', 'country': 'United S...   \n",
              "1      {'continent': 'Americas', 'country': 'United S...   \n",
              "2      {'continent': 'Americas', 'country': 'United S...   \n",
              "3      {'continent': 'Americas', 'country': 'United S...   \n",
              "4      {'continent': 'Americas', 'country': 'United S...   \n",
              "...                                                  ...   \n",
              "49995  {'continent': 'Americas', 'country': 'United S...   \n",
              "49996  {'continent': 'Americas', 'country': 'United S...   \n",
              "49997  {'continent': 'Americas', 'country': 'United S...   \n",
              "49998  {'continent': 'Americas', 'country': 'United S...   \n",
              "49999  {'continent': 'Americas', 'country': 'United S...   \n",
              "\n",
              "                                                app_info  \\\n",
              "0      {'id': 'com.labpixies.flood', 'version': '2.62...   \n",
              "1      {'id': 'com.labpixies.flood', 'version': '2.62...   \n",
              "2      {'id': 'com.labpixies.flood', 'version': '2.62...   \n",
              "3      {'id': 'com.labpixies.flood', 'version': '2.62...   \n",
              "4      {'id': 'com.labpixies.flood', 'version': '2.62...   \n",
              "...                                                  ...   \n",
              "49995  {'id': 'com.google.flood2', 'version': '2.6.27...   \n",
              "49996  {'id': 'com.google.flood2', 'version': '2.6.27...   \n",
              "49997  {'id': 'com.google.flood2', 'version': '2.6.27...   \n",
              "49998  {'id': 'com.google.flood2', 'version': '2.6.27...   \n",
              "49999  {'id': 'com.google.flood2', 'version': '2.6.27...   \n",
              "\n",
              "                                          traffic_source   stream_id platform  \\\n",
              "0      {'name': '(direct)', 'medium': '(none)', 'sour...  1051193346  ANDROID   \n",
              "1      {'name': '(direct)', 'medium': '(none)', 'sour...  1051193346  ANDROID   \n",
              "2      {'name': '(direct)', 'medium': '(none)', 'sour...  1051193346  ANDROID   \n",
              "3      {'name': '(direct)', 'medium': '(none)', 'sour...  1051193346  ANDROID   \n",
              "4      {'name': '(direct)', 'medium': '(none)', 'sour...  1051193346  ANDROID   \n",
              "...                                                  ...         ...      ...   \n",
              "49995  {'name': '(direct)', 'medium': '(none)', 'sour...  1051193347      IOS   \n",
              "49996  {'name': '(direct)', 'medium': '(none)', 'sour...  1051193347      IOS   \n",
              "49997  {'name': '(direct)', 'medium': '(none)', 'sour...  1051193347      IOS   \n",
              "49998  {'name': '(direct)', 'medium': '(none)', 'sour...  1051193347      IOS   \n",
              "49999  {'name': '(direct)', 'medium': '(none)', 'sour...  1051193347      IOS   \n",
              "\n",
              "      event_dimensions  \n",
              "0                 None  \n",
              "1                 None  \n",
              "2                 None  \n",
              "3                 None  \n",
              "4                 None  \n",
              "...                ...  \n",
              "49995             None  \n",
              "49996             None  \n",
              "49997             None  \n",
              "49998             None  \n",
              "49999             None  \n",
              "\n",
              "[50000 rows x 20 columns]"
            ]
          },
          "execution_count": 10,
          "metadata": {},
          "output_type": "execute_result"
        }
      ],
      "source": [
        "%%bigquery --project $PROJECT_ID\n",
        "\n",
        "SELECT\n",
        "    *\n",
        "FROM\n",
        "  `firebase-public-project.analytics_153293282.events_*`\n",
        "\n",
        "TABLESAMPLE SYSTEM (1 PERCENT)"
      ]
    },
    {
      "cell_type": "markdown",
      "id": "19c55a74",
      "metadata": {
        "id": "19c55a74"
      },
      "source": [
        "Note: in the cell above, Jupyterlab runs cells starting with `%%bigquery` as SQL queries."
      ]
    },
    {
      "cell_type": "markdown",
      "id": "301298d2",
      "metadata": {
        "id": "301298d2"
      },
      "source": [
        "Google Analytics 4 uses an event based measurement model and each row in this dataset is an event. View the [complete schema](https://support.google.com/analytics/answer/7029846) and details about each column. As you can see above, certain columns are nested records and contain detailed information such as:\n",
        "\n",
        "* app_info\n",
        "* device\n",
        "* ecommerce\n",
        "* event_params\n",
        "* geo\n",
        "* traffic_source\n",
        "* user_properties\n",
        "* items*\n",
        "* web_info*"
      ]
    },
    {
      "cell_type": "markdown",
      "id": "47bbd90b",
      "metadata": {
        "id": "47bbd90b"
      },
      "source": [
        "This dataset contains 5.7M events from 15K+ users."
      ]
    },
    {
      "cell_type": "code",
      "execution_count": null,
      "id": "80c0833a",
      "metadata": {
        "tags": [],
        "colab": {
          "referenced_widgets": [
            "0494f5f88cc04bdeb2fdee5a2e4622ad",
            "0198352159314d2496750ebe0b74ca1e"
          ]
        },
        "id": "80c0833a",
        "outputId": "1d71a7c1-cfdb-48e8-e511-ac5b9bb9774a"
      },
      "outputs": [
        {
          "data": {
            "application/vnd.jupyter.widget-view+json": {
              "model_id": "0494f5f88cc04bdeb2fdee5a2e4622ad",
              "version_major": 2,
              "version_minor": 0
            },
            "text/plain": [
              "Query is running:   0%|          |"
            ]
          },
          "metadata": {},
          "output_type": "display_data"
        },
        {
          "name": "stderr",
          "output_type": "stream",
          "text": [
            "/opt/conda/lib/python3.10/site-packages/google/cloud/bigquery/table.py:2309: UserWarning: Unable to represent RANGE schema as struct using pandas ArrowDtype. Using `object` instead. To use ArrowDtype, use pandas >= 1.5 and pyarrow >= 10.0.1.\n",
            "  warnings.warn(_RANGE_PYARROW_WARNING)\n",
            "/opt/conda/lib/python3.10/site-packages/google/cloud/bigquery/table.py:2323: UserWarning: Unable to represent RANGE schema as struct using pandas ArrowDtype. Using `object` instead. To use ArrowDtype, use pandas >= 1.5 and pyarrow >= 10.0.1.\n",
            "  warnings.warn(_RANGE_PYARROW_WARNING)\n",
            "/opt/conda/lib/python3.10/site-packages/google/cloud/bigquery/table.py:2337: UserWarning: Unable to represent RANGE schema as struct using pandas ArrowDtype. Using `object` instead. To use ArrowDtype, use pandas >= 1.5 and pyarrow >= 10.0.1.\n",
            "  warnings.warn(_RANGE_PYARROW_WARNING)\n"
          ]
        },
        {
          "data": {
            "application/vnd.jupyter.widget-view+json": {
              "model_id": "0198352159314d2496750ebe0b74ca1e",
              "version_major": 2,
              "version_minor": 0
            },
            "text/plain": [
              "Downloading:   0%|          |"
            ]
          },
          "metadata": {},
          "output_type": "display_data"
        },
        {
          "data": {
            "text/html": [
              "<div>\n",
              "<style scoped>\n",
              "    .dataframe tbody tr th:only-of-type {\n",
              "        vertical-align: middle;\n",
              "    }\n",
              "\n",
              "    .dataframe tbody tr th {\n",
              "        vertical-align: top;\n",
              "    }\n",
              "\n",
              "    .dataframe thead th {\n",
              "        text-align: right;\n",
              "    }\n",
              "</style>\n",
              "<table border=\"1\" class=\"dataframe\">\n",
              "  <thead>\n",
              "    <tr style=\"text-align: right;\">\n",
              "      <th></th>\n",
              "      <th>count_distinct_users</th>\n",
              "      <th>count_events</th>\n",
              "    </tr>\n",
              "  </thead>\n",
              "  <tbody>\n",
              "    <tr>\n",
              "      <th>0</th>\n",
              "      <td>15175</td>\n",
              "      <td>5700000</td>\n",
              "    </tr>\n",
              "  </tbody>\n",
              "</table>\n",
              "</div>"
            ],
            "text/plain": [
              "   count_distinct_users  count_events\n",
              "0                 15175       5700000"
            ]
          },
          "execution_count": 11,
          "metadata": {},
          "output_type": "execute_result"
        }
      ],
      "source": [
        "%%bigquery --project $PROJECT_ID\n",
        "\n",
        "SELECT\n",
        "    COUNT(DISTINCT user_pseudo_id) as count_distinct_users,\n",
        "    COUNT(event_timestamp) as count_events\n",
        "FROM\n",
        "  `firebase-public-project.analytics_153293282.events_*`"
      ]
    },
    {
      "cell_type": "markdown",
      "id": "764fbeaa",
      "metadata": {
        "id": "764fbeaa"
      },
      "source": [
        "## Dataset preparation in BigQuery"
      ]
    },
    {
      "cell_type": "markdown",
      "id": "751359e5",
      "metadata": {
        "id": "751359e5"
      },
      "source": [
        "Now that you have a better sense for the dataset you will be working with, you will walk through transforming raw event data into a dataset suitable for machine learning using SQL commands in BigQuery. Specifically, you will:\n",
        "\n",
        "* Aggregate events so that each row represents a separate unique user ID.\n",
        "* Define the **user churn label** feature to train your model to prediction (e.g. 1 = churned, 0 = returned).\n",
        "* Create **user demographic** features.\n",
        "* Create **user behavioral** features from aggregated application events."
      ]
    },
    {
      "cell_type": "markdown",
      "id": "0880f4fa",
      "metadata": {
        "id": "0880f4fa"
      },
      "source": [
        "### Defining churn for each user"
      ]
    },
    {
      "cell_type": "markdown",
      "id": "e71540a9",
      "metadata": {
        "id": "e71540a9"
      },
      "source": [
        "There are many ways to define user churn, but for the purposes of this lab, you will predict 1-day churn as users who do not come back and use the app again after 24 hr of the user's first engagement. This is meant to capture churn after a user's \"first impression\" of the application or onboarding experience.\n",
        "\n",
        "In other words, after 24 hr of a user's first engagement with the app:\n",
        "\n",
        "* if the user shows no event data thereafter, the user is considered **churned**.\n",
        "* if the user does have at least one event datapoint thereafter, then the user is considered **returned**.\n",
        "\n",
        "You may also want to remove users who were unlikely to have ever returned anyway after spending just a few minutes with the app, which is sometimes referred to as \"bouncing\". For example, you will build your model on only on users who spent at least 10 minutes with the app (users who didn't bounce).\n",
        "\n",
        "The query below defines a churned user with the following definition:\n",
        "\n",
        "**Churned = \"any user who spent at least 10 minutes on the app, but after 24 hour from when they first engaged with the app, never used the app again\"**\n",
        "\n",
        "You will use the raw event data, from their first touch (app installation) to their last touch, to identify churned and bounced users in the `user_churn` view query below:"
      ]
    },
    {
      "cell_type": "code",
      "execution_count": null,
      "id": "1ab5c7d3",
      "metadata": {
        "tags": [],
        "colab": {
          "referenced_widgets": [
            "e545fe98b7734c27b0365f3831c472b6",
            "ecee597817b9492a90fd86ee5c016160"
          ]
        },
        "id": "1ab5c7d3",
        "outputId": "a849644f-b1dd-4df5-9859-4bc8992a1fa0"
      },
      "outputs": [
        {
          "data": {
            "application/vnd.jupyter.widget-view+json": {
              "model_id": "e545fe98b7734c27b0365f3831c472b6",
              "version_major": 2,
              "version_minor": 0
            },
            "text/plain": [
              "Query is running:   0%|          |"
            ]
          },
          "metadata": {},
          "output_type": "display_data"
        },
        {
          "name": "stderr",
          "output_type": "stream",
          "text": [
            "/opt/conda/lib/python3.10/site-packages/google/cloud/bigquery/table.py:2309: UserWarning: Unable to represent RANGE schema as struct using pandas ArrowDtype. Using `object` instead. To use ArrowDtype, use pandas >= 1.5 and pyarrow >= 10.0.1.\n",
            "  warnings.warn(_RANGE_PYARROW_WARNING)\n",
            "/opt/conda/lib/python3.10/site-packages/google/cloud/bigquery/table.py:2323: UserWarning: Unable to represent RANGE schema as struct using pandas ArrowDtype. Using `object` instead. To use ArrowDtype, use pandas >= 1.5 and pyarrow >= 10.0.1.\n",
            "  warnings.warn(_RANGE_PYARROW_WARNING)\n",
            "/opt/conda/lib/python3.10/site-packages/google/cloud/bigquery/table.py:2337: UserWarning: Unable to represent RANGE schema as struct using pandas ArrowDtype. Using `object` instead. To use ArrowDtype, use pandas >= 1.5 and pyarrow >= 10.0.1.\n",
            "  warnings.warn(_RANGE_PYARROW_WARNING)\n"
          ]
        },
        {
          "data": {
            "application/vnd.jupyter.widget-view+json": {
              "model_id": "ecee597817b9492a90fd86ee5c016160",
              "version_major": 2,
              "version_minor": 0
            },
            "text/plain": [
              "Downloading:   0%|          |"
            ]
          },
          "metadata": {},
          "output_type": "display_data"
        },
        {
          "data": {
            "text/html": [
              "<div>\n",
              "<style scoped>\n",
              "    .dataframe tbody tr th:only-of-type {\n",
              "        vertical-align: middle;\n",
              "    }\n",
              "\n",
              "    .dataframe tbody tr th {\n",
              "        vertical-align: top;\n",
              "    }\n",
              "\n",
              "    .dataframe thead th {\n",
              "        text-align: right;\n",
              "    }\n",
              "</style>\n",
              "<table border=\"1\" class=\"dataframe\">\n",
              "  <thead>\n",
              "    <tr style=\"text-align: right;\">\n",
              "      <th></th>\n",
              "      <th>user_pseudo_id</th>\n",
              "      <th>user_first_engagement</th>\n",
              "      <th>user_last_engagement</th>\n",
              "      <th>month</th>\n",
              "      <th>julianday</th>\n",
              "      <th>dayofweek</th>\n",
              "      <th>ts_24hr_after_first_engagement</th>\n",
              "      <th>churned</th>\n",
              "      <th>bounced</th>\n",
              "    </tr>\n",
              "  </thead>\n",
              "  <tbody>\n",
              "    <tr>\n",
              "      <th>0</th>\n",
              "      <td>053FFBAB6879C1E7E1915E40C191F61D</td>\n",
              "      <td>1531819971119000</td>\n",
              "      <td>1532245516392115</td>\n",
              "      <td>7</td>\n",
              "      <td>198</td>\n",
              "      <td>3</td>\n",
              "      <td>1531906371119000</td>\n",
              "      <td>0</td>\n",
              "      <td>0</td>\n",
              "    </tr>\n",
              "    <tr>\n",
              "      <th>1</th>\n",
              "      <td>6C6ADA016A904C44E1B33AED914C9AC1</td>\n",
              "      <td>1529503182487000</td>\n",
              "      <td>1531953357486004</td>\n",
              "      <td>6</td>\n",
              "      <td>171</td>\n",
              "      <td>4</td>\n",
              "      <td>1529589582487000</td>\n",
              "      <td>0</td>\n",
              "      <td>0</td>\n",
              "    </tr>\n",
              "    <tr>\n",
              "      <th>2</th>\n",
              "      <td>CE1C624EB679BFFE8B9B9001DEC566C1</td>\n",
              "      <td>1531929182728002</td>\n",
              "      <td>1537779593806005</td>\n",
              "      <td>7</td>\n",
              "      <td>199</td>\n",
              "      <td>4</td>\n",
              "      <td>1532015582728002</td>\n",
              "      <td>0</td>\n",
              "      <td>0</td>\n",
              "    </tr>\n",
              "    <tr>\n",
              "      <th>3</th>\n",
              "      <td>3827BA312204EA6F6847DFA4222C90CC</td>\n",
              "      <td>1530329690789007</td>\n",
              "      <td>1538618311615003</td>\n",
              "      <td>6</td>\n",
              "      <td>181</td>\n",
              "      <td>7</td>\n",
              "      <td>1530416090789007</td>\n",
              "      <td>0</td>\n",
              "      <td>0</td>\n",
              "    </tr>\n",
              "    <tr>\n",
              "      <th>4</th>\n",
              "      <td>BE36C49B1AB3968D420923AEC4FDD7AE</td>\n",
              "      <td>1529369892467002</td>\n",
              "      <td>1538629637128002</td>\n",
              "      <td>6</td>\n",
              "      <td>170</td>\n",
              "      <td>3</td>\n",
              "      <td>1529456292467002</td>\n",
              "      <td>0</td>\n",
              "      <td>0</td>\n",
              "    </tr>\n",
              "    <tr>\n",
              "      <th>...</th>\n",
              "      <td>...</td>\n",
              "      <td>...</td>\n",
              "      <td>...</td>\n",
              "      <td>...</td>\n",
              "      <td>...</td>\n",
              "      <td>...</td>\n",
              "      <td>...</td>\n",
              "      <td>...</td>\n",
              "      <td>...</td>\n",
              "    </tr>\n",
              "    <tr>\n",
              "      <th>95</th>\n",
              "      <td>991661EC6CD7D20C2A908B2636541F42</td>\n",
              "      <td>1528790294605002</td>\n",
              "      <td>1530343331501034</td>\n",
              "      <td>6</td>\n",
              "      <td>163</td>\n",
              "      <td>3</td>\n",
              "      <td>1528876694605002</td>\n",
              "      <td>0</td>\n",
              "      <td>0</td>\n",
              "    </tr>\n",
              "    <tr>\n",
              "      <th>96</th>\n",
              "      <td>FBB24C8D588093143C8ECF4F955E1AFE</td>\n",
              "      <td>1529957095329002</td>\n",
              "      <td>1529958133830005</td>\n",
              "      <td>6</td>\n",
              "      <td>176</td>\n",
              "      <td>2</td>\n",
              "      <td>1530043495329002</td>\n",
              "      <td>1</td>\n",
              "      <td>0</td>\n",
              "    </tr>\n",
              "    <tr>\n",
              "      <th>97</th>\n",
              "      <td>ABAB035D29747031CFA40DB07F42424F</td>\n",
              "      <td>1529922158966003</td>\n",
              "      <td>1529922158966003</td>\n",
              "      <td>6</td>\n",
              "      <td>176</td>\n",
              "      <td>2</td>\n",
              "      <td>1530008558966003</td>\n",
              "      <td>1</td>\n",
              "      <td>1</td>\n",
              "    </tr>\n",
              "    <tr>\n",
              "      <th>98</th>\n",
              "      <td>9401992FBA78E40EC900D3E89EF1C75F</td>\n",
              "      <td>1529790401834001</td>\n",
              "      <td>1529985025488002</td>\n",
              "      <td>6</td>\n",
              "      <td>174</td>\n",
              "      <td>7</td>\n",
              "      <td>1529876801834001</td>\n",
              "      <td>0</td>\n",
              "      <td>0</td>\n",
              "    </tr>\n",
              "    <tr>\n",
              "      <th>99</th>\n",
              "      <td>619551616653F2DEA9D7E773AB4914DB</td>\n",
              "      <td>1529070056944006</td>\n",
              "      <td>1530045513502007</td>\n",
              "      <td>6</td>\n",
              "      <td>166</td>\n",
              "      <td>6</td>\n",
              "      <td>1529156456944006</td>\n",
              "      <td>0</td>\n",
              "      <td>0</td>\n",
              "    </tr>\n",
              "  </tbody>\n",
              "</table>\n",
              "<p>100 rows × 9 columns</p>\n",
              "</div>"
            ],
            "text/plain": [
              "                      user_pseudo_id  user_first_engagement  \\\n",
              "0   053FFBAB6879C1E7E1915E40C191F61D       1531819971119000   \n",
              "1   6C6ADA016A904C44E1B33AED914C9AC1       1529503182487000   \n",
              "2   CE1C624EB679BFFE8B9B9001DEC566C1       1531929182728002   \n",
              "3   3827BA312204EA6F6847DFA4222C90CC       1530329690789007   \n",
              "4   BE36C49B1AB3968D420923AEC4FDD7AE       1529369892467002   \n",
              "..                               ...                    ...   \n",
              "95  991661EC6CD7D20C2A908B2636541F42       1528790294605002   \n",
              "96  FBB24C8D588093143C8ECF4F955E1AFE       1529957095329002   \n",
              "97  ABAB035D29747031CFA40DB07F42424F       1529922158966003   \n",
              "98  9401992FBA78E40EC900D3E89EF1C75F       1529790401834001   \n",
              "99  619551616653F2DEA9D7E773AB4914DB       1529070056944006   \n",
              "\n",
              "    user_last_engagement  month  julianday  dayofweek  \\\n",
              "0       1532245516392115      7        198          3   \n",
              "1       1531953357486004      6        171          4   \n",
              "2       1537779593806005      7        199          4   \n",
              "3       1538618311615003      6        181          7   \n",
              "4       1538629637128002      6        170          3   \n",
              "..                   ...    ...        ...        ...   \n",
              "95      1530343331501034      6        163          3   \n",
              "96      1529958133830005      6        176          2   \n",
              "97      1529922158966003      6        176          2   \n",
              "98      1529985025488002      6        174          7   \n",
              "99      1530045513502007      6        166          6   \n",
              "\n",
              "    ts_24hr_after_first_engagement  churned  bounced  \n",
              "0                 1531906371119000        0        0  \n",
              "1                 1529589582487000        0        0  \n",
              "2                 1532015582728002        0        0  \n",
              "3                 1530416090789007        0        0  \n",
              "4                 1529456292467002        0        0  \n",
              "..                             ...      ...      ...  \n",
              "95                1528876694605002        0        0  \n",
              "96                1530043495329002        1        0  \n",
              "97                1530008558966003        1        1  \n",
              "98                1529876801834001        0        0  \n",
              "99                1529156456944006        0        0  \n",
              "\n",
              "[100 rows x 9 columns]"
            ]
          },
          "execution_count": 12,
          "metadata": {},
          "output_type": "execute_result"
        }
      ],
      "source": [
        "%%bigquery --project $PROJECT_ID\n",
        "\n",
        "CREATE OR REPLACE VIEW bqmlga4.user_churn AS (\n",
        "  WITH firstlasttouch AS (\n",
        "    SELECT\n",
        "      user_pseudo_id,\n",
        "      MIN(event_timestamp) AS user_first_engagement,\n",
        "      MAX(event_timestamp) AS user_last_engagement\n",
        "    FROM\n",
        "      `firebase-public-project.analytics_153293282.events_*`\n",
        "    WHERE event_name=\"user_engagement\"\n",
        "    GROUP BY\n",
        "      user_pseudo_id\n",
        "\n",
        "  )\n",
        "\n",
        "SELECT\n",
        "    user_pseudo_id,\n",
        "    user_first_engagement,\n",
        "    user_last_engagement,\n",
        "    EXTRACT(MONTH from TIMESTAMP_MICROS(user_first_engagement)) as month,\n",
        "    EXTRACT(DAYOFYEAR from TIMESTAMP_MICROS(user_first_engagement)) as julianday,\n",
        "    EXTRACT(DAYOFWEEK from TIMESTAMP_MICROS(user_first_engagement)) as dayofweek,\n",
        "\n",
        "    #add 24 hr to user's first touch\n",
        "    (user_first_engagement + 86400000000) AS ts_24hr_after_first_engagement,\n",
        "\n",
        "    #churned = 1 if last_touch within 24 hr of app installation, else 0\n",
        "    IF (user_last_engagement < (user_first_engagement + 86400000000),\n",
        "    1,\n",
        "    0 ) AS churned,\n",
        "\n",
        "    #bounced = 1 if last_touch within 10 min, else 0\n",
        "    IF (user_last_engagement <= (user_first_engagement + 600000000),\n",
        "    1,\n",
        "    0 ) AS bounced,\n",
        "  FROM\n",
        "    firstlasttouch\n",
        "  GROUP BY\n",
        "    user_pseudo_id,\n",
        "    user_first_engagement,\n",
        "    user_last_engagement\n",
        "    );\n",
        "\n",
        "SELECT\n",
        "  *\n",
        "FROM\n",
        "  bqmlga4.user_churn\n",
        "LIMIT 100;"
      ]
    },
    {
      "cell_type": "markdown",
      "id": "b731ce4c",
      "metadata": {
        "id": "b731ce4c"
      },
      "source": [
        "Review how many of the 15k users bounced and returned below:"
      ]
    },
    {
      "cell_type": "code",
      "execution_count": null,
      "id": "51cdaa9e",
      "metadata": {
        "tags": [],
        "colab": {
          "referenced_widgets": [
            "a3a2194c38044b0c8b75f3d967d86d70",
            "ff695e20fd9c4d0ba828345d35379f16"
          ]
        },
        "id": "51cdaa9e",
        "outputId": "48d43879-4f6f-420e-b7b7-785dd4894bd8"
      },
      "outputs": [
        {
          "data": {
            "application/vnd.jupyter.widget-view+json": {
              "model_id": "a3a2194c38044b0c8b75f3d967d86d70",
              "version_major": 2,
              "version_minor": 0
            },
            "text/plain": [
              "Query is running:   0%|          |"
            ]
          },
          "metadata": {},
          "output_type": "display_data"
        },
        {
          "name": "stderr",
          "output_type": "stream",
          "text": [
            "/opt/conda/lib/python3.10/site-packages/google/cloud/bigquery/table.py:2309: UserWarning: Unable to represent RANGE schema as struct using pandas ArrowDtype. Using `object` instead. To use ArrowDtype, use pandas >= 1.5 and pyarrow >= 10.0.1.\n",
            "  warnings.warn(_RANGE_PYARROW_WARNING)\n",
            "/opt/conda/lib/python3.10/site-packages/google/cloud/bigquery/table.py:2323: UserWarning: Unable to represent RANGE schema as struct using pandas ArrowDtype. Using `object` instead. To use ArrowDtype, use pandas >= 1.5 and pyarrow >= 10.0.1.\n",
            "  warnings.warn(_RANGE_PYARROW_WARNING)\n",
            "/opt/conda/lib/python3.10/site-packages/google/cloud/bigquery/table.py:2337: UserWarning: Unable to represent RANGE schema as struct using pandas ArrowDtype. Using `object` instead. To use ArrowDtype, use pandas >= 1.5 and pyarrow >= 10.0.1.\n",
            "  warnings.warn(_RANGE_PYARROW_WARNING)\n"
          ]
        },
        {
          "data": {
            "application/vnd.jupyter.widget-view+json": {
              "model_id": "ff695e20fd9c4d0ba828345d35379f16",
              "version_major": 2,
              "version_minor": 0
            },
            "text/plain": [
              "Downloading:   0%|          |"
            ]
          },
          "metadata": {},
          "output_type": "display_data"
        },
        {
          "data": {
            "text/html": [
              "<div>\n",
              "<style scoped>\n",
              "    .dataframe tbody tr th:only-of-type {\n",
              "        vertical-align: middle;\n",
              "    }\n",
              "\n",
              "    .dataframe tbody tr th {\n",
              "        vertical-align: top;\n",
              "    }\n",
              "\n",
              "    .dataframe thead th {\n",
              "        text-align: right;\n",
              "    }\n",
              "</style>\n",
              "<table border=\"1\" class=\"dataframe\">\n",
              "  <thead>\n",
              "    <tr style=\"text-align: right;\">\n",
              "      <th></th>\n",
              "      <th>bounced</th>\n",
              "      <th>churned</th>\n",
              "      <th>count_users</th>\n",
              "    </tr>\n",
              "  </thead>\n",
              "  <tbody>\n",
              "    <tr>\n",
              "      <th>0</th>\n",
              "      <td>0</td>\n",
              "      <td>0</td>\n",
              "      <td>6148</td>\n",
              "    </tr>\n",
              "    <tr>\n",
              "      <th>1</th>\n",
              "      <td>0</td>\n",
              "      <td>1</td>\n",
              "      <td>1883</td>\n",
              "    </tr>\n",
              "    <tr>\n",
              "      <th>2</th>\n",
              "      <td>1</td>\n",
              "      <td>1</td>\n",
              "      <td>5557</td>\n",
              "    </tr>\n",
              "  </tbody>\n",
              "</table>\n",
              "</div>"
            ],
            "text/plain": [
              "   bounced  churned  count_users\n",
              "0        0        0         6148\n",
              "1        0        1         1883\n",
              "2        1        1         5557"
            ]
          },
          "execution_count": 13,
          "metadata": {},
          "output_type": "execute_result"
        }
      ],
      "source": [
        "%%bigquery --project $PROJECT_ID\n",
        "\n",
        "SELECT\n",
        "    bounced,\n",
        "    churned,\n",
        "    COUNT(churned) as count_users\n",
        "FROM\n",
        "    bqmlga4.user_churn\n",
        "GROUP BY\n",
        "  bounced,\n",
        "  churned\n",
        "ORDER BY\n",
        "  bounced"
      ]
    },
    {
      "cell_type": "markdown",
      "id": "ab1fc447",
      "metadata": {
        "id": "ab1fc447"
      },
      "source": [
        "For the training data, you will only end up using data where bounced = 0. Based on the 15k users, you can see that 5,557 ( about 41%) users bounced within the first ten minutes of their first engagement with the app. Of the remaining 8,031 users, 1,883 users ( about 23%) churned after 24 hours which you can validate with the query below:"
      ]
    },
    {
      "cell_type": "code",
      "execution_count": null,
      "id": "b9ae920e",
      "metadata": {
        "tags": [],
        "colab": {
          "referenced_widgets": [
            "e6e5ba859d1246acbcd972458af8c136",
            "5eb857ae93e94733b235d5bdeb6e8a37"
          ]
        },
        "id": "b9ae920e",
        "outputId": "ebd5b44e-2612-469a-f856-26a985b58b7d"
      },
      "outputs": [
        {
          "data": {
            "application/vnd.jupyter.widget-view+json": {
              "model_id": "e6e5ba859d1246acbcd972458af8c136",
              "version_major": 2,
              "version_minor": 0
            },
            "text/plain": [
              "Query is running:   0%|          |"
            ]
          },
          "metadata": {},
          "output_type": "display_data"
        },
        {
          "name": "stderr",
          "output_type": "stream",
          "text": [
            "/opt/conda/lib/python3.10/site-packages/google/cloud/bigquery/table.py:2309: UserWarning: Unable to represent RANGE schema as struct using pandas ArrowDtype. Using `object` instead. To use ArrowDtype, use pandas >= 1.5 and pyarrow >= 10.0.1.\n",
            "  warnings.warn(_RANGE_PYARROW_WARNING)\n",
            "/opt/conda/lib/python3.10/site-packages/google/cloud/bigquery/table.py:2323: UserWarning: Unable to represent RANGE schema as struct using pandas ArrowDtype. Using `object` instead. To use ArrowDtype, use pandas >= 1.5 and pyarrow >= 10.0.1.\n",
            "  warnings.warn(_RANGE_PYARROW_WARNING)\n",
            "/opt/conda/lib/python3.10/site-packages/google/cloud/bigquery/table.py:2337: UserWarning: Unable to represent RANGE schema as struct using pandas ArrowDtype. Using `object` instead. To use ArrowDtype, use pandas >= 1.5 and pyarrow >= 10.0.1.\n",
            "  warnings.warn(_RANGE_PYARROW_WARNING)\n"
          ]
        },
        {
          "data": {
            "application/vnd.jupyter.widget-view+json": {
              "model_id": "5eb857ae93e94733b235d5bdeb6e8a37",
              "version_major": 2,
              "version_minor": 0
            },
            "text/plain": [
              "Downloading:   0%|          |"
            ]
          },
          "metadata": {},
          "output_type": "display_data"
        },
        {
          "data": {
            "text/html": [
              "<div>\n",
              "<style scoped>\n",
              "    .dataframe tbody tr th:only-of-type {\n",
              "        vertical-align: middle;\n",
              "    }\n",
              "\n",
              "    .dataframe tbody tr th {\n",
              "        vertical-align: top;\n",
              "    }\n",
              "\n",
              "    .dataframe thead th {\n",
              "        text-align: right;\n",
              "    }\n",
              "</style>\n",
              "<table border=\"1\" class=\"dataframe\">\n",
              "  <thead>\n",
              "    <tr style=\"text-align: right;\">\n",
              "      <th></th>\n",
              "      <th>churn_rate</th>\n",
              "    </tr>\n",
              "  </thead>\n",
              "  <tbody>\n",
              "    <tr>\n",
              "      <th>0</th>\n",
              "      <td>0.234466</td>\n",
              "    </tr>\n",
              "  </tbody>\n",
              "</table>\n",
              "</div>"
            ],
            "text/plain": [
              "   churn_rate\n",
              "0    0.234466"
            ]
          },
          "execution_count": 14,
          "metadata": {},
          "output_type": "execute_result"
        }
      ],
      "source": [
        "%%bigquery --project $PROJECT_ID\n",
        "\n",
        "SELECT\n",
        "    COUNTIF(churned=1)/COUNT(churned) as churn_rate\n",
        "FROM\n",
        "    bqmlga4.user_churn\n",
        "WHERE bounced = 0"
      ]
    },
    {
      "cell_type": "markdown",
      "id": "aef78f94",
      "metadata": {
        "id": "aef78f94"
      },
      "source": [
        "### Extract user demographic features"
      ]
    },
    {
      "cell_type": "markdown",
      "id": "dfea3b94",
      "metadata": {
        "id": "dfea3b94"
      },
      "source": [
        "There is various user demographic information included in this dataset, including `app_info`, `device`, `ecommerce`, `event_params`, and `geo`. Demographic features can help the model predict whether users on certain devices or countries are more likely to churn.\n",
        "\n",
        "Note that a user's demographics may occasionally change (e.g. moving countries). For simplicity, you will use the demographic information that Google Analytics 4 provides when the user first engaged with the app as indicated by MIN(event_timestamp) in the query below. This enables every unique user to be represented by a single row."
      ]
    },
    {
      "cell_type": "code",
      "execution_count": null,
      "id": "bd36306f",
      "metadata": {
        "tags": [],
        "colab": {
          "referenced_widgets": [
            "7a619ed8703d4126bec53569d526b8bb",
            "95bae219df1f4d08ac0cf137a6204ab2"
          ]
        },
        "id": "bd36306f",
        "outputId": "8c2ccfc3-45db-44d6-8309-b6b6c5fddc24"
      },
      "outputs": [
        {
          "data": {
            "application/vnd.jupyter.widget-view+json": {
              "model_id": "7a619ed8703d4126bec53569d526b8bb",
              "version_major": 2,
              "version_minor": 0
            },
            "text/plain": [
              "Query is running:   0%|          |"
            ]
          },
          "metadata": {},
          "output_type": "display_data"
        },
        {
          "name": "stderr",
          "output_type": "stream",
          "text": [
            "/opt/conda/lib/python3.10/site-packages/google/cloud/bigquery/table.py:2309: UserWarning: Unable to represent RANGE schema as struct using pandas ArrowDtype. Using `object` instead. To use ArrowDtype, use pandas >= 1.5 and pyarrow >= 10.0.1.\n",
            "  warnings.warn(_RANGE_PYARROW_WARNING)\n",
            "/opt/conda/lib/python3.10/site-packages/google/cloud/bigquery/table.py:2323: UserWarning: Unable to represent RANGE schema as struct using pandas ArrowDtype. Using `object` instead. To use ArrowDtype, use pandas >= 1.5 and pyarrow >= 10.0.1.\n",
            "  warnings.warn(_RANGE_PYARROW_WARNING)\n",
            "/opt/conda/lib/python3.10/site-packages/google/cloud/bigquery/table.py:2337: UserWarning: Unable to represent RANGE schema as struct using pandas ArrowDtype. Using `object` instead. To use ArrowDtype, use pandas >= 1.5 and pyarrow >= 10.0.1.\n",
            "  warnings.warn(_RANGE_PYARROW_WARNING)\n"
          ]
        },
        {
          "data": {
            "application/vnd.jupyter.widget-view+json": {
              "model_id": "95bae219df1f4d08ac0cf137a6204ab2",
              "version_major": 2,
              "version_minor": 0
            },
            "text/plain": [
              "Downloading:   0%|          |"
            ]
          },
          "metadata": {},
          "output_type": "display_data"
        },
        {
          "data": {
            "text/html": [
              "<div>\n",
              "<style scoped>\n",
              "    .dataframe tbody tr th:only-of-type {\n",
              "        vertical-align: middle;\n",
              "    }\n",
              "\n",
              "    .dataframe tbody tr th {\n",
              "        vertical-align: top;\n",
              "    }\n",
              "\n",
              "    .dataframe thead th {\n",
              "        text-align: right;\n",
              "    }\n",
              "</style>\n",
              "<table border=\"1\" class=\"dataframe\">\n",
              "  <thead>\n",
              "    <tr style=\"text-align: right;\">\n",
              "      <th></th>\n",
              "      <th>user_pseudo_id</th>\n",
              "      <th>country</th>\n",
              "      <th>operating_system</th>\n",
              "      <th>language</th>\n",
              "    </tr>\n",
              "  </thead>\n",
              "  <tbody>\n",
              "    <tr>\n",
              "      <th>0</th>\n",
              "      <td>0076E7184159D1696E773FA2CCB9232B</td>\n",
              "      <td>Kenya</td>\n",
              "      <td>ANDROID</td>\n",
              "      <td>en-us</td>\n",
              "    </tr>\n",
              "    <tr>\n",
              "      <th>1</th>\n",
              "      <td>01EFA17691732F16F33DB0D566E56489</td>\n",
              "      <td>United States</td>\n",
              "      <td>IOS</td>\n",
              "      <td>en-us</td>\n",
              "    </tr>\n",
              "    <tr>\n",
              "      <th>2</th>\n",
              "      <td>03C785126C8E65CF455DFF3C671E5DC0</td>\n",
              "      <td>Japan</td>\n",
              "      <td>IOS</td>\n",
              "      <td>ja-jp</td>\n",
              "    </tr>\n",
              "    <tr>\n",
              "      <th>3</th>\n",
              "      <td>0446949CDEB27AEA0A1151792973D6FB</td>\n",
              "      <td>United States</td>\n",
              "      <td>ANDROID</td>\n",
              "      <td>en-us</td>\n",
              "    </tr>\n",
              "    <tr>\n",
              "      <th>4</th>\n",
              "      <td>04BF859610A5781EA9A329E23ACB99E0</td>\n",
              "      <td>United States</td>\n",
              "      <td>IOS</td>\n",
              "      <td>en-us</td>\n",
              "    </tr>\n",
              "    <tr>\n",
              "      <th>5</th>\n",
              "      <td>060D19333BDE9DED4C0B12F16CB944C1</td>\n",
              "      <td>United States</td>\n",
              "      <td>ANDROID</td>\n",
              "      <td>en-us</td>\n",
              "    </tr>\n",
              "    <tr>\n",
              "      <th>6</th>\n",
              "      <td>081DFC5474DE9D3546A3CDE26508B940</td>\n",
              "      <td>United States</td>\n",
              "      <td>IOS</td>\n",
              "      <td>en-us</td>\n",
              "    </tr>\n",
              "    <tr>\n",
              "      <th>7</th>\n",
              "      <td>08F49AE3873CD29051069E11B098C57E</td>\n",
              "      <td>United States</td>\n",
              "      <td>ANDROID</td>\n",
              "      <td>en-us</td>\n",
              "    </tr>\n",
              "    <tr>\n",
              "      <th>8</th>\n",
              "      <td>0A9710D5EF9520ED2030965DE41E7436</td>\n",
              "      <td>United States</td>\n",
              "      <td>IOS</td>\n",
              "      <td>en-us</td>\n",
              "    </tr>\n",
              "    <tr>\n",
              "      <th>9</th>\n",
              "      <td>0FA4172072DD4592CFB3CA5FF90CB907</td>\n",
              "      <td>United States</td>\n",
              "      <td>None</td>\n",
              "      <td>en-us</td>\n",
              "    </tr>\n",
              "  </tbody>\n",
              "</table>\n",
              "</div>"
            ],
            "text/plain": [
              "                     user_pseudo_id        country operating_system language\n",
              "0  0076E7184159D1696E773FA2CCB9232B          Kenya          ANDROID    en-us\n",
              "1  01EFA17691732F16F33DB0D566E56489  United States              IOS    en-us\n",
              "2  03C785126C8E65CF455DFF3C671E5DC0          Japan              IOS    ja-jp\n",
              "3  0446949CDEB27AEA0A1151792973D6FB  United States          ANDROID    en-us\n",
              "4  04BF859610A5781EA9A329E23ACB99E0  United States              IOS    en-us\n",
              "5  060D19333BDE9DED4C0B12F16CB944C1  United States          ANDROID    en-us\n",
              "6  081DFC5474DE9D3546A3CDE26508B940  United States              IOS    en-us\n",
              "7  08F49AE3873CD29051069E11B098C57E  United States          ANDROID    en-us\n",
              "8  0A9710D5EF9520ED2030965DE41E7436  United States              IOS    en-us\n",
              "9  0FA4172072DD4592CFB3CA5FF90CB907  United States             None    en-us"
            ]
          },
          "execution_count": 15,
          "metadata": {},
          "output_type": "execute_result"
        }
      ],
      "source": [
        "%%bigquery --project $PROJECT_ID\n",
        "\n",
        "CREATE OR REPLACE VIEW bqmlga4.user_demographics AS (\n",
        "\n",
        "  WITH first_values AS (\n",
        "      SELECT\n",
        "          user_pseudo_id,\n",
        "          geo.country as country,\n",
        "          device.operating_system as operating_system,\n",
        "          device.language as language,\n",
        "          ROW_NUMBER() OVER (PARTITION BY user_pseudo_id ORDER BY event_timestamp DESC) AS row_num\n",
        "      FROM `firebase-public-project.analytics_153293282.events_*`\n",
        "      WHERE event_name=\"user_engagement\"\n",
        "      )\n",
        "  SELECT * EXCEPT (row_num)\n",
        "  FROM first_values\n",
        "  WHERE row_num = 1\n",
        "  );\n",
        "\n",
        "SELECT\n",
        "  *\n",
        "FROM\n",
        "  bqmlga4.user_demographics\n",
        "LIMIT 10"
      ]
    },
    {
      "cell_type": "markdown",
      "id": "11abe88b",
      "metadata": {
        "id": "11abe88b"
      },
      "source": [
        "### Aggregate user behavioral features"
      ]
    },
    {
      "cell_type": "markdown",
      "id": "71dfe78b",
      "metadata": {
        "id": "71dfe78b"
      },
      "source": [
        "Behavioral data in the raw event data spans across multiple events -- and thus rows -- per user. The goal of this section is to aggregate and extract behavioral data for each user, resulting in one row of behavioral data per unique user.\n",
        "\n"
      ]
    },
    {
      "cell_type": "markdown",
      "id": "b9be082c",
      "metadata": {
        "id": "b9be082c"
      },
      "source": [
        "As a first step, you can explore all the unique events that exist in this dataset, based on event_name:"
      ]
    },
    {
      "cell_type": "code",
      "execution_count": null,
      "id": "debac29c",
      "metadata": {
        "tags": [],
        "colab": {
          "referenced_widgets": [
            "509759b5cc954b2ca1cb72c02578d2c1",
            "ea49fcda0de54d32b5841e512181285e"
          ]
        },
        "id": "debac29c",
        "outputId": "8c85b499-85c7-471f-99a4-23d945a847a5"
      },
      "outputs": [
        {
          "data": {
            "application/vnd.jupyter.widget-view+json": {
              "model_id": "509759b5cc954b2ca1cb72c02578d2c1",
              "version_major": 2,
              "version_minor": 0
            },
            "text/plain": [
              "Query is running:   0%|          |"
            ]
          },
          "metadata": {},
          "output_type": "display_data"
        },
        {
          "name": "stderr",
          "output_type": "stream",
          "text": [
            "/opt/conda/lib/python3.10/site-packages/google/cloud/bigquery/table.py:2309: UserWarning: Unable to represent RANGE schema as struct using pandas ArrowDtype. Using `object` instead. To use ArrowDtype, use pandas >= 1.5 and pyarrow >= 10.0.1.\n",
            "  warnings.warn(_RANGE_PYARROW_WARNING)\n",
            "/opt/conda/lib/python3.10/site-packages/google/cloud/bigquery/table.py:2323: UserWarning: Unable to represent RANGE schema as struct using pandas ArrowDtype. Using `object` instead. To use ArrowDtype, use pandas >= 1.5 and pyarrow >= 10.0.1.\n",
            "  warnings.warn(_RANGE_PYARROW_WARNING)\n",
            "/opt/conda/lib/python3.10/site-packages/google/cloud/bigquery/table.py:2337: UserWarning: Unable to represent RANGE schema as struct using pandas ArrowDtype. Using `object` instead. To use ArrowDtype, use pandas >= 1.5 and pyarrow >= 10.0.1.\n",
            "  warnings.warn(_RANGE_PYARROW_WARNING)\n"
          ]
        },
        {
          "data": {
            "application/vnd.jupyter.widget-view+json": {
              "model_id": "ea49fcda0de54d32b5841e512181285e",
              "version_major": 2,
              "version_minor": 0
            },
            "text/plain": [
              "Downloading:   0%|          |"
            ]
          },
          "metadata": {},
          "output_type": "display_data"
        },
        {
          "data": {
            "text/html": [
              "<div>\n",
              "<style scoped>\n",
              "    .dataframe tbody tr th:only-of-type {\n",
              "        vertical-align: middle;\n",
              "    }\n",
              "\n",
              "    .dataframe tbody tr th {\n",
              "        vertical-align: top;\n",
              "    }\n",
              "\n",
              "    .dataframe thead th {\n",
              "        text-align: right;\n",
              "    }\n",
              "</style>\n",
              "<table border=\"1\" class=\"dataframe\">\n",
              "  <thead>\n",
              "    <tr style=\"text-align: right;\">\n",
              "      <th></th>\n",
              "      <th>event_name</th>\n",
              "      <th>event_count</th>\n",
              "    </tr>\n",
              "  </thead>\n",
              "  <tbody>\n",
              "    <tr>\n",
              "      <th>0</th>\n",
              "      <td>screen_view</td>\n",
              "      <td>2247623</td>\n",
              "    </tr>\n",
              "    <tr>\n",
              "      <th>1</th>\n",
              "      <td>user_engagement</td>\n",
              "      <td>1358958</td>\n",
              "    </tr>\n",
              "    <tr>\n",
              "      <th>2</th>\n",
              "      <td>level_start_quickplay</td>\n",
              "      <td>523430</td>\n",
              "    </tr>\n",
              "    <tr>\n",
              "      <th>3</th>\n",
              "      <td>level_end_quickplay</td>\n",
              "      <td>349729</td>\n",
              "    </tr>\n",
              "    <tr>\n",
              "      <th>4</th>\n",
              "      <td>post_score</td>\n",
              "      <td>242051</td>\n",
              "    </tr>\n",
              "    <tr>\n",
              "      <th>5</th>\n",
              "      <td>level_complete_quickplay</td>\n",
              "      <td>191088</td>\n",
              "    </tr>\n",
              "    <tr>\n",
              "      <th>6</th>\n",
              "      <td>level_fail_quickplay</td>\n",
              "      <td>137035</td>\n",
              "    </tr>\n",
              "    <tr>\n",
              "      <th>7</th>\n",
              "      <td>level_reset_quickplay</td>\n",
              "      <td>122278</td>\n",
              "    </tr>\n",
              "    <tr>\n",
              "      <th>8</th>\n",
              "      <td>select_content</td>\n",
              "      <td>105139</td>\n",
              "    </tr>\n",
              "    <tr>\n",
              "      <th>9</th>\n",
              "      <td>level_start</td>\n",
              "      <td>74417</td>\n",
              "    </tr>\n",
              "    <tr>\n",
              "      <th>10</th>\n",
              "      <td>session_start</td>\n",
              "      <td>74353</td>\n",
              "    </tr>\n",
              "    <tr>\n",
              "      <th>11</th>\n",
              "      <td>level_end</td>\n",
              "      <td>54582</td>\n",
              "    </tr>\n",
              "    <tr>\n",
              "      <th>12</th>\n",
              "      <td>level_retry</td>\n",
              "      <td>43345</td>\n",
              "    </tr>\n",
              "    <tr>\n",
              "      <th>13</th>\n",
              "      <td>level_up</td>\n",
              "      <td>35666</td>\n",
              "    </tr>\n",
              "    <tr>\n",
              "      <th>14</th>\n",
              "      <td>level_complete</td>\n",
              "      <td>33986</td>\n",
              "    </tr>\n",
              "    <tr>\n",
              "      <th>15</th>\n",
              "      <td>level_retry_quickplay</td>\n",
              "      <td>29939</td>\n",
              "    </tr>\n",
              "    <tr>\n",
              "      <th>16</th>\n",
              "      <td>level_fail</td>\n",
              "      <td>17353</td>\n",
              "    </tr>\n",
              "    <tr>\n",
              "      <th>17</th>\n",
              "      <td>spend_virtual_currency</td>\n",
              "      <td>9363</td>\n",
              "    </tr>\n",
              "    <tr>\n",
              "      <th>18</th>\n",
              "      <td>use_extra_steps</td>\n",
              "      <td>8945</td>\n",
              "    </tr>\n",
              "    <tr>\n",
              "      <th>19</th>\n",
              "      <td>level_reset</td>\n",
              "      <td>8535</td>\n",
              "    </tr>\n",
              "    <tr>\n",
              "      <th>20</th>\n",
              "      <td>firebase_campaign</td>\n",
              "      <td>5411</td>\n",
              "    </tr>\n",
              "    <tr>\n",
              "      <th>21</th>\n",
              "      <td>app_exception</td>\n",
              "      <td>5156</td>\n",
              "    </tr>\n",
              "    <tr>\n",
              "      <th>22</th>\n",
              "      <td>first_open</td>\n",
              "      <td>4322</td>\n",
              "    </tr>\n",
              "    <tr>\n",
              "      <th>23</th>\n",
              "      <td>os_update</td>\n",
              "      <td>3290</td>\n",
              "    </tr>\n",
              "    <tr>\n",
              "      <th>24</th>\n",
              "      <td>no_more_extra_steps</td>\n",
              "      <td>2792</td>\n",
              "    </tr>\n",
              "    <tr>\n",
              "      <th>25</th>\n",
              "      <td>app_remove</td>\n",
              "      <td>2639</td>\n",
              "    </tr>\n",
              "    <tr>\n",
              "      <th>26</th>\n",
              "      <td>app_update</td>\n",
              "      <td>2473</td>\n",
              "    </tr>\n",
              "    <tr>\n",
              "      <th>27</th>\n",
              "      <td>ad_reward</td>\n",
              "      <td>1912</td>\n",
              "    </tr>\n",
              "    <tr>\n",
              "      <th>28</th>\n",
              "      <td>completed_5_levels</td>\n",
              "      <td>1867</td>\n",
              "    </tr>\n",
              "    <tr>\n",
              "      <th>29</th>\n",
              "      <td>error</td>\n",
              "      <td>1714</td>\n",
              "    </tr>\n",
              "    <tr>\n",
              "      <th>30</th>\n",
              "      <td>challenge_a_friend</td>\n",
              "      <td>524</td>\n",
              "    </tr>\n",
              "    <tr>\n",
              "      <th>31</th>\n",
              "      <td>in_app_purchase</td>\n",
              "      <td>27</td>\n",
              "    </tr>\n",
              "    <tr>\n",
              "      <th>32</th>\n",
              "      <td>dynamic_link_app_open</td>\n",
              "      <td>19</td>\n",
              "    </tr>\n",
              "    <tr>\n",
              "      <th>33</th>\n",
              "      <td>app_clear_data</td>\n",
              "      <td>17</td>\n",
              "    </tr>\n",
              "    <tr>\n",
              "      <th>34</th>\n",
              "      <td>dynamic_link_first_open</td>\n",
              "      <td>16</td>\n",
              "    </tr>\n",
              "    <tr>\n",
              "      <th>35</th>\n",
              "      <td>challenge_accepted</td>\n",
              "      <td>5</td>\n",
              "    </tr>\n",
              "    <tr>\n",
              "      <th>36</th>\n",
              "      <td>notification_foreground</td>\n",
              "      <td>1</td>\n",
              "    </tr>\n",
              "  </tbody>\n",
              "</table>\n",
              "</div>"
            ],
            "text/plain": [
              "                  event_name  event_count\n",
              "0                screen_view      2247623\n",
              "1            user_engagement      1358958\n",
              "2      level_start_quickplay       523430\n",
              "3        level_end_quickplay       349729\n",
              "4                 post_score       242051\n",
              "5   level_complete_quickplay       191088\n",
              "6       level_fail_quickplay       137035\n",
              "7      level_reset_quickplay       122278\n",
              "8             select_content       105139\n",
              "9                level_start        74417\n",
              "10             session_start        74353\n",
              "11                 level_end        54582\n",
              "12               level_retry        43345\n",
              "13                  level_up        35666\n",
              "14            level_complete        33986\n",
              "15     level_retry_quickplay        29939\n",
              "16                level_fail        17353\n",
              "17    spend_virtual_currency         9363\n",
              "18           use_extra_steps         8945\n",
              "19               level_reset         8535\n",
              "20         firebase_campaign         5411\n",
              "21             app_exception         5156\n",
              "22                first_open         4322\n",
              "23                 os_update         3290\n",
              "24       no_more_extra_steps         2792\n",
              "25                app_remove         2639\n",
              "26                app_update         2473\n",
              "27                 ad_reward         1912\n",
              "28        completed_5_levels         1867\n",
              "29                     error         1714\n",
              "30        challenge_a_friend          524\n",
              "31           in_app_purchase           27\n",
              "32     dynamic_link_app_open           19\n",
              "33            app_clear_data           17\n",
              "34   dynamic_link_first_open           16\n",
              "35        challenge_accepted            5\n",
              "36   notification_foreground            1"
            ]
          },
          "execution_count": 16,
          "metadata": {},
          "output_type": "execute_result"
        }
      ],
      "source": [
        "%%bigquery --project $PROJECT_ID\n",
        "\n",
        "SELECT\n",
        "  event_name,\n",
        "  COUNT(event_name) as event_count\n",
        "FROM\n",
        "    `firebase-public-project.analytics_153293282.events_*`\n",
        "GROUP BY\n",
        "  event_name\n",
        "ORDER BY\n",
        "   event_count DESC"
      ]
    },
    {
      "cell_type": "markdown",
      "id": "6596f7be",
      "metadata": {
        "id": "6596f7be"
      },
      "source": [
        "For this lab, to predict whether a user will churn or return, you can start by counting the number of times a user engages in the following event types:\n",
        "\n",
        "* user_engagement\n",
        "* level_start_quickplay\n",
        "* level_end_quickplay\n",
        "* level_complete_quickplay\n",
        "* level_reset_quickplay\n",
        "* post_score\n",
        "* spend_virtual_currency\n",
        "* ad_reward\n",
        "* challenge_a_friend\n",
        "* completed_5_levels\n",
        "* use_extra_steps"
      ]
    },
    {
      "cell_type": "markdown",
      "id": "60502c0a",
      "metadata": {
        "id": "60502c0a"
      },
      "source": [
        "In the SQL query below, you will aggregate the behavioral data by calculating the total number of times when each of the above event_names occurred in the data set per user."
      ]
    },
    {
      "cell_type": "code",
      "execution_count": null,
      "id": "b016e18d",
      "metadata": {
        "tags": [],
        "colab": {
          "referenced_widgets": [
            "8a397b12310e4ed4978d0361c605ea6d",
            "28ac83031d664d2eb9fa531ef2aeff63"
          ]
        },
        "id": "b016e18d",
        "outputId": "ddaa9e16-ad14-48a6-cb46-bc48ef0e0fdd"
      },
      "outputs": [
        {
          "data": {
            "application/vnd.jupyter.widget-view+json": {
              "model_id": "8a397b12310e4ed4978d0361c605ea6d",
              "version_major": 2,
              "version_minor": 0
            },
            "text/plain": [
              "Query is running:   0%|          |"
            ]
          },
          "metadata": {},
          "output_type": "display_data"
        },
        {
          "name": "stderr",
          "output_type": "stream",
          "text": [
            "/opt/conda/lib/python3.10/site-packages/google/cloud/bigquery/table.py:2309: UserWarning: Unable to represent RANGE schema as struct using pandas ArrowDtype. Using `object` instead. To use ArrowDtype, use pandas >= 1.5 and pyarrow >= 10.0.1.\n",
            "  warnings.warn(_RANGE_PYARROW_WARNING)\n",
            "/opt/conda/lib/python3.10/site-packages/google/cloud/bigquery/table.py:2323: UserWarning: Unable to represent RANGE schema as struct using pandas ArrowDtype. Using `object` instead. To use ArrowDtype, use pandas >= 1.5 and pyarrow >= 10.0.1.\n",
            "  warnings.warn(_RANGE_PYARROW_WARNING)\n",
            "/opt/conda/lib/python3.10/site-packages/google/cloud/bigquery/table.py:2337: UserWarning: Unable to represent RANGE schema as struct using pandas ArrowDtype. Using `object` instead. To use ArrowDtype, use pandas >= 1.5 and pyarrow >= 10.0.1.\n",
            "  warnings.warn(_RANGE_PYARROW_WARNING)\n"
          ]
        },
        {
          "data": {
            "application/vnd.jupyter.widget-view+json": {
              "model_id": "28ac83031d664d2eb9fa531ef2aeff63",
              "version_major": 2,
              "version_minor": 0
            },
            "text/plain": [
              "Downloading:   0%|          |"
            ]
          },
          "metadata": {},
          "output_type": "display_data"
        },
        {
          "data": {
            "text/html": [
              "<div>\n",
              "<style scoped>\n",
              "    .dataframe tbody tr th:only-of-type {\n",
              "        vertical-align: middle;\n",
              "    }\n",
              "\n",
              "    .dataframe tbody tr th {\n",
              "        vertical-align: top;\n",
              "    }\n",
              "\n",
              "    .dataframe thead th {\n",
              "        text-align: right;\n",
              "    }\n",
              "</style>\n",
              "<table border=\"1\" class=\"dataframe\">\n",
              "  <thead>\n",
              "    <tr style=\"text-align: right;\">\n",
              "      <th></th>\n",
              "      <th>user_pseudo_id</th>\n",
              "      <th>cnt_user_engagement</th>\n",
              "      <th>cnt_level_start_quickplay</th>\n",
              "      <th>cnt_level_end_quickplay</th>\n",
              "      <th>cnt_level_complete_quickplay</th>\n",
              "      <th>cnt_level_reset_quickplay</th>\n",
              "      <th>cnt_post_score</th>\n",
              "      <th>cnt_spend_virtual_currency</th>\n",
              "      <th>cnt_ad_reward</th>\n",
              "      <th>cnt_challenge_a_friend</th>\n",
              "      <th>cnt_completed_5_levels</th>\n",
              "      <th>cnt_use_extra_steps</th>\n",
              "    </tr>\n",
              "  </thead>\n",
              "  <tbody>\n",
              "    <tr>\n",
              "      <th>0</th>\n",
              "      <td>14C332A3E8F90106FE94D91E11EF8774</td>\n",
              "      <td>3</td>\n",
              "      <td>6</td>\n",
              "      <td>0</td>\n",
              "      <td>0</td>\n",
              "      <td>5</td>\n",
              "      <td>0</td>\n",
              "      <td>0</td>\n",
              "      <td>0</td>\n",
              "      <td>0</td>\n",
              "      <td>0</td>\n",
              "      <td>0</td>\n",
              "    </tr>\n",
              "    <tr>\n",
              "      <th>1</th>\n",
              "      <td>9B7280F969D2C28482C07B24BD405529</td>\n",
              "      <td>16</td>\n",
              "      <td>4</td>\n",
              "      <td>3</td>\n",
              "      <td>1</td>\n",
              "      <td>0</td>\n",
              "      <td>1</td>\n",
              "      <td>1</td>\n",
              "      <td>0</td>\n",
              "      <td>0</td>\n",
              "      <td>0</td>\n",
              "      <td>1</td>\n",
              "    </tr>\n",
              "    <tr>\n",
              "      <th>2</th>\n",
              "      <td>8B7FACC2862766EC0B3251F781D46F4D</td>\n",
              "      <td>15</td>\n",
              "      <td>3</td>\n",
              "      <td>1</td>\n",
              "      <td>0</td>\n",
              "      <td>0</td>\n",
              "      <td>0</td>\n",
              "      <td>0</td>\n",
              "      <td>0</td>\n",
              "      <td>0</td>\n",
              "      <td>0</td>\n",
              "      <td>0</td>\n",
              "    </tr>\n",
              "    <tr>\n",
              "      <th>3</th>\n",
              "      <td>0FF8564C8A8D00C240B915776E574152</td>\n",
              "      <td>7</td>\n",
              "      <td>2</td>\n",
              "      <td>1</td>\n",
              "      <td>1</td>\n",
              "      <td>0</td>\n",
              "      <td>1</td>\n",
              "      <td>0</td>\n",
              "      <td>0</td>\n",
              "      <td>0</td>\n",
              "      <td>0</td>\n",
              "      <td>0</td>\n",
              "    </tr>\n",
              "    <tr>\n",
              "      <th>4</th>\n",
              "      <td>952D6D7F72A4002431E8D37519365AE4</td>\n",
              "      <td>9</td>\n",
              "      <td>1</td>\n",
              "      <td>1</td>\n",
              "      <td>1</td>\n",
              "      <td>0</td>\n",
              "      <td>1</td>\n",
              "      <td>3</td>\n",
              "      <td>0</td>\n",
              "      <td>0</td>\n",
              "      <td>0</td>\n",
              "      <td>3</td>\n",
              "    </tr>\n",
              "    <tr>\n",
              "      <th>5</th>\n",
              "      <td>4F5FE43B6F760A3F688B51346BB0DED3</td>\n",
              "      <td>18</td>\n",
              "      <td>4</td>\n",
              "      <td>2</td>\n",
              "      <td>1</td>\n",
              "      <td>0</td>\n",
              "      <td>1</td>\n",
              "      <td>1</td>\n",
              "      <td>0</td>\n",
              "      <td>0</td>\n",
              "      <td>0</td>\n",
              "      <td>1</td>\n",
              "    </tr>\n",
              "    <tr>\n",
              "      <th>6</th>\n",
              "      <td>B746F2E5635F1D46F7F4ED91D1EDA814</td>\n",
              "      <td>1</td>\n",
              "      <td>0</td>\n",
              "      <td>0</td>\n",
              "      <td>0</td>\n",
              "      <td>0</td>\n",
              "      <td>0</td>\n",
              "      <td>0</td>\n",
              "      <td>0</td>\n",
              "      <td>0</td>\n",
              "      <td>0</td>\n",
              "      <td>0</td>\n",
              "    </tr>\n",
              "    <tr>\n",
              "      <th>7</th>\n",
              "      <td>3D9CD866FA73F2327C3B63DF16A477D9</td>\n",
              "      <td>128</td>\n",
              "      <td>25</td>\n",
              "      <td>8</td>\n",
              "      <td>1</td>\n",
              "      <td>13</td>\n",
              "      <td>21</td>\n",
              "      <td>5</td>\n",
              "      <td>2</td>\n",
              "      <td>0</td>\n",
              "      <td>1</td>\n",
              "      <td>5</td>\n",
              "    </tr>\n",
              "    <tr>\n",
              "      <th>8</th>\n",
              "      <td>32C8F5DBE5830F79A354073FF767FFF6</td>\n",
              "      <td>7</td>\n",
              "      <td>2</td>\n",
              "      <td>2</td>\n",
              "      <td>1</td>\n",
              "      <td>0</td>\n",
              "      <td>1</td>\n",
              "      <td>0</td>\n",
              "      <td>0</td>\n",
              "      <td>0</td>\n",
              "      <td>0</td>\n",
              "      <td>0</td>\n",
              "    </tr>\n",
              "    <tr>\n",
              "      <th>9</th>\n",
              "      <td>D4EC4DAD608E47C043A3A6E659050CE3</td>\n",
              "      <td>6</td>\n",
              "      <td>2</td>\n",
              "      <td>1</td>\n",
              "      <td>1</td>\n",
              "      <td>0</td>\n",
              "      <td>1</td>\n",
              "      <td>0</td>\n",
              "      <td>0</td>\n",
              "      <td>0</td>\n",
              "      <td>0</td>\n",
              "      <td>0</td>\n",
              "    </tr>\n",
              "  </tbody>\n",
              "</table>\n",
              "</div>"
            ],
            "text/plain": [
              "                     user_pseudo_id  cnt_user_engagement  \\\n",
              "0  14C332A3E8F90106FE94D91E11EF8774                    3   \n",
              "1  9B7280F969D2C28482C07B24BD405529                   16   \n",
              "2  8B7FACC2862766EC0B3251F781D46F4D                   15   \n",
              "3  0FF8564C8A8D00C240B915776E574152                    7   \n",
              "4  952D6D7F72A4002431E8D37519365AE4                    9   \n",
              "5  4F5FE43B6F760A3F688B51346BB0DED3                   18   \n",
              "6  B746F2E5635F1D46F7F4ED91D1EDA814                    1   \n",
              "7  3D9CD866FA73F2327C3B63DF16A477D9                  128   \n",
              "8  32C8F5DBE5830F79A354073FF767FFF6                    7   \n",
              "9  D4EC4DAD608E47C043A3A6E659050CE3                    6   \n",
              "\n",
              "   cnt_level_start_quickplay  cnt_level_end_quickplay  \\\n",
              "0                          6                        0   \n",
              "1                          4                        3   \n",
              "2                          3                        1   \n",
              "3                          2                        1   \n",
              "4                          1                        1   \n",
              "5                          4                        2   \n",
              "6                          0                        0   \n",
              "7                         25                        8   \n",
              "8                          2                        2   \n",
              "9                          2                        1   \n",
              "\n",
              "   cnt_level_complete_quickplay  cnt_level_reset_quickplay  cnt_post_score  \\\n",
              "0                             0                          5               0   \n",
              "1                             1                          0               1   \n",
              "2                             0                          0               0   \n",
              "3                             1                          0               1   \n",
              "4                             1                          0               1   \n",
              "5                             1                          0               1   \n",
              "6                             0                          0               0   \n",
              "7                             1                         13              21   \n",
              "8                             1                          0               1   \n",
              "9                             1                          0               1   \n",
              "\n",
              "   cnt_spend_virtual_currency  cnt_ad_reward  cnt_challenge_a_friend  \\\n",
              "0                           0              0                       0   \n",
              "1                           1              0                       0   \n",
              "2                           0              0                       0   \n",
              "3                           0              0                       0   \n",
              "4                           3              0                       0   \n",
              "5                           1              0                       0   \n",
              "6                           0              0                       0   \n",
              "7                           5              2                       0   \n",
              "8                           0              0                       0   \n",
              "9                           0              0                       0   \n",
              "\n",
              "   cnt_completed_5_levels  cnt_use_extra_steps  \n",
              "0                       0                    0  \n",
              "1                       0                    1  \n",
              "2                       0                    0  \n",
              "3                       0                    0  \n",
              "4                       0                    3  \n",
              "5                       0                    1  \n",
              "6                       0                    0  \n",
              "7                       1                    5  \n",
              "8                       0                    0  \n",
              "9                       0                    0  "
            ]
          },
          "execution_count": 17,
          "metadata": {},
          "output_type": "execute_result"
        }
      ],
      "source": [
        "%%bigquery --project $PROJECT_ID\n",
        "\n",
        "CREATE OR REPLACE VIEW bqmlga4.user_behavior AS (\n",
        "WITH\n",
        "  events_first24hr AS (\n",
        "    # Select user data only from first 24 hr of using the app.\n",
        "    SELECT\n",
        "      e.*\n",
        "    FROM\n",
        "      `firebase-public-project.analytics_153293282.events_*` e\n",
        "    JOIN\n",
        "      bqmlga4.user_churn c\n",
        "    ON\n",
        "      e.user_pseudo_id = c.user_pseudo_id\n",
        "    WHERE\n",
        "      e.event_timestamp <= c.ts_24hr_after_first_engagement\n",
        "    )\n",
        "SELECT\n",
        "  user_pseudo_id,\n",
        "  SUM(IF(event_name = 'user_engagement', 1, 0)) AS cnt_user_engagement,\n",
        "  SUM(IF(event_name = 'level_start_quickplay', 1, 0)) AS cnt_level_start_quickplay,\n",
        "  SUM(IF(event_name = 'level_end_quickplay', 1, 0)) AS cnt_level_end_quickplay,\n",
        "  SUM(IF(event_name = 'level_complete_quickplay', 1, 0)) AS cnt_level_complete_quickplay,\n",
        "  SUM(IF(event_name = 'level_reset_quickplay', 1, 0)) AS cnt_level_reset_quickplay,\n",
        "  SUM(IF(event_name = 'post_score', 1, 0)) AS cnt_post_score,\n",
        "  SUM(IF(event_name = 'spend_virtual_currency', 1, 0)) AS cnt_spend_virtual_currency,\n",
        "  SUM(IF(event_name = 'ad_reward', 1, 0)) AS cnt_ad_reward,\n",
        "  SUM(IF(event_name = 'challenge_a_friend', 1, 0)) AS cnt_challenge_a_friend,\n",
        "  SUM(IF(event_name = 'completed_5_levels', 1, 0)) AS cnt_completed_5_levels,\n",
        "  SUM(IF(event_name = 'use_extra_steps', 1, 0)) AS cnt_use_extra_steps,\n",
        "FROM\n",
        "  events_first24hr\n",
        "GROUP BY\n",
        "  user_pseudo_id\n",
        "  );\n",
        "\n",
        "SELECT\n",
        "  *\n",
        "FROM\n",
        "  bqmlga4.user_behavior\n",
        "LIMIT 10"
      ]
    },
    {
      "cell_type": "markdown",
      "id": "77089f30",
      "metadata": {
        "id": "77089f30"
      },
      "source": [
        "### Prepare your train/eval/test datasets for machine learning"
      ]
    },
    {
      "cell_type": "markdown",
      "id": "8a868015",
      "metadata": {
        "id": "8a868015"
      },
      "source": [
        "In this section, you can now combine these three intermediary views (`user_churn`, `user_demographics`, and `user_behavior`) into the final training data view called `ml_features`. Here you can also specify bounced = 0, in order to limit the training data only to users who did not \"bounce\" within the first 10 minutes of using the app.\n",
        "\n",
        "Note in the query below that a manual `data_split` column is created in your BigQuery ML table using [BigQuery's hashing functions](https://towardsdatascience.com/ml-design-pattern-5-repeatable-sampling-c0ccb2889f39) for repeatable sampling. It specifies a 80% train | 10% eval | 20% test split to evaluate your model's performance and generalization."
      ]
    },
    {
      "cell_type": "code",
      "execution_count": null,
      "id": "448138e6",
      "metadata": {
        "tags": [],
        "colab": {
          "referenced_widgets": [
            "710053433e6d44aab11fd6505329dcc3",
            "f148850bf4f84fcf8e82f2d5039b6e2c"
          ]
        },
        "id": "448138e6",
        "outputId": "68a4f792-a16b-4a1b-b4c9-0da8cbe7000b"
      },
      "outputs": [
        {
          "data": {
            "application/vnd.jupyter.widget-view+json": {
              "model_id": "710053433e6d44aab11fd6505329dcc3",
              "version_major": 2,
              "version_minor": 0
            },
            "text/plain": [
              "Query is running:   0%|          |"
            ]
          },
          "metadata": {},
          "output_type": "display_data"
        },
        {
          "name": "stderr",
          "output_type": "stream",
          "text": [
            "/opt/conda/lib/python3.10/site-packages/google/cloud/bigquery/table.py:2309: UserWarning: Unable to represent RANGE schema as struct using pandas ArrowDtype. Using `object` instead. To use ArrowDtype, use pandas >= 1.5 and pyarrow >= 10.0.1.\n",
            "  warnings.warn(_RANGE_PYARROW_WARNING)\n",
            "/opt/conda/lib/python3.10/site-packages/google/cloud/bigquery/table.py:2323: UserWarning: Unable to represent RANGE schema as struct using pandas ArrowDtype. Using `object` instead. To use ArrowDtype, use pandas >= 1.5 and pyarrow >= 10.0.1.\n",
            "  warnings.warn(_RANGE_PYARROW_WARNING)\n",
            "/opt/conda/lib/python3.10/site-packages/google/cloud/bigquery/table.py:2337: UserWarning: Unable to represent RANGE schema as struct using pandas ArrowDtype. Using `object` instead. To use ArrowDtype, use pandas >= 1.5 and pyarrow >= 10.0.1.\n",
            "  warnings.warn(_RANGE_PYARROW_WARNING)\n"
          ]
        },
        {
          "data": {
            "application/vnd.jupyter.widget-view+json": {
              "model_id": "f148850bf4f84fcf8e82f2d5039b6e2c",
              "version_major": 2,
              "version_minor": 0
            },
            "text/plain": [
              "Downloading:   0%|          |"
            ]
          },
          "metadata": {},
          "output_type": "display_data"
        },
        {
          "data": {
            "text/html": [
              "<div>\n",
              "<style scoped>\n",
              "    .dataframe tbody tr th:only-of-type {\n",
              "        vertical-align: middle;\n",
              "    }\n",
              "\n",
              "    .dataframe tbody tr th {\n",
              "        vertical-align: top;\n",
              "    }\n",
              "\n",
              "    .dataframe thead th {\n",
              "        text-align: right;\n",
              "    }\n",
              "</style>\n",
              "<table border=\"1\" class=\"dataframe\">\n",
              "  <thead>\n",
              "    <tr style=\"text-align: right;\">\n",
              "      <th></th>\n",
              "      <th>user_pseudo_id</th>\n",
              "      <th>country</th>\n",
              "      <th>operating_system</th>\n",
              "      <th>language</th>\n",
              "      <th>cnt_user_engagement</th>\n",
              "      <th>cnt_level_start_quickplay</th>\n",
              "      <th>cnt_level_end_quickplay</th>\n",
              "      <th>cnt_level_complete_quickplay</th>\n",
              "      <th>cnt_level_reset_quickplay</th>\n",
              "      <th>cnt_post_score</th>\n",
              "      <th>...</th>\n",
              "      <th>cnt_ad_reward</th>\n",
              "      <th>cnt_challenge_a_friend</th>\n",
              "      <th>cnt_completed_5_levels</th>\n",
              "      <th>cnt_use_extra_steps</th>\n",
              "      <th>user_first_engagement</th>\n",
              "      <th>month</th>\n",
              "      <th>julianday</th>\n",
              "      <th>dayofweek</th>\n",
              "      <th>churned</th>\n",
              "      <th>data_split</th>\n",
              "    </tr>\n",
              "  </thead>\n",
              "  <tbody>\n",
              "    <tr>\n",
              "      <th>0</th>\n",
              "      <td>49E9C6C52FBDE2759897A72EB7C37165</td>\n",
              "      <td>Taiwan</td>\n",
              "      <td>ANDROID</td>\n",
              "      <td>zhXtw</td>\n",
              "      <td>5</td>\n",
              "      <td>2</td>\n",
              "      <td>1</td>\n",
              "      <td>1</td>\n",
              "      <td>0</td>\n",
              "      <td>1</td>\n",
              "      <td>...</td>\n",
              "      <td>0</td>\n",
              "      <td>0</td>\n",
              "      <td>0</td>\n",
              "      <td>0</td>\n",
              "      <td>1536190115733003</td>\n",
              "      <td>9</td>\n",
              "      <td>248</td>\n",
              "      <td>4</td>\n",
              "      <td>0</td>\n",
              "      <td>TEST</td>\n",
              "    </tr>\n",
              "    <tr>\n",
              "      <th>1</th>\n",
              "      <td>278213F4C6CD188CD0B75EE22180520B</td>\n",
              "      <td>Indonesia</td>\n",
              "      <td>ANDROID</td>\n",
              "      <td>inXid</td>\n",
              "      <td>56</td>\n",
              "      <td>0</td>\n",
              "      <td>0</td>\n",
              "      <td>0</td>\n",
              "      <td>0</td>\n",
              "      <td>17</td>\n",
              "      <td>...</td>\n",
              "      <td>0</td>\n",
              "      <td>0</td>\n",
              "      <td>0</td>\n",
              "      <td>0</td>\n",
              "      <td>1536675968387008</td>\n",
              "      <td>9</td>\n",
              "      <td>254</td>\n",
              "      <td>3</td>\n",
              "      <td>0</td>\n",
              "      <td>TRAIN</td>\n",
              "    </tr>\n",
              "    <tr>\n",
              "      <th>2</th>\n",
              "      <td>F81E0430D8478D67AE01F73D98656CCA</td>\n",
              "      <td>Germany</td>\n",
              "      <td>ANDROID</td>\n",
              "      <td>deXde</td>\n",
              "      <td>7</td>\n",
              "      <td>3</td>\n",
              "      <td>2</td>\n",
              "      <td>2</td>\n",
              "      <td>0</td>\n",
              "      <td>2</td>\n",
              "      <td>...</td>\n",
              "      <td>0</td>\n",
              "      <td>0</td>\n",
              "      <td>0</td>\n",
              "      <td>0</td>\n",
              "      <td>1532541447741001</td>\n",
              "      <td>7</td>\n",
              "      <td>206</td>\n",
              "      <td>4</td>\n",
              "      <td>0</td>\n",
              "      <td>TRAIN</td>\n",
              "    </tr>\n",
              "    <tr>\n",
              "      <th>3</th>\n",
              "      <td>7E74A2BB6BBF4746DEE15F957B315401</td>\n",
              "      <td>Indonesia</td>\n",
              "      <td>ANDROID</td>\n",
              "      <td>enXus</td>\n",
              "      <td>43</td>\n",
              "      <td>20</td>\n",
              "      <td>11</td>\n",
              "      <td>5</td>\n",
              "      <td>7</td>\n",
              "      <td>5</td>\n",
              "      <td>...</td>\n",
              "      <td>0</td>\n",
              "      <td>0</td>\n",
              "      <td>0</td>\n",
              "      <td>0</td>\n",
              "      <td>1535645919365003</td>\n",
              "      <td>8</td>\n",
              "      <td>242</td>\n",
              "      <td>5</td>\n",
              "      <td>0</td>\n",
              "      <td>TEST</td>\n",
              "    </tr>\n",
              "    <tr>\n",
              "      <th>4</th>\n",
              "      <td>09309F331FA528745E330964AF4AAAD8</td>\n",
              "      <td>Japan</td>\n",
              "      <td>ANDROID</td>\n",
              "      <td>jaXjp</td>\n",
              "      <td>40</td>\n",
              "      <td>0</td>\n",
              "      <td>0</td>\n",
              "      <td>0</td>\n",
              "      <td>0</td>\n",
              "      <td>7</td>\n",
              "      <td>...</td>\n",
              "      <td>0</td>\n",
              "      <td>0</td>\n",
              "      <td>1</td>\n",
              "      <td>0</td>\n",
              "      <td>1536587836322003</td>\n",
              "      <td>9</td>\n",
              "      <td>253</td>\n",
              "      <td>2</td>\n",
              "      <td>0</td>\n",
              "      <td>TRAIN</td>\n",
              "    </tr>\n",
              "    <tr>\n",
              "      <th>5</th>\n",
              "      <td>CD575100771330FF6EE90088BBAF121C</td>\n",
              "      <td>India</td>\n",
              "      <td>ANDROID</td>\n",
              "      <td>enXus</td>\n",
              "      <td>16</td>\n",
              "      <td>0</td>\n",
              "      <td>0</td>\n",
              "      <td>0</td>\n",
              "      <td>0</td>\n",
              "      <td>1</td>\n",
              "      <td>...</td>\n",
              "      <td>0</td>\n",
              "      <td>0</td>\n",
              "      <td>0</td>\n",
              "      <td>0</td>\n",
              "      <td>1535902641451008</td>\n",
              "      <td>9</td>\n",
              "      <td>245</td>\n",
              "      <td>1</td>\n",
              "      <td>0</td>\n",
              "      <td>TEST</td>\n",
              "    </tr>\n",
              "    <tr>\n",
              "      <th>6</th>\n",
              "      <td>9DFCDD335DDCAAF5987FC07F7927BF34</td>\n",
              "      <td>Japan</td>\n",
              "      <td>ANDROID</td>\n",
              "      <td>jaXjp</td>\n",
              "      <td>6</td>\n",
              "      <td>3</td>\n",
              "      <td>1</td>\n",
              "      <td>1</td>\n",
              "      <td>1</td>\n",
              "      <td>1</td>\n",
              "      <td>...</td>\n",
              "      <td>0</td>\n",
              "      <td>0</td>\n",
              "      <td>0</td>\n",
              "      <td>0</td>\n",
              "      <td>1531390752745001</td>\n",
              "      <td>7</td>\n",
              "      <td>193</td>\n",
              "      <td>5</td>\n",
              "      <td>0</td>\n",
              "      <td>TRAIN</td>\n",
              "    </tr>\n",
              "    <tr>\n",
              "      <th>7</th>\n",
              "      <td>1E9F6BA9BD8C45633C26F42995A77775</td>\n",
              "      <td>Japan</td>\n",
              "      <td>ANDROID</td>\n",
              "      <td>jaXjp</td>\n",
              "      <td>25</td>\n",
              "      <td>10</td>\n",
              "      <td>7</td>\n",
              "      <td>5</td>\n",
              "      <td>0</td>\n",
              "      <td>5</td>\n",
              "      <td>...</td>\n",
              "      <td>0</td>\n",
              "      <td>0</td>\n",
              "      <td>0</td>\n",
              "      <td>0</td>\n",
              "      <td>1528815104040004</td>\n",
              "      <td>6</td>\n",
              "      <td>163</td>\n",
              "      <td>3</td>\n",
              "      <td>0</td>\n",
              "      <td>TRAIN</td>\n",
              "    </tr>\n",
              "    <tr>\n",
              "      <th>8</th>\n",
              "      <td>45EC7F973F9C0FE50CBCC7B05D88B39C</td>\n",
              "      <td>United States</td>\n",
              "      <td>ANDROID</td>\n",
              "      <td>enXus</td>\n",
              "      <td>4</td>\n",
              "      <td>1</td>\n",
              "      <td>0</td>\n",
              "      <td>0</td>\n",
              "      <td>0</td>\n",
              "      <td>0</td>\n",
              "      <td>...</td>\n",
              "      <td>0</td>\n",
              "      <td>0</td>\n",
              "      <td>0</td>\n",
              "      <td>0</td>\n",
              "      <td>1536214975408004</td>\n",
              "      <td>9</td>\n",
              "      <td>249</td>\n",
              "      <td>5</td>\n",
              "      <td>0</td>\n",
              "      <td>TRAIN</td>\n",
              "    </tr>\n",
              "    <tr>\n",
              "      <th>9</th>\n",
              "      <td>8942968E35FB64702050A08D544D2A4A</td>\n",
              "      <td>United States</td>\n",
              "      <td>IOS</td>\n",
              "      <td>enXus</td>\n",
              "      <td>10</td>\n",
              "      <td>4</td>\n",
              "      <td>4</td>\n",
              "      <td>3</td>\n",
              "      <td>0</td>\n",
              "      <td>3</td>\n",
              "      <td>...</td>\n",
              "      <td>0</td>\n",
              "      <td>0</td>\n",
              "      <td>0</td>\n",
              "      <td>0</td>\n",
              "      <td>1529339092711015</td>\n",
              "      <td>6</td>\n",
              "      <td>169</td>\n",
              "      <td>2</td>\n",
              "      <td>0</td>\n",
              "      <td>TRAIN</td>\n",
              "    </tr>\n",
              "  </tbody>\n",
              "</table>\n",
              "<p>10 rows × 21 columns</p>\n",
              "</div>"
            ],
            "text/plain": [
              "                     user_pseudo_id        country operating_system language  \\\n",
              "0  49E9C6C52FBDE2759897A72EB7C37165         Taiwan          ANDROID    zhXtw   \n",
              "1  278213F4C6CD188CD0B75EE22180520B      Indonesia          ANDROID    inXid   \n",
              "2  F81E0430D8478D67AE01F73D98656CCA        Germany          ANDROID    deXde   \n",
              "3  7E74A2BB6BBF4746DEE15F957B315401      Indonesia          ANDROID    enXus   \n",
              "4  09309F331FA528745E330964AF4AAAD8          Japan          ANDROID    jaXjp   \n",
              "5  CD575100771330FF6EE90088BBAF121C          India          ANDROID    enXus   \n",
              "6  9DFCDD335DDCAAF5987FC07F7927BF34          Japan          ANDROID    jaXjp   \n",
              "7  1E9F6BA9BD8C45633C26F42995A77775          Japan          ANDROID    jaXjp   \n",
              "8  45EC7F973F9C0FE50CBCC7B05D88B39C  United States          ANDROID    enXus   \n",
              "9  8942968E35FB64702050A08D544D2A4A  United States              IOS    enXus   \n",
              "\n",
              "   cnt_user_engagement  cnt_level_start_quickplay  cnt_level_end_quickplay  \\\n",
              "0                    5                          2                        1   \n",
              "1                   56                          0                        0   \n",
              "2                    7                          3                        2   \n",
              "3                   43                         20                       11   \n",
              "4                   40                          0                        0   \n",
              "5                   16                          0                        0   \n",
              "6                    6                          3                        1   \n",
              "7                   25                         10                        7   \n",
              "8                    4                          1                        0   \n",
              "9                   10                          4                        4   \n",
              "\n",
              "   cnt_level_complete_quickplay  cnt_level_reset_quickplay  cnt_post_score  \\\n",
              "0                             1                          0               1   \n",
              "1                             0                          0              17   \n",
              "2                             2                          0               2   \n",
              "3                             5                          7               5   \n",
              "4                             0                          0               7   \n",
              "5                             0                          0               1   \n",
              "6                             1                          1               1   \n",
              "7                             5                          0               5   \n",
              "8                             0                          0               0   \n",
              "9                             3                          0               3   \n",
              "\n",
              "   ...  cnt_ad_reward  cnt_challenge_a_friend  cnt_completed_5_levels  \\\n",
              "0  ...              0                       0                       0   \n",
              "1  ...              0                       0                       0   \n",
              "2  ...              0                       0                       0   \n",
              "3  ...              0                       0                       0   \n",
              "4  ...              0                       0                       1   \n",
              "5  ...              0                       0                       0   \n",
              "6  ...              0                       0                       0   \n",
              "7  ...              0                       0                       0   \n",
              "8  ...              0                       0                       0   \n",
              "9  ...              0                       0                       0   \n",
              "\n",
              "   cnt_use_extra_steps  user_first_engagement  month  julianday  dayofweek  \\\n",
              "0                    0       1536190115733003      9        248          4   \n",
              "1                    0       1536675968387008      9        254          3   \n",
              "2                    0       1532541447741001      7        206          4   \n",
              "3                    0       1535645919365003      8        242          5   \n",
              "4                    0       1536587836322003      9        253          2   \n",
              "5                    0       1535902641451008      9        245          1   \n",
              "6                    0       1531390752745001      7        193          5   \n",
              "7                    0       1528815104040004      6        163          3   \n",
              "8                    0       1536214975408004      9        249          5   \n",
              "9                    0       1529339092711015      6        169          2   \n",
              "\n",
              "   churned  data_split  \n",
              "0        0        TEST  \n",
              "1        0       TRAIN  \n",
              "2        0       TRAIN  \n",
              "3        0        TEST  \n",
              "4        0       TRAIN  \n",
              "5        0        TEST  \n",
              "6        0       TRAIN  \n",
              "7        0       TRAIN  \n",
              "8        0       TRAIN  \n",
              "9        0       TRAIN  \n",
              "\n",
              "[10 rows x 21 columns]"
            ]
          },
          "execution_count": 18,
          "metadata": {},
          "output_type": "execute_result"
        }
      ],
      "source": [
        "%%bigquery --project $PROJECT_ID\n",
        "\n",
        "CREATE OR REPLACE VIEW bqmlga4.ml_features AS (\n",
        "\n",
        "  SELECT\n",
        "    dem.user_pseudo_id,\n",
        "    IFNULL(dem.country, \"Unknown\") AS country,\n",
        "    IFNULL(dem.operating_system, \"Unknown\") AS operating_system,\n",
        "    IFNULL(REPLACE(dem.language, \"-\", \"X\"), \"Unknown\") AS language,\n",
        "    IFNULL(beh.cnt_user_engagement, 0) AS cnt_user_engagement,\n",
        "    IFNULL(beh.cnt_level_start_quickplay, 0) AS cnt_level_start_quickplay,\n",
        "    IFNULL(beh.cnt_level_end_quickplay, 0) AS cnt_level_end_quickplay,\n",
        "    IFNULL(beh.cnt_level_complete_quickplay, 0) AS cnt_level_complete_quickplay,\n",
        "    IFNULL(beh.cnt_level_reset_quickplay, 0) AS cnt_level_reset_quickplay,\n",
        "    IFNULL(beh.cnt_post_score, 0) AS cnt_post_score,\n",
        "    IFNULL(beh.cnt_spend_virtual_currency, 0) AS cnt_spend_virtual_currency,\n",
        "    IFNULL(beh.cnt_ad_reward, 0) AS cnt_ad_reward,\n",
        "    IFNULL(beh.cnt_challenge_a_friend, 0) AS cnt_challenge_a_friend,\n",
        "    IFNULL(beh.cnt_completed_5_levels, 0) AS cnt_completed_5_levels,\n",
        "    IFNULL(beh.cnt_use_extra_steps, 0) AS cnt_use_extra_steps,\n",
        "    chu.user_first_engagement,\n",
        "    chu.month,\n",
        "    chu.julianday,\n",
        "    chu.dayofweek,\n",
        "    chu.churned,\n",
        "    # https://towardsdatascience.com/ml-design-pattern-5-repeatable-sampling-c0ccb2889f39\n",
        "    # BQML Hyperparameter tuning requires STRING 3 partition data_split column.\n",
        "    # 80% 'TRAIN' | 10%'EVAL' | 10% 'TEST'\n",
        "    CASE\n",
        "      WHEN ABS(MOD(FARM_FINGERPRINT(dem.user_pseudo_id), 10)) <= 7\n",
        "        THEN 'TRAIN'\n",
        "      WHEN ABS(MOD(FARM_FINGERPRINT(dem.user_pseudo_id), 10)) = 8\n",
        "        THEN 'EVAL'\n",
        "      WHEN ABS(MOD(FARM_FINGERPRINT(dem.user_pseudo_id), 10)) = 9\n",
        "        THEN 'TEST'\n",
        "          ELSE '' END AS data_split\n",
        "  FROM\n",
        "    bqmlga4.user_churn chu\n",
        "  LEFT OUTER JOIN\n",
        "    bqmlga4.user_demographics dem\n",
        "  ON\n",
        "    chu.user_pseudo_id = dem.user_pseudo_id\n",
        "  LEFT OUTER JOIN\n",
        "    bqmlga4.user_behavior beh\n",
        "  ON\n",
        "    chu.user_pseudo_id = beh.user_pseudo_id\n",
        "  WHERE chu.bounced = 0\n",
        "  );\n",
        "\n",
        "SELECT\n",
        "  *\n",
        "FROM\n",
        "  bqmlga4.ml_features\n",
        "LIMIT 10"
      ]
    },
    {
      "cell_type": "markdown",
      "id": "ccc4f5f9",
      "metadata": {
        "id": "ccc4f5f9"
      },
      "source": [
        "### Validate feature splits"
      ]
    },
    {
      "cell_type": "markdown",
      "id": "0af097e0",
      "metadata": {
        "id": "0af097e0"
      },
      "source": [
        "Run the query below to validate the number of examples in each data partition for the 80% train |10% eval |10% test split."
      ]
    },
    {
      "cell_type": "code",
      "execution_count": null,
      "id": "cb419c16",
      "metadata": {
        "tags": [],
        "colab": {
          "referenced_widgets": [
            "f7ffb70724e842a0a21d2bae6a400183",
            "6b026d6866ed4e0e83bd49e7c4d52faa"
          ]
        },
        "id": "cb419c16",
        "outputId": "7fcc9834-1a82-4192-dbf1-5bc16fc6b826"
      },
      "outputs": [
        {
          "data": {
            "application/vnd.jupyter.widget-view+json": {
              "model_id": "f7ffb70724e842a0a21d2bae6a400183",
              "version_major": 2,
              "version_minor": 0
            },
            "text/plain": [
              "Query is running:   0%|          |"
            ]
          },
          "metadata": {},
          "output_type": "display_data"
        },
        {
          "name": "stderr",
          "output_type": "stream",
          "text": [
            "/opt/conda/lib/python3.10/site-packages/google/cloud/bigquery/table.py:2309: UserWarning: Unable to represent RANGE schema as struct using pandas ArrowDtype. Using `object` instead. To use ArrowDtype, use pandas >= 1.5 and pyarrow >= 10.0.1.\n",
            "  warnings.warn(_RANGE_PYARROW_WARNING)\n",
            "/opt/conda/lib/python3.10/site-packages/google/cloud/bigquery/table.py:2323: UserWarning: Unable to represent RANGE schema as struct using pandas ArrowDtype. Using `object` instead. To use ArrowDtype, use pandas >= 1.5 and pyarrow >= 10.0.1.\n",
            "  warnings.warn(_RANGE_PYARROW_WARNING)\n",
            "/opt/conda/lib/python3.10/site-packages/google/cloud/bigquery/table.py:2337: UserWarning: Unable to represent RANGE schema as struct using pandas ArrowDtype. Using `object` instead. To use ArrowDtype, use pandas >= 1.5 and pyarrow >= 10.0.1.\n",
            "  warnings.warn(_RANGE_PYARROW_WARNING)\n"
          ]
        },
        {
          "data": {
            "application/vnd.jupyter.widget-view+json": {
              "model_id": "6b026d6866ed4e0e83bd49e7c4d52faa",
              "version_major": 2,
              "version_minor": 0
            },
            "text/plain": [
              "Downloading:   0%|          |"
            ]
          },
          "metadata": {},
          "output_type": "display_data"
        },
        {
          "data": {
            "text/html": [
              "<div>\n",
              "<style scoped>\n",
              "    .dataframe tbody tr th:only-of-type {\n",
              "        vertical-align: middle;\n",
              "    }\n",
              "\n",
              "    .dataframe tbody tr th {\n",
              "        vertical-align: top;\n",
              "    }\n",
              "\n",
              "    .dataframe thead th {\n",
              "        text-align: right;\n",
              "    }\n",
              "</style>\n",
              "<table border=\"1\" class=\"dataframe\">\n",
              "  <thead>\n",
              "    <tr style=\"text-align: right;\">\n",
              "      <th></th>\n",
              "      <th>data_split</th>\n",
              "      <th>n_examples</th>\n",
              "    </tr>\n",
              "  </thead>\n",
              "  <tbody>\n",
              "    <tr>\n",
              "      <th>0</th>\n",
              "      <td>TEST</td>\n",
              "      <td>799</td>\n",
              "    </tr>\n",
              "    <tr>\n",
              "      <th>1</th>\n",
              "      <td>TRAIN</td>\n",
              "      <td>6386</td>\n",
              "    </tr>\n",
              "    <tr>\n",
              "      <th>2</th>\n",
              "      <td>EVAL</td>\n",
              "      <td>846</td>\n",
              "    </tr>\n",
              "  </tbody>\n",
              "</table>\n",
              "</div>"
            ],
            "text/plain": [
              "  data_split  n_examples\n",
              "0       TEST         799\n",
              "1      TRAIN        6386\n",
              "2       EVAL         846"
            ]
          },
          "execution_count": 19,
          "metadata": {},
          "output_type": "execute_result"
        }
      ],
      "source": [
        "%%bigquery --project $PROJECT_ID\n",
        "\n",
        "SELECT\n",
        "  data_split,\n",
        "  COUNT(*) AS n_examples\n",
        "FROM bqmlga4.ml_features\n",
        "GROUP BY data_split"
      ]
    },
    {
      "cell_type": "markdown",
      "id": "c2767dae",
      "metadata": {
        "id": "c2767dae"
      },
      "source": [
        "## Train and tune a BQML XGBoost propensity model to predict customer churn"
      ]
    },
    {
      "cell_type": "markdown",
      "id": "a3a861a0",
      "metadata": {
        "id": "a3a861a0"
      },
      "source": [
        "The following code trains and tunes the hyperparameters for an XGBoost model. TO provide a minimal demonstration of BQML hyperparameter tuning in this lab, this model will take about 18 min to train and tune with its restricted search space and low number of trials. In practice, you would generally want at [least 10 trials per hyperparameter](https://cloud.google.com/bigquery-ml/docs/reference/standard-sql/bigqueryml-hyperparameter-tuning#how_many_trials_do_i_need_to_tune_a_model) to achieve improved results.\n",
        "\n",
        "For more information on the default hyperparameters used, you can read the documentation:\n",
        "[CREATE MODEL statement for Boosted Tree models using XGBoost](https://cloud.google.com/bigquery-ml/docs/reference/standard-sql/bigqueryml-syntax-create-boosted-tree)"
      ]
    },
    {
      "cell_type": "markdown",
      "id": "da974b2b",
      "metadata": {
        "id": "da974b2b"
      },
      "source": [
        "|Model   | BQML model_type | Advantages | Disadvantages|\n",
        "|:-------|:----------:|:----------:|-------------:|\n",
        "|XGBoost |     BOOSTED_TREE_CLASSIFIER [(documentation)](https://cloud.google.com/bigquery-ml/docs/reference/standard-sql/bigqueryml-syntax-create-boosted-tree)       |   High model performance with feature importances and explainability | Slower to train than BQML LOGISTIC_REG |"
      ]
    },
    {
      "cell_type": "markdown",
      "id": "577c9658",
      "metadata": {
        "id": "577c9658"
      },
      "source": [
        "Note: When you run the CREATE MODEL statement, BigQuery ML can automatically split your data into training and test so you can immediately evaluate your model's performance after training. This is a great option for fast model prototyping. In this lab, however, you split your data manually above using hashing for reproducible data splits that can be used comparing model evaluations across different runs."
      ]
    },
    {
      "cell_type": "code",
      "execution_count": null,
      "id": "96f84f45",
      "metadata": {
        "tags": [],
        "id": "96f84f45"
      },
      "outputs": [],
      "source": [
        "MODEL_NAME=\"churn_xgb\""
      ]
    },
    {
      "cell_type": "code",
      "execution_count": null,
      "id": "3d4bbf26",
      "metadata": {
        "tags": [],
        "id": "3d4bbf26",
        "outputId": "377c6b4a-72eb-446a-90a0-9788a52762c1"
      },
      "outputs": [
        {
          "name": "stdout",
          "output_type": "stream",
          "text": [
            "Executing query with job ID: 0e0f2dbe-223e-4074-9159-b93cfc618f03\n",
            "Query executing: 341.99s"
          ]
        },
        {
          "name": "stderr",
          "output_type": "stream",
          "text": [
            "\n",
            "ERROR:\n",
            " 400 GET https://bigquery.googleapis.com/bigquery/v2/projects/qwiklabs-gcp-04-5c709b5a85d2/queries/0e0f2dbe-223e-4074-9159-b93cfc618f03?maxResults=0&location=US&prettyPrint=false: Model can not be updated by multiple create model query jobs at the same time.\n",
            "\n",
            "Location: US\n",
            "Job ID: 0e0f2dbe-223e-4074-9159-b93cfc618f03\n",
            "\n"
          ]
        }
      ],
      "source": [
        "%%bigquery --project $PROJECT_ID\n",
        "\n",
        "CREATE OR REPLACE MODEL bqmlga4.churn_xgb\n",
        "\n",
        "OPTIONS(\n",
        "  MODEL_TYPE=\"BOOSTED_TREE_CLASSIFIER\",\n",
        "  # Declare label column.\n",
        "  INPUT_LABEL_COLS=[\"churned\"],\n",
        "  # Specify custom data splitting using the `data_split` column.\n",
        "  DATA_SPLIT_METHOD=\"CUSTOM\",\n",
        "  DATA_SPLIT_COL=\"data_split\",\n",
        "  # Enable Vertex Explainable AI aggregated feature attributions.\n",
        "  ENABLE_GLOBAL_EXPLAIN=True,\n",
        "  # Hyperparameter tuning arguments.\n",
        "  num_trials=8,\n",
        "  max_parallel_trials=4,\n",
        "  HPARAM_TUNING_OBJECTIVES=[\"roc_auc\"],\n",
        "  EARLY_STOP=True,\n",
        "  # Hyperpameter search space.\n",
        "  LEARN_RATE=HPARAM_RANGE(0.01, 0.1),\n",
        "  MAX_TREE_DEPTH=HPARAM_CANDIDATES([5,6])\n",
        ") AS\n",
        "\n",
        "SELECT\n",
        "  * EXCEPT(user_pseudo_id)\n",
        "FROM\n",
        "  bqmlga4.ml_features"
      ]
    },
    {
      "cell_type": "code",
      "execution_count": null,
      "id": "f2beffd0",
      "metadata": {
        "tags": [],
        "colab": {
          "referenced_widgets": [
            "25f59686802845dab18fa6289c05a406",
            "2faee273b48c465eafc40e9dca3a881e"
          ]
        },
        "id": "f2beffd0",
        "outputId": "3884867b-751b-449f-9f5d-171c4da532ed"
      },
      "outputs": [
        {
          "data": {
            "application/vnd.jupyter.widget-view+json": {
              "model_id": "25f59686802845dab18fa6289c05a406",
              "version_major": 2,
              "version_minor": 0
            },
            "text/plain": [
              "Query is running:   0%|          |"
            ]
          },
          "metadata": {},
          "output_type": "display_data"
        },
        {
          "name": "stderr",
          "output_type": "stream",
          "text": [
            "/opt/conda/lib/python3.10/site-packages/google/cloud/bigquery/table.py:2309: UserWarning: Unable to represent RANGE schema as struct using pandas ArrowDtype. Using `object` instead. To use ArrowDtype, use pandas >= 1.5 and pyarrow >= 10.0.1.\n",
            "  warnings.warn(_RANGE_PYARROW_WARNING)\n",
            "/opt/conda/lib/python3.10/site-packages/google/cloud/bigquery/table.py:2323: UserWarning: Unable to represent RANGE schema as struct using pandas ArrowDtype. Using `object` instead. To use ArrowDtype, use pandas >= 1.5 and pyarrow >= 10.0.1.\n",
            "  warnings.warn(_RANGE_PYARROW_WARNING)\n",
            "/opt/conda/lib/python3.10/site-packages/google/cloud/bigquery/table.py:2337: UserWarning: Unable to represent RANGE schema as struct using pandas ArrowDtype. Using `object` instead. To use ArrowDtype, use pandas >= 1.5 and pyarrow >= 10.0.1.\n",
            "  warnings.warn(_RANGE_PYARROW_WARNING)\n"
          ]
        },
        {
          "data": {
            "application/vnd.jupyter.widget-view+json": {
              "model_id": "2faee273b48c465eafc40e9dca3a881e",
              "version_major": 2,
              "version_minor": 0
            },
            "text/plain": [
              "Downloading:   0%|          |"
            ]
          },
          "metadata": {},
          "output_type": "display_data"
        },
        {
          "data": {
            "text/html": [
              "<div>\n",
              "<style scoped>\n",
              "    .dataframe tbody tr th:only-of-type {\n",
              "        vertical-align: middle;\n",
              "    }\n",
              "\n",
              "    .dataframe tbody tr th {\n",
              "        vertical-align: top;\n",
              "    }\n",
              "\n",
              "    .dataframe thead th {\n",
              "        text-align: right;\n",
              "    }\n",
              "</style>\n",
              "<table border=\"1\" class=\"dataframe\">\n",
              "  <thead>\n",
              "    <tr style=\"text-align: right;\">\n",
              "      <th></th>\n",
              "      <th>trial_id</th>\n",
              "      <th>hyperparameters</th>\n",
              "      <th>hparam_tuning_evaluation_metrics</th>\n",
              "      <th>training_loss</th>\n",
              "      <th>eval_loss</th>\n",
              "      <th>status</th>\n",
              "      <th>error_message</th>\n",
              "      <th>is_optimal</th>\n",
              "    </tr>\n",
              "  </thead>\n",
              "  <tbody>\n",
              "    <tr>\n",
              "      <th>0</th>\n",
              "      <td>1</td>\n",
              "      <td>{'learn_rate': 0.1, 'max_tree_depth': 6}</td>\n",
              "      <td>{'roc_auc': 0.7873576423576424}</td>\n",
              "      <td>0.436812</td>\n",
              "      <td>0.461768</td>\n",
              "      <td>SUCCEEDED</td>\n",
              "      <td>None</td>\n",
              "      <td>True</td>\n",
              "    </tr>\n",
              "    <tr>\n",
              "      <th>1</th>\n",
              "      <td>2</td>\n",
              "      <td>{'learn_rate': 0.08021240734476365, 'max_tree_...</td>\n",
              "      <td>{'roc_auc': 0.7713126873126873}</td>\n",
              "      <td>0.463291</td>\n",
              "      <td>0.477630</td>\n",
              "      <td>SUCCEEDED</td>\n",
              "      <td>None</td>\n",
              "      <td>False</td>\n",
              "    </tr>\n",
              "    <tr>\n",
              "      <th>2</th>\n",
              "      <td>3</td>\n",
              "      <td>{'learn_rate': 0.05861324401101539, 'max_tree_...</td>\n",
              "      <td>{'roc_auc': 0.7808421578421578}</td>\n",
              "      <td>0.470403</td>\n",
              "      <td>0.488335</td>\n",
              "      <td>SUCCEEDED</td>\n",
              "      <td>None</td>\n",
              "      <td>False</td>\n",
              "    </tr>\n",
              "    <tr>\n",
              "      <th>3</th>\n",
              "      <td>4</td>\n",
              "      <td>{'learn_rate': 0.03551178523803244, 'max_tree_...</td>\n",
              "      <td>{'roc_auc': 0.7340549450549451}</td>\n",
              "      <td>0.534710</td>\n",
              "      <td>0.542182</td>\n",
              "      <td>SUCCEEDED</td>\n",
              "      <td>None</td>\n",
              "      <td>False</td>\n",
              "    </tr>\n",
              "  </tbody>\n",
              "</table>\n",
              "</div>"
            ],
            "text/plain": [
              "   trial_id                                    hyperparameters  \\\n",
              "0         1           {'learn_rate': 0.1, 'max_tree_depth': 6}   \n",
              "1         2  {'learn_rate': 0.08021240734476365, 'max_tree_...   \n",
              "2         3  {'learn_rate': 0.05861324401101539, 'max_tree_...   \n",
              "3         4  {'learn_rate': 0.03551178523803244, 'max_tree_...   \n",
              "\n",
              "  hparam_tuning_evaluation_metrics  training_loss  eval_loss     status  \\\n",
              "0  {'roc_auc': 0.7873576423576424}       0.436812   0.461768  SUCCEEDED   \n",
              "1  {'roc_auc': 0.7713126873126873}       0.463291   0.477630  SUCCEEDED   \n",
              "2  {'roc_auc': 0.7808421578421578}       0.470403   0.488335  SUCCEEDED   \n",
              "3  {'roc_auc': 0.7340549450549451}       0.534710   0.542182  SUCCEEDED   \n",
              "\n",
              "  error_message  is_optimal  \n",
              "0          None        True  \n",
              "1          None       False  \n",
              "2          None       False  \n",
              "3          None       False  "
            ]
          },
          "execution_count": 23,
          "metadata": {},
          "output_type": "execute_result"
        }
      ],
      "source": [
        "%%bigquery --project $PROJECT_ID\n",
        "\n",
        "SELECT *\n",
        "FROM\n",
        "  ML.TRIAL_INFO(MODEL `bqmlga4.churn_xgb`);"
      ]
    },
    {
      "cell_type": "markdown",
      "id": "fbb9dc3a",
      "metadata": {
        "id": "fbb9dc3a"
      },
      "source": [
        "## Evaluate BQML XGBoost model performance"
      ]
    },
    {
      "cell_type": "markdown",
      "id": "19c50568",
      "metadata": {
        "id": "19c50568"
      },
      "source": [
        "Once training is finished, you can run [ML.EVALUATE](https://cloud.google.com/bigquery-ml/docs/reference/standard-sql/bigqueryml-syntax-evaluate) to return model evaluation metrics. By default, all model trials will be returned so the below query just returns the model performance for optimal first trial."
      ]
    },
    {
      "cell_type": "code",
      "execution_count": null,
      "id": "1bb9896b",
      "metadata": {
        "tags": [],
        "colab": {
          "referenced_widgets": [
            "66b44a8a00494ab8a57013f83d1b0865",
            "1fc7c0fae3154d279e51f3a22295db43"
          ]
        },
        "id": "1bb9896b",
        "outputId": "d2fb3a04-ab95-4eff-e8ac-353305c8c8f9"
      },
      "outputs": [
        {
          "data": {
            "application/vnd.jupyter.widget-view+json": {
              "model_id": "66b44a8a00494ab8a57013f83d1b0865",
              "version_major": 2,
              "version_minor": 0
            },
            "text/plain": [
              "Query is running:   0%|          |"
            ]
          },
          "metadata": {},
          "output_type": "display_data"
        },
        {
          "name": "stderr",
          "output_type": "stream",
          "text": [
            "/opt/conda/lib/python3.10/site-packages/google/cloud/bigquery/table.py:2309: UserWarning: Unable to represent RANGE schema as struct using pandas ArrowDtype. Using `object` instead. To use ArrowDtype, use pandas >= 1.5 and pyarrow >= 10.0.1.\n",
            "  warnings.warn(_RANGE_PYARROW_WARNING)\n",
            "/opt/conda/lib/python3.10/site-packages/google/cloud/bigquery/table.py:2323: UserWarning: Unable to represent RANGE schema as struct using pandas ArrowDtype. Using `object` instead. To use ArrowDtype, use pandas >= 1.5 and pyarrow >= 10.0.1.\n",
            "  warnings.warn(_RANGE_PYARROW_WARNING)\n",
            "/opt/conda/lib/python3.10/site-packages/google/cloud/bigquery/table.py:2337: UserWarning: Unable to represent RANGE schema as struct using pandas ArrowDtype. Using `object` instead. To use ArrowDtype, use pandas >= 1.5 and pyarrow >= 10.0.1.\n",
            "  warnings.warn(_RANGE_PYARROW_WARNING)\n"
          ]
        },
        {
          "data": {
            "application/vnd.jupyter.widget-view+json": {
              "model_id": "1fc7c0fae3154d279e51f3a22295db43",
              "version_major": 2,
              "version_minor": 0
            },
            "text/plain": [
              "Downloading:   0%|          |"
            ]
          },
          "metadata": {},
          "output_type": "display_data"
        },
        {
          "data": {
            "text/html": [
              "<div>\n",
              "<style scoped>\n",
              "    .dataframe tbody tr th:only-of-type {\n",
              "        vertical-align: middle;\n",
              "    }\n",
              "\n",
              "    .dataframe tbody tr th {\n",
              "        vertical-align: top;\n",
              "    }\n",
              "\n",
              "    .dataframe thead th {\n",
              "        text-align: right;\n",
              "    }\n",
              "</style>\n",
              "<table border=\"1\" class=\"dataframe\">\n",
              "  <thead>\n",
              "    <tr style=\"text-align: right;\">\n",
              "      <th></th>\n",
              "      <th>trial_id</th>\n",
              "      <th>precision</th>\n",
              "      <th>recall</th>\n",
              "      <th>accuracy</th>\n",
              "      <th>f1_score</th>\n",
              "      <th>log_loss</th>\n",
              "      <th>roc_auc</th>\n",
              "    </tr>\n",
              "  </thead>\n",
              "  <tbody>\n",
              "    <tr>\n",
              "      <th>0</th>\n",
              "      <td>1</td>\n",
              "      <td>0.604167</td>\n",
              "      <td>0.148718</td>\n",
              "      <td>0.768461</td>\n",
              "      <td>0.238683</td>\n",
              "      <td>0.480936</td>\n",
              "      <td>0.767545</td>\n",
              "    </tr>\n",
              "  </tbody>\n",
              "</table>\n",
              "</div>"
            ],
            "text/plain": [
              "   trial_id  precision    recall  accuracy  f1_score  log_loss   roc_auc\n",
              "0         1   0.604167  0.148718  0.768461  0.238683  0.480936  0.767545"
            ]
          },
          "execution_count": 24,
          "metadata": {},
          "output_type": "execute_result"
        }
      ],
      "source": [
        "%%bigquery --project $PROJECT_ID\n",
        "\n",
        "SELECT\n",
        "  *\n",
        "FROM\n",
        "  ML.EVALUATE(MODEL bqmlga4.churn_xgb)\n",
        "WHERE trial_id=1;"
      ]
    },
    {
      "cell_type": "markdown",
      "id": "9e0537c9",
      "metadata": {
        "id": "9e0537c9"
      },
      "source": [
        "ML.EVALUATE generates the [precision, recall](https://developers.google.com/machine-learning/crash-course/classification/precision-and-recall), [accuracy](https://developers.google.com/machine-learning/crash-course/classification/accuracy), [log_loss](https://en.wikipedia.org/wiki/Loss_functions_for_classification#Logistic_loss), [f1_score](https://en.wikipedia.org/wiki/F-score) and [roc_auc](https://developers.google.com/machine-learning/crash-course/classification/roc-and-auc) using the default classification threshold of 0.5, which can be modified by using the optional `THRESHOLD` parameter."
      ]
    },
    {
      "cell_type": "markdown",
      "id": "22da8688",
      "metadata": {
        "id": "22da8688"
      },
      "source": [
        "Next, use the [ML.CONFUSION_MATRIX](https://cloud.google.com/bigquery-ml/docs/reference/standard-sql/bigqueryml-syntax-confusion) function to return a confusion matrix for the input classification model and input data.\n",
        "\n",
        "For more information on confusion matrices, you can read through a detailed explanation [here](https://developers.google.com/machine-learning/crash-course/classification/true-false-positive-negative)."
      ]
    },
    {
      "cell_type": "code",
      "execution_count": null,
      "id": "f15b2e45",
      "metadata": {
        "tags": [],
        "colab": {
          "referenced_widgets": [
            "05ae1534f4224827a2677a7e6f55c449",
            "d865844e5f9e4780b75ca639f0263030"
          ]
        },
        "id": "f15b2e45",
        "outputId": "bc3590ff-e9ec-47e6-bbcd-89706a9ae67f"
      },
      "outputs": [
        {
          "data": {
            "application/vnd.jupyter.widget-view+json": {
              "model_id": "05ae1534f4224827a2677a7e6f55c449",
              "version_major": 2,
              "version_minor": 0
            },
            "text/plain": [
              "Query is running:   0%|          |"
            ]
          },
          "metadata": {},
          "output_type": "display_data"
        },
        {
          "name": "stderr",
          "output_type": "stream",
          "text": [
            "/opt/conda/lib/python3.10/site-packages/google/cloud/bigquery/table.py:2309: UserWarning: Unable to represent RANGE schema as struct using pandas ArrowDtype. Using `object` instead. To use ArrowDtype, use pandas >= 1.5 and pyarrow >= 10.0.1.\n",
            "  warnings.warn(_RANGE_PYARROW_WARNING)\n",
            "/opt/conda/lib/python3.10/site-packages/google/cloud/bigquery/table.py:2323: UserWarning: Unable to represent RANGE schema as struct using pandas ArrowDtype. Using `object` instead. To use ArrowDtype, use pandas >= 1.5 and pyarrow >= 10.0.1.\n",
            "  warnings.warn(_RANGE_PYARROW_WARNING)\n",
            "/opt/conda/lib/python3.10/site-packages/google/cloud/bigquery/table.py:2337: UserWarning: Unable to represent RANGE schema as struct using pandas ArrowDtype. Using `object` instead. To use ArrowDtype, use pandas >= 1.5 and pyarrow >= 10.0.1.\n",
            "  warnings.warn(_RANGE_PYARROW_WARNING)\n"
          ]
        },
        {
          "data": {
            "application/vnd.jupyter.widget-view+json": {
              "model_id": "d865844e5f9e4780b75ca639f0263030",
              "version_major": 2,
              "version_minor": 0
            },
            "text/plain": [
              "Downloading:   0%|          |"
            ]
          },
          "metadata": {},
          "output_type": "display_data"
        },
        {
          "data": {
            "text/html": [
              "<div>\n",
              "<style scoped>\n",
              "    .dataframe tbody tr th:only-of-type {\n",
              "        vertical-align: middle;\n",
              "    }\n",
              "\n",
              "    .dataframe tbody tr th {\n",
              "        vertical-align: top;\n",
              "    }\n",
              "\n",
              "    .dataframe thead th {\n",
              "        text-align: right;\n",
              "    }\n",
              "</style>\n",
              "<table border=\"1\" class=\"dataframe\">\n",
              "  <thead>\n",
              "    <tr style=\"text-align: right;\">\n",
              "      <th></th>\n",
              "      <th>expected_label</th>\n",
              "      <th>predicted_0</th>\n",
              "      <th>predicted_1</th>\n",
              "    </tr>\n",
              "  </thead>\n",
              "  <tbody>\n",
              "    <tr>\n",
              "      <th>0</th>\n",
              "      <td>0</td>\n",
              "      <td>585</td>\n",
              "      <td>19</td>\n",
              "    </tr>\n",
              "    <tr>\n",
              "      <th>1</th>\n",
              "      <td>1</td>\n",
              "      <td>166</td>\n",
              "      <td>29</td>\n",
              "    </tr>\n",
              "  </tbody>\n",
              "</table>\n",
              "</div>"
            ],
            "text/plain": [
              "  expected_label  predicted_0  predicted_1\n",
              "0              0          585           19\n",
              "1              1          166           29"
            ]
          },
          "execution_count": 25,
          "metadata": {},
          "output_type": "execute_result"
        }
      ],
      "source": [
        "%%bigquery --project $PROJECT_ID\n",
        "\n",
        "SELECT\n",
        "  expected_label,\n",
        "  _0 AS predicted_0,\n",
        "  _1 AS predicted_1\n",
        "FROM\n",
        "  ML.CONFUSION_MATRIX(MODEL bqmlga4.churn_xgb)\n",
        "WHERE trial_id=1;"
      ]
    },
    {
      "cell_type": "markdown",
      "id": "64cdbf52",
      "metadata": {
        "id": "64cdbf52"
      },
      "source": [
        "You can also plot the AUC-ROC curve by using [ML.ROC_CURVE](https://cloud.google.com/bigquery-ml/docs/reference/standard-sql/bigqueryml-syntax-roc) to return the metrics for different threshold values for the model."
      ]
    },
    {
      "cell_type": "code",
      "execution_count": null,
      "id": "f1f9e493",
      "metadata": {
        "tags": [],
        "colab": {
          "referenced_widgets": [
            "83120601321d4c54999262d2bb8ee879",
            "4fb8b3766c7b45c8bf9ddedd4c2c1e47"
          ]
        },
        "id": "f1f9e493",
        "outputId": "4825fbda-f967-4329-b1c6-4b5a4f0683f2"
      },
      "outputs": [
        {
          "data": {
            "application/vnd.jupyter.widget-view+json": {
              "model_id": "83120601321d4c54999262d2bb8ee879",
              "version_major": 2,
              "version_minor": 0
            },
            "text/plain": [
              "Query is running:   0%|          |"
            ]
          },
          "metadata": {},
          "output_type": "display_data"
        },
        {
          "name": "stderr",
          "output_type": "stream",
          "text": [
            "/opt/conda/lib/python3.10/site-packages/google/cloud/bigquery/table.py:2309: UserWarning: Unable to represent RANGE schema as struct using pandas ArrowDtype. Using `object` instead. To use ArrowDtype, use pandas >= 1.5 and pyarrow >= 10.0.1.\n",
            "  warnings.warn(_RANGE_PYARROW_WARNING)\n",
            "/opt/conda/lib/python3.10/site-packages/google/cloud/bigquery/table.py:2323: UserWarning: Unable to represent RANGE schema as struct using pandas ArrowDtype. Using `object` instead. To use ArrowDtype, use pandas >= 1.5 and pyarrow >= 10.0.1.\n",
            "  warnings.warn(_RANGE_PYARROW_WARNING)\n",
            "/opt/conda/lib/python3.10/site-packages/google/cloud/bigquery/table.py:2337: UserWarning: Unable to represent RANGE schema as struct using pandas ArrowDtype. Using `object` instead. To use ArrowDtype, use pandas >= 1.5 and pyarrow >= 10.0.1.\n",
            "  warnings.warn(_RANGE_PYARROW_WARNING)\n"
          ]
        },
        {
          "data": {
            "application/vnd.jupyter.widget-view+json": {
              "model_id": "4fb8b3766c7b45c8bf9ddedd4c2c1e47",
              "version_major": 2,
              "version_minor": 0
            },
            "text/plain": [
              "Downloading:   0%|          |"
            ]
          },
          "metadata": {},
          "output_type": "display_data"
        }
      ],
      "source": [
        "%%bigquery df_roc --project $PROJECT_ID\n",
        "\n",
        "SELECT * FROM ML.ROC_CURVE(MODEL bqmlga4.churn_xgb)"
      ]
    },
    {
      "cell_type": "code",
      "execution_count": null,
      "id": "da715945",
      "metadata": {
        "tags": [],
        "id": "da715945",
        "outputId": "69794d59-c798-459c-d51b-c4129c6c9539"
      },
      "outputs": [
        {
          "data": {
            "text/plain": [
              "<Axes: title={'center': 'AUC-ROC curve'}, xlabel='false_positive_rate'>"
            ]
          },
          "execution_count": 27,
          "metadata": {},
          "output_type": "execute_result"
        },
        {
          "data": {
            "image/png": "[encoded data removed]",
            "text/plain": [
              "<Figure size 640x480 with 1 Axes>"
            ]
          },
          "metadata": {},
          "output_type": "display_data"
        }
      ],
      "source": [
        "df_roc.plot(x=\"false_positive_rate\", y=\"recall\", title=\"AUC-ROC curve\")"
      ]
    },
    {
      "cell_type": "markdown",
      "id": "4e51a9bc",
      "metadata": {
        "id": "4e51a9bc"
      },
      "source": [
        "## Inspect global feature attributions"
      ]
    },
    {
      "cell_type": "markdown",
      "id": "c1e4a89b",
      "metadata": {
        "id": "c1e4a89b"
      },
      "source": [
        "To provide further context to your model performance, you can use the [ML.GLOBAL_EXPLAIN](https://cloud.google.com/bigquery-ml/docs/reference/standard-sql/bigqueryml-syntax-global-explain#get_global_feature_importance_for_each_class_of_a_boosted_tree_classifier_model) function which leverages Vertex Explainable AI as a back-end. [Vertex Explainable AI](https://cloud.google.com/vertex-ai/docs/explainable-ai) helps you understand your model's outputs for classification and regression tasks. Specifically, Vertex AI tells you how much each feature in the data contributed to your model's predicted result. You can then use this information to verify that the model is behaving as expected, identify and mitigate biases in your models, and get ideas for ways to improve your model and your training data."
      ]
    },
    {
      "cell_type": "code",
      "execution_count": null,
      "id": "b505dae3",
      "metadata": {
        "tags": [],
        "colab": {
          "referenced_widgets": [
            "6cf5444b392c4b578598720c88544629",
            "b12d4bf503fe4a73b85110557aa1d6c5"
          ]
        },
        "id": "b505dae3",
        "outputId": "4baafb9d-b041-4062-d325-dc40bb153792"
      },
      "outputs": [
        {
          "data": {
            "application/vnd.jupyter.widget-view+json": {
              "model_id": "6cf5444b392c4b578598720c88544629",
              "version_major": 2,
              "version_minor": 0
            },
            "text/plain": [
              "Query is running:   0%|          |"
            ]
          },
          "metadata": {},
          "output_type": "display_data"
        },
        {
          "name": "stderr",
          "output_type": "stream",
          "text": [
            "/opt/conda/lib/python3.10/site-packages/google/cloud/bigquery/table.py:2309: UserWarning: Unable to represent RANGE schema as struct using pandas ArrowDtype. Using `object` instead. To use ArrowDtype, use pandas >= 1.5 and pyarrow >= 10.0.1.\n",
            "  warnings.warn(_RANGE_PYARROW_WARNING)\n",
            "/opt/conda/lib/python3.10/site-packages/google/cloud/bigquery/table.py:2323: UserWarning: Unable to represent RANGE schema as struct using pandas ArrowDtype. Using `object` instead. To use ArrowDtype, use pandas >= 1.5 and pyarrow >= 10.0.1.\n",
            "  warnings.warn(_RANGE_PYARROW_WARNING)\n",
            "/opt/conda/lib/python3.10/site-packages/google/cloud/bigquery/table.py:2337: UserWarning: Unable to represent RANGE schema as struct using pandas ArrowDtype. Using `object` instead. To use ArrowDtype, use pandas >= 1.5 and pyarrow >= 10.0.1.\n",
            "  warnings.warn(_RANGE_PYARROW_WARNING)\n"
          ]
        },
        {
          "data": {
            "application/vnd.jupyter.widget-view+json": {
              "model_id": "b12d4bf503fe4a73b85110557aa1d6c5",
              "version_major": 2,
              "version_minor": 0
            },
            "text/plain": [
              "Downloading:   0%|          |"
            ]
          },
          "metadata": {},
          "output_type": "display_data"
        },
        {
          "data": {
            "text/html": [
              "<div>\n",
              "<style scoped>\n",
              "    .dataframe tbody tr th:only-of-type {\n",
              "        vertical-align: middle;\n",
              "    }\n",
              "\n",
              "    .dataframe tbody tr th {\n",
              "        vertical-align: top;\n",
              "    }\n",
              "\n",
              "    .dataframe thead th {\n",
              "        text-align: right;\n",
              "    }\n",
              "</style>\n",
              "<table border=\"1\" class=\"dataframe\">\n",
              "  <thead>\n",
              "    <tr style=\"text-align: right;\">\n",
              "      <th></th>\n",
              "      <th>trial_id</th>\n",
              "      <th>feature</th>\n",
              "      <th>attribution</th>\n",
              "    </tr>\n",
              "  </thead>\n",
              "  <tbody>\n",
              "    <tr>\n",
              "      <th>0</th>\n",
              "      <td>1</td>\n",
              "      <td>cnt_user_engagement</td>\n",
              "      <td>0.191482</td>\n",
              "    </tr>\n",
              "    <tr>\n",
              "      <th>1</th>\n",
              "      <td>1</td>\n",
              "      <td>user_first_engagement</td>\n",
              "      <td>0.090093</td>\n",
              "    </tr>\n",
              "    <tr>\n",
              "      <th>2</th>\n",
              "      <td>1</td>\n",
              "      <td>julianday</td>\n",
              "      <td>0.068122</td>\n",
              "    </tr>\n",
              "    <tr>\n",
              "      <th>3</th>\n",
              "      <td>1</td>\n",
              "      <td>operating_system</td>\n",
              "      <td>0.053907</td>\n",
              "    </tr>\n",
              "    <tr>\n",
              "      <th>4</th>\n",
              "      <td>1</td>\n",
              "      <td>cnt_post_score</td>\n",
              "      <td>0.015645</td>\n",
              "    </tr>\n",
              "    <tr>\n",
              "      <th>5</th>\n",
              "      <td>1</td>\n",
              "      <td>cnt_level_start_quickplay</td>\n",
              "      <td>0.014644</td>\n",
              "    </tr>\n",
              "    <tr>\n",
              "      <th>6</th>\n",
              "      <td>1</td>\n",
              "      <td>cnt_level_end_quickplay</td>\n",
              "      <td>0.013826</td>\n",
              "    </tr>\n",
              "    <tr>\n",
              "      <th>7</th>\n",
              "      <td>1</td>\n",
              "      <td>cnt_level_reset_quickplay</td>\n",
              "      <td>0.005394</td>\n",
              "    </tr>\n",
              "    <tr>\n",
              "      <th>8</th>\n",
              "      <td>1</td>\n",
              "      <td>language</td>\n",
              "      <td>0.005119</td>\n",
              "    </tr>\n",
              "    <tr>\n",
              "      <th>9</th>\n",
              "      <td>1</td>\n",
              "      <td>cnt_spend_virtual_currency</td>\n",
              "      <td>0.004703</td>\n",
              "    </tr>\n",
              "    <tr>\n",
              "      <th>10</th>\n",
              "      <td>1</td>\n",
              "      <td>dayofweek</td>\n",
              "      <td>0.004442</td>\n",
              "    </tr>\n",
              "    <tr>\n",
              "      <th>11</th>\n",
              "      <td>1</td>\n",
              "      <td>cnt_level_complete_quickplay</td>\n",
              "      <td>0.004008</td>\n",
              "    </tr>\n",
              "    <tr>\n",
              "      <th>12</th>\n",
              "      <td>1</td>\n",
              "      <td>country</td>\n",
              "      <td>0.003854</td>\n",
              "    </tr>\n",
              "    <tr>\n",
              "      <th>13</th>\n",
              "      <td>1</td>\n",
              "      <td>month</td>\n",
              "      <td>0.002611</td>\n",
              "    </tr>\n",
              "    <tr>\n",
              "      <th>14</th>\n",
              "      <td>1</td>\n",
              "      <td>cnt_use_extra_steps</td>\n",
              "      <td>0.002478</td>\n",
              "    </tr>\n",
              "    <tr>\n",
              "      <th>15</th>\n",
              "      <td>1</td>\n",
              "      <td>cnt_completed_5_levels</td>\n",
              "      <td>0.000789</td>\n",
              "    </tr>\n",
              "    <tr>\n",
              "      <th>16</th>\n",
              "      <td>1</td>\n",
              "      <td>cnt_challenge_a_friend</td>\n",
              "      <td>0.000310</td>\n",
              "    </tr>\n",
              "    <tr>\n",
              "      <th>17</th>\n",
              "      <td>1</td>\n",
              "      <td>cnt_ad_reward</td>\n",
              "      <td>0.000222</td>\n",
              "    </tr>\n",
              "  </tbody>\n",
              "</table>\n",
              "</div>"
            ],
            "text/plain": [
              "    trial_id                       feature  attribution\n",
              "0          1           cnt_user_engagement     0.191482\n",
              "1          1         user_first_engagement     0.090093\n",
              "2          1                     julianday     0.068122\n",
              "3          1              operating_system     0.053907\n",
              "4          1                cnt_post_score     0.015645\n",
              "5          1     cnt_level_start_quickplay     0.014644\n",
              "6          1       cnt_level_end_quickplay     0.013826\n",
              "7          1     cnt_level_reset_quickplay     0.005394\n",
              "8          1                      language     0.005119\n",
              "9          1    cnt_spend_virtual_currency     0.004703\n",
              "10         1                     dayofweek     0.004442\n",
              "11         1  cnt_level_complete_quickplay     0.004008\n",
              "12         1                       country     0.003854\n",
              "13         1                         month     0.002611\n",
              "14         1           cnt_use_extra_steps     0.002478\n",
              "15         1        cnt_completed_5_levels     0.000789\n",
              "16         1        cnt_challenge_a_friend     0.000310\n",
              "17         1                 cnt_ad_reward     0.000222"
            ]
          },
          "execution_count": 28,
          "metadata": {},
          "output_type": "execute_result"
        }
      ],
      "source": [
        "%%bigquery --project $PROJECT_ID\n",
        "\n",
        "SELECT\n",
        "  *\n",
        "FROM\n",
        "  ML.GLOBAL_EXPLAIN(MODEL bqmlga4.churn_xgb)\n",
        "ORDER BY\n",
        "  attribution DESC;"
      ]
    },
    {
      "cell_type": "markdown",
      "id": "b471e6ee",
      "metadata": {
        "id": "b471e6ee"
      },
      "source": [
        "## Generate batch predictions"
      ]
    },
    {
      "cell_type": "markdown",
      "id": "ea8623c1",
      "metadata": {
        "id": "ea8623c1"
      },
      "source": [
        "You can generate batch predictions for your BQML XGBoost model using [ML.PREDICT](https://cloud.google.com/bigquery-ml/docs/reference/standard-sql/bigqueryml-syntax-predict)."
      ]
    },
    {
      "cell_type": "code",
      "execution_count": null,
      "id": "b117c407",
      "metadata": {
        "tags": [],
        "colab": {
          "referenced_widgets": [
            "4e9ed7ace49f4f048d65b2820079cf1f",
            "610778cc3843409194c5f50f18fbe3de"
          ]
        },
        "id": "b117c407",
        "outputId": "e099fbdd-e353-4289-b778-6471a9479a2d"
      },
      "outputs": [
        {
          "data": {
            "application/vnd.jupyter.widget-view+json": {
              "model_id": "4e9ed7ace49f4f048d65b2820079cf1f",
              "version_major": 2,
              "version_minor": 0
            },
            "text/plain": [
              "Query is running:   0%|          |"
            ]
          },
          "metadata": {},
          "output_type": "display_data"
        },
        {
          "name": "stderr",
          "output_type": "stream",
          "text": [
            "/opt/conda/lib/python3.10/site-packages/google/cloud/bigquery/table.py:2309: UserWarning: Unable to represent RANGE schema as struct using pandas ArrowDtype. Using `object` instead. To use ArrowDtype, use pandas >= 1.5 and pyarrow >= 10.0.1.\n",
            "  warnings.warn(_RANGE_PYARROW_WARNING)\n",
            "/opt/conda/lib/python3.10/site-packages/google/cloud/bigquery/table.py:2323: UserWarning: Unable to represent RANGE schema as struct using pandas ArrowDtype. Using `object` instead. To use ArrowDtype, use pandas >= 1.5 and pyarrow >= 10.0.1.\n",
            "  warnings.warn(_RANGE_PYARROW_WARNING)\n",
            "/opt/conda/lib/python3.10/site-packages/google/cloud/bigquery/table.py:2337: UserWarning: Unable to represent RANGE schema as struct using pandas ArrowDtype. Using `object` instead. To use ArrowDtype, use pandas >= 1.5 and pyarrow >= 10.0.1.\n",
            "  warnings.warn(_RANGE_PYARROW_WARNING)\n"
          ]
        },
        {
          "data": {
            "application/vnd.jupyter.widget-view+json": {
              "model_id": "610778cc3843409194c5f50f18fbe3de",
              "version_major": 2,
              "version_minor": 0
            },
            "text/plain": [
              "Downloading:   0%|          |"
            ]
          },
          "metadata": {},
          "output_type": "display_data"
        },
        {
          "data": {
            "text/html": [
              "<div>\n",
              "<style scoped>\n",
              "    .dataframe tbody tr th:only-of-type {\n",
              "        vertical-align: middle;\n",
              "    }\n",
              "\n",
              "    .dataframe tbody tr th {\n",
              "        vertical-align: top;\n",
              "    }\n",
              "\n",
              "    .dataframe thead th {\n",
              "        text-align: right;\n",
              "    }\n",
              "</style>\n",
              "<table border=\"1\" class=\"dataframe\">\n",
              "  <thead>\n",
              "    <tr style=\"text-align: right;\">\n",
              "      <th></th>\n",
              "      <th>trial_id</th>\n",
              "      <th>predicted_churned</th>\n",
              "      <th>predicted_churned_probs</th>\n",
              "      <th>user_pseudo_id</th>\n",
              "      <th>country</th>\n",
              "      <th>operating_system</th>\n",
              "      <th>language</th>\n",
              "      <th>cnt_user_engagement</th>\n",
              "      <th>cnt_level_start_quickplay</th>\n",
              "      <th>cnt_level_end_quickplay</th>\n",
              "      <th>...</th>\n",
              "      <th>cnt_ad_reward</th>\n",
              "      <th>cnt_challenge_a_friend</th>\n",
              "      <th>cnt_completed_5_levels</th>\n",
              "      <th>cnt_use_extra_steps</th>\n",
              "      <th>user_first_engagement</th>\n",
              "      <th>month</th>\n",
              "      <th>julianday</th>\n",
              "      <th>dayofweek</th>\n",
              "      <th>churned</th>\n",
              "      <th>data_split</th>\n",
              "    </tr>\n",
              "  </thead>\n",
              "  <tbody>\n",
              "    <tr>\n",
              "      <th>0</th>\n",
              "      <td>1</td>\n",
              "      <td>0</td>\n",
              "      <td>[{'label': 1, 'prob': 0.11139767616987228}, {'...</td>\n",
              "      <td>4AB0441290F6077849CBE9C74A828F0A</td>\n",
              "      <td>India</td>\n",
              "      <td>ANDROID</td>\n",
              "      <td>enXgb</td>\n",
              "      <td>25</td>\n",
              "      <td>12</td>\n",
              "      <td>0</td>\n",
              "      <td>...</td>\n",
              "      <td>0</td>\n",
              "      <td>0</td>\n",
              "      <td>0</td>\n",
              "      <td>0</td>\n",
              "      <td>1528811773465003</td>\n",
              "      <td>6</td>\n",
              "      <td>163</td>\n",
              "      <td>3</td>\n",
              "      <td>0</td>\n",
              "      <td>TEST</td>\n",
              "    </tr>\n",
              "    <tr>\n",
              "      <th>1</th>\n",
              "      <td>1</td>\n",
              "      <td>0</td>\n",
              "      <td>[{'label': 1, 'prob': 0.2479308843612671}, {'l...</td>\n",
              "      <td>FB98112938373BD2B844A8C15E40A539</td>\n",
              "      <td>United States</td>\n",
              "      <td>ANDROID</td>\n",
              "      <td>enXus</td>\n",
              "      <td>16</td>\n",
              "      <td>6</td>\n",
              "      <td>6</td>\n",
              "      <td>...</td>\n",
              "      <td>0</td>\n",
              "      <td>0</td>\n",
              "      <td>0</td>\n",
              "      <td>0</td>\n",
              "      <td>1530042016374004</td>\n",
              "      <td>6</td>\n",
              "      <td>177</td>\n",
              "      <td>3</td>\n",
              "      <td>0</td>\n",
              "      <td>TEST</td>\n",
              "    </tr>\n",
              "    <tr>\n",
              "      <th>2</th>\n",
              "      <td>1</td>\n",
              "      <td>0</td>\n",
              "      <td>[{'label': 1, 'prob': 0.11139767616987228}, {'...</td>\n",
              "      <td>F4F4EAE9439622EA3CA9489A52E7230F</td>\n",
              "      <td>United States</td>\n",
              "      <td>ANDROID</td>\n",
              "      <td>enXus</td>\n",
              "      <td>77</td>\n",
              "      <td>56</td>\n",
              "      <td>40</td>\n",
              "      <td>...</td>\n",
              "      <td>0</td>\n",
              "      <td>0</td>\n",
              "      <td>0</td>\n",
              "      <td>0</td>\n",
              "      <td>1529306284953001</td>\n",
              "      <td>6</td>\n",
              "      <td>169</td>\n",
              "      <td>2</td>\n",
              "      <td>0</td>\n",
              "      <td>TEST</td>\n",
              "    </tr>\n",
              "    <tr>\n",
              "      <th>3</th>\n",
              "      <td>1</td>\n",
              "      <td>0</td>\n",
              "      <td>[{'label': 1, 'prob': 0.23197881877422333}, {'...</td>\n",
              "      <td>DA1D860E60FA463A80DBA293EABEE7A0</td>\n",
              "      <td>United States</td>\n",
              "      <td>IOS</td>\n",
              "      <td>enXus</td>\n",
              "      <td>11</td>\n",
              "      <td>3</td>\n",
              "      <td>2</td>\n",
              "      <td>...</td>\n",
              "      <td>0</td>\n",
              "      <td>0</td>\n",
              "      <td>0</td>\n",
              "      <td>0</td>\n",
              "      <td>1530765613487011</td>\n",
              "      <td>7</td>\n",
              "      <td>186</td>\n",
              "      <td>5</td>\n",
              "      <td>0</td>\n",
              "      <td>TEST</td>\n",
              "    </tr>\n",
              "    <tr>\n",
              "      <th>4</th>\n",
              "      <td>1</td>\n",
              "      <td>0</td>\n",
              "      <td>[{'label': 1, 'prob': 0.2717142105102539}, {'l...</td>\n",
              "      <td>361AC2578D8F5E3FFF597136111A94F4</td>\n",
              "      <td>United Kingdom</td>\n",
              "      <td>IOS</td>\n",
              "      <td>enXgb</td>\n",
              "      <td>14</td>\n",
              "      <td>4</td>\n",
              "      <td>4</td>\n",
              "      <td>...</td>\n",
              "      <td>0</td>\n",
              "      <td>0</td>\n",
              "      <td>0</td>\n",
              "      <td>0</td>\n",
              "      <td>1531102504665006</td>\n",
              "      <td>7</td>\n",
              "      <td>190</td>\n",
              "      <td>2</td>\n",
              "      <td>0</td>\n",
              "      <td>TEST</td>\n",
              "    </tr>\n",
              "    <tr>\n",
              "      <th>...</th>\n",
              "      <td>...</td>\n",
              "      <td>...</td>\n",
              "      <td>...</td>\n",
              "      <td>...</td>\n",
              "      <td>...</td>\n",
              "      <td>...</td>\n",
              "      <td>...</td>\n",
              "      <td>...</td>\n",
              "      <td>...</td>\n",
              "      <td>...</td>\n",
              "      <td>...</td>\n",
              "      <td>...</td>\n",
              "      <td>...</td>\n",
              "      <td>...</td>\n",
              "      <td>...</td>\n",
              "      <td>...</td>\n",
              "      <td>...</td>\n",
              "      <td>...</td>\n",
              "      <td>...</td>\n",
              "      <td>...</td>\n",
              "      <td>...</td>\n",
              "    </tr>\n",
              "    <tr>\n",
              "      <th>794</th>\n",
              "      <td>1</td>\n",
              "      <td>1</td>\n",
              "      <td>[{'label': 1, 'prob': 0.522594153881073}, {'la...</td>\n",
              "      <td>833915A2E7FCD505EA649E1896A1A52F</td>\n",
              "      <td>United States</td>\n",
              "      <td>ANDROID</td>\n",
              "      <td>enXus</td>\n",
              "      <td>69</td>\n",
              "      <td>1</td>\n",
              "      <td>0</td>\n",
              "      <td>...</td>\n",
              "      <td>0</td>\n",
              "      <td>0</td>\n",
              "      <td>0</td>\n",
              "      <td>1</td>\n",
              "      <td>1536937234155004</td>\n",
              "      <td>9</td>\n",
              "      <td>257</td>\n",
              "      <td>6</td>\n",
              "      <td>1</td>\n",
              "      <td>TEST</td>\n",
              "    </tr>\n",
              "    <tr>\n",
              "      <th>795</th>\n",
              "      <td>1</td>\n",
              "      <td>0</td>\n",
              "      <td>[{'label': 1, 'prob': 0.25705957412719727}, {'...</td>\n",
              "      <td>B497D406EF38E0016336A81E3CFA3DA3</td>\n",
              "      <td>United States</td>\n",
              "      <td>ANDROID</td>\n",
              "      <td>enXus</td>\n",
              "      <td>13</td>\n",
              "      <td>3</td>\n",
              "      <td>2</td>\n",
              "      <td>...</td>\n",
              "      <td>0</td>\n",
              "      <td>0</td>\n",
              "      <td>0</td>\n",
              "      <td>0</td>\n",
              "      <td>1530055586408003</td>\n",
              "      <td>6</td>\n",
              "      <td>177</td>\n",
              "      <td>3</td>\n",
              "      <td>1</td>\n",
              "      <td>TEST</td>\n",
              "    </tr>\n",
              "    <tr>\n",
              "      <th>796</th>\n",
              "      <td>1</td>\n",
              "      <td>0</td>\n",
              "      <td>[{'label': 1, 'prob': 0.32075589895248413}, {'...</td>\n",
              "      <td>9756BD4A082BFDA01EEE6555ACBE81B1</td>\n",
              "      <td>United States</td>\n",
              "      <td>ANDROID</td>\n",
              "      <td>enXus</td>\n",
              "      <td>343</td>\n",
              "      <td>6</td>\n",
              "      <td>2</td>\n",
              "      <td>...</td>\n",
              "      <td>0</td>\n",
              "      <td>0</td>\n",
              "      <td>1</td>\n",
              "      <td>9</td>\n",
              "      <td>1530052231897003</td>\n",
              "      <td>6</td>\n",
              "      <td>177</td>\n",
              "      <td>3</td>\n",
              "      <td>1</td>\n",
              "      <td>TEST</td>\n",
              "    </tr>\n",
              "    <tr>\n",
              "      <th>797</th>\n",
              "      <td>1</td>\n",
              "      <td>0</td>\n",
              "      <td>[{'label': 1, 'prob': 0.29642823338508606}, {'...</td>\n",
              "      <td>FF257495DF0D60A5DBC46AAE6F78308B</td>\n",
              "      <td>United States</td>\n",
              "      <td>ANDROID</td>\n",
              "      <td>enXus</td>\n",
              "      <td>9</td>\n",
              "      <td>0</td>\n",
              "      <td>0</td>\n",
              "      <td>...</td>\n",
              "      <td>0</td>\n",
              "      <td>0</td>\n",
              "      <td>0</td>\n",
              "      <td>0</td>\n",
              "      <td>1530325932738003</td>\n",
              "      <td>6</td>\n",
              "      <td>181</td>\n",
              "      <td>7</td>\n",
              "      <td>1</td>\n",
              "      <td>TEST</td>\n",
              "    </tr>\n",
              "    <tr>\n",
              "      <th>798</th>\n",
              "      <td>1</td>\n",
              "      <td>0</td>\n",
              "      <td>[{'label': 1, 'prob': 0.18992669880390167}, {'...</td>\n",
              "      <td>2753CB17063CC735E6EF7E87CF45C378</td>\n",
              "      <td>Kuwait</td>\n",
              "      <td>ANDROID</td>\n",
              "      <td>enXus</td>\n",
              "      <td>9</td>\n",
              "      <td>4</td>\n",
              "      <td>1</td>\n",
              "      <td>...</td>\n",
              "      <td>0</td>\n",
              "      <td>0</td>\n",
              "      <td>0</td>\n",
              "      <td>0</td>\n",
              "      <td>1529912680367250</td>\n",
              "      <td>6</td>\n",
              "      <td>176</td>\n",
              "      <td>2</td>\n",
              "      <td>1</td>\n",
              "      <td>TEST</td>\n",
              "    </tr>\n",
              "  </tbody>\n",
              "</table>\n",
              "<p>799 rows × 24 columns</p>\n",
              "</div>"
            ],
            "text/plain": [
              "     trial_id  predicted_churned  \\\n",
              "0           1                  0   \n",
              "1           1                  0   \n",
              "2           1                  0   \n",
              "3           1                  0   \n",
              "4           1                  0   \n",
              "..        ...                ...   \n",
              "794         1                  1   \n",
              "795         1                  0   \n",
              "796         1                  0   \n",
              "797         1                  0   \n",
              "798         1                  0   \n",
              "\n",
              "                               predicted_churned_probs  \\\n",
              "0    [{'label': 1, 'prob': 0.11139767616987228}, {'...   \n",
              "1    [{'label': 1, 'prob': 0.2479308843612671}, {'l...   \n",
              "2    [{'label': 1, 'prob': 0.11139767616987228}, {'...   \n",
              "3    [{'label': 1, 'prob': 0.23197881877422333}, {'...   \n",
              "4    [{'label': 1, 'prob': 0.2717142105102539}, {'l...   \n",
              "..                                                 ...   \n",
              "794  [{'label': 1, 'prob': 0.522594153881073}, {'la...   \n",
              "795  [{'label': 1, 'prob': 0.25705957412719727}, {'...   \n",
              "796  [{'label': 1, 'prob': 0.32075589895248413}, {'...   \n",
              "797  [{'label': 1, 'prob': 0.29642823338508606}, {'...   \n",
              "798  [{'label': 1, 'prob': 0.18992669880390167}, {'...   \n",
              "\n",
              "                       user_pseudo_id         country operating_system  \\\n",
              "0    4AB0441290F6077849CBE9C74A828F0A           India          ANDROID   \n",
              "1    FB98112938373BD2B844A8C15E40A539   United States          ANDROID   \n",
              "2    F4F4EAE9439622EA3CA9489A52E7230F   United States          ANDROID   \n",
              "3    DA1D860E60FA463A80DBA293EABEE7A0   United States              IOS   \n",
              "4    361AC2578D8F5E3FFF597136111A94F4  United Kingdom              IOS   \n",
              "..                                ...             ...              ...   \n",
              "794  833915A2E7FCD505EA649E1896A1A52F   United States          ANDROID   \n",
              "795  B497D406EF38E0016336A81E3CFA3DA3   United States          ANDROID   \n",
              "796  9756BD4A082BFDA01EEE6555ACBE81B1   United States          ANDROID   \n",
              "797  FF257495DF0D60A5DBC46AAE6F78308B   United States          ANDROID   \n",
              "798  2753CB17063CC735E6EF7E87CF45C378          Kuwait          ANDROID   \n",
              "\n",
              "    language  cnt_user_engagement  cnt_level_start_quickplay  \\\n",
              "0      enXgb                   25                         12   \n",
              "1      enXus                   16                          6   \n",
              "2      enXus                   77                         56   \n",
              "3      enXus                   11                          3   \n",
              "4      enXgb                   14                          4   \n",
              "..       ...                  ...                        ...   \n",
              "794    enXus                   69                          1   \n",
              "795    enXus                   13                          3   \n",
              "796    enXus                  343                          6   \n",
              "797    enXus                    9                          0   \n",
              "798    enXus                    9                          4   \n",
              "\n",
              "     cnt_level_end_quickplay  ...  cnt_ad_reward  cnt_challenge_a_friend  \\\n",
              "0                          0  ...              0                       0   \n",
              "1                          6  ...              0                       0   \n",
              "2                         40  ...              0                       0   \n",
              "3                          2  ...              0                       0   \n",
              "4                          4  ...              0                       0   \n",
              "..                       ...  ...            ...                     ...   \n",
              "794                        0  ...              0                       0   \n",
              "795                        2  ...              0                       0   \n",
              "796                        2  ...              0                       0   \n",
              "797                        0  ...              0                       0   \n",
              "798                        1  ...              0                       0   \n",
              "\n",
              "     cnt_completed_5_levels  cnt_use_extra_steps  user_first_engagement  \\\n",
              "0                         0                    0       1528811773465003   \n",
              "1                         0                    0       1530042016374004   \n",
              "2                         0                    0       1529306284953001   \n",
              "3                         0                    0       1530765613487011   \n",
              "4                         0                    0       1531102504665006   \n",
              "..                      ...                  ...                    ...   \n",
              "794                       0                    1       1536937234155004   \n",
              "795                       0                    0       1530055586408003   \n",
              "796                       1                    9       1530052231897003   \n",
              "797                       0                    0       1530325932738003   \n",
              "798                       0                    0       1529912680367250   \n",
              "\n",
              "     month  julianday  dayofweek  churned  data_split  \n",
              "0        6        163          3        0        TEST  \n",
              "1        6        177          3        0        TEST  \n",
              "2        6        169          2        0        TEST  \n",
              "3        7        186          5        0        TEST  \n",
              "4        7        190          2        0        TEST  \n",
              "..     ...        ...        ...      ...         ...  \n",
              "794      9        257          6        1        TEST  \n",
              "795      6        177          3        1        TEST  \n",
              "796      6        177          3        1        TEST  \n",
              "797      6        181          7        1        TEST  \n",
              "798      6        176          2        1        TEST  \n",
              "\n",
              "[799 rows x 24 columns]"
            ]
          },
          "execution_count": 29,
          "metadata": {},
          "output_type": "execute_result"
        }
      ],
      "source": [
        "%%bigquery --project $PROJECT_ID\n",
        "\n",
        "SELECT\n",
        "  *\n",
        "FROM\n",
        "  ML.PREDICT(MODEL bqmlga4.churn_xgb,\n",
        "  (SELECT * FROM bqmlga4.ml_features WHERE data_split = \"TEST\"))"
      ]
    },
    {
      "cell_type": "markdown",
      "id": "32dac74c",
      "metadata": {
        "id": "32dac74c"
      },
      "source": [
        "The following query returns the probability that the user will return after 24 hrs. The higher the probability and closer it is to 1, the more likely the user is predicted to churn, and the closer it is to 0, the more likely the user is predicted to return."
      ]
    },
    {
      "cell_type": "code",
      "execution_count": null,
      "id": "f7411bff",
      "metadata": {
        "tags": [],
        "colab": {
          "referenced_widgets": [
            "b8a5d82ccd844c3dadabf7822088f64e"
          ]
        },
        "id": "f7411bff",
        "outputId": "d3c480f8-3cff-4ca4-8a72-1d72e27f9c21"
      },
      "outputs": [
        {
          "data": {
            "application/vnd.jupyter.widget-view+json": {
              "model_id": "b8a5d82ccd844c3dadabf7822088f64e",
              "version_major": 2,
              "version_minor": 0
            },
            "text/plain": [
              "Query is running:   0%|          |"
            ]
          },
          "metadata": {},
          "output_type": "display_data"
        },
        {
          "data": {
            "text/html": [
              "<div>\n",
              "<style scoped>\n",
              "    .dataframe tbody tr th:only-of-type {\n",
              "        vertical-align: middle;\n",
              "    }\n",
              "\n",
              "    .dataframe tbody tr th {\n",
              "        vertical-align: top;\n",
              "    }\n",
              "\n",
              "    .dataframe thead th {\n",
              "        text-align: right;\n",
              "    }\n",
              "</style>\n",
              "<table border=\"1\" class=\"dataframe\">\n",
              "  <thead>\n",
              "    <tr style=\"text-align: right;\">\n",
              "      <th></th>\n",
              "    </tr>\n",
              "  </thead>\n",
              "  <tbody>\n",
              "  </tbody>\n",
              "</table>\n",
              "</div>"
            ],
            "text/plain": [
              "Empty DataFrame\n",
              "Columns: []\n",
              "Index: []"
            ]
          },
          "execution_count": 33,
          "metadata": {},
          "output_type": "execute_result"
        }
      ],
      "source": [
        "%%bigquery --project $PROJECT_ID\n",
        "\n",
        "CREATE OR REPLACE TABLE bqmlga4.churn_predictions AS (\n",
        "SELECT\n",
        "  user_pseudo_id,\n",
        "  churned,\n",
        "  predicted_churned,\n",
        "  predicted_churned_probs[OFFSET(0)].prob as probability_churned\n",
        "FROM\n",
        "  ML.PREDICT(MODEL bqmlga4.churn_xgb,\n",
        "  (SELECT * FROM bqmlga4.ml_features))\n",
        ");"
      ]
    },
    {
      "cell_type": "markdown",
      "id": "1c037410",
      "metadata": {
        "id": "1c037410"
      },
      "source": [
        "## Export a BQML model to Vertex AI for online predictions"
      ]
    },
    {
      "cell_type": "markdown",
      "id": "a36d9005",
      "metadata": {
        "id": "a36d9005"
      },
      "source": [
        "See the official BigQuery ML Guide: [Exporting a BigQuery ML model for online prediction](https://cloud.google.com/bigquery-ml/docs/export-model-tutorial) for additional details."
      ]
    },
    {
      "cell_type": "markdown",
      "id": "6593da8c",
      "metadata": {
        "id": "6593da8c"
      },
      "source": [
        "### Export BQML model to GCS"
      ]
    },
    {
      "cell_type": "markdown",
      "id": "4dfedfdd",
      "metadata": {
        "id": "4dfedfdd"
      },
      "source": [
        "You will use the `bq extract` command in the `bq` command-line tool to export your BQML XGBoost model assets to Google Cloud Storage for persistence. See the [documentation](https://cloud.google.com/bigquery-ml/docs/exporting-models) for additional model export options."
      ]
    },
    {
      "cell_type": "code",
      "execution_count": null,
      "id": "94f50a47",
      "metadata": {
        "tags": [],
        "id": "94f50a47"
      },
      "outputs": [],
      "source": [
        "BQ_MODEL = f\"{BQ_DATASET}.{MODEL_NAME}\"\n",
        "BQ_MODEL_EXPORT_DIR = f\"gs://{GCS_BUCKET}/{MODEL_NAME}\""
      ]
    },
    {
      "cell_type": "code",
      "execution_count": null,
      "id": "ee61430a",
      "metadata": {
        "tags": [],
        "id": "ee61430a"
      },
      "outputs": [],
      "source": [
        "!bq --location=$BQ_LOCATION extract \\\n",
        "--destination_format ML_XGBOOST_BOOSTER \\\n",
        "--model $BQ_MODEL \\\n",
        "$BQ_MODEL_EXPORT_DIR"
      ]
    },
    {
      "cell_type": "markdown",
      "id": "4f336458",
      "metadata": {
        "id": "4f336458"
      },
      "source": [
        "Navigate to [Google Cloud Storage](https://pantheon.corp.google.com/storage) in Google Cloud Console to `\"gs://{GCS_BUCKET}/{MODEL_NAME}\"`. Validate that you see your exported model assets in the below format:\n",
        "\n",
        "```\n",
        "|--/{GCS_BUCKET}/{MODEL_NAME}/\n",
        "   |--/assets/                       # Contains preprocessing code.  \n",
        "      |--0_categorical_label.txt     # Contains country vocabulary.\n",
        "      |--1_categorical_label.txt     # Contains operating_system vocabulary.\n",
        "      |--2_categorical_label.txt     # Contains language vocabulary.\n",
        "      |--model_metadata.json         # contains model feature and label mappings.\n",
        "   |--main.py                        # Can be called for local training runs.\n",
        "   |--model.bst                      # XGBoost saved model format.\n",
        "   |--xgboost_predictor-0.1.tar.gz   # Compress XGBoost model with prediction function.\n",
        "```"
      ]
    },
    {
      "cell_type": "markdown",
      "id": "71122b86",
      "metadata": {
        "id": "71122b86"
      },
      "source": [
        "### Upload BQML model to Vertex AI from GCS"
      ]
    },
    {
      "cell_type": "markdown",
      "id": "dc20e5e7",
      "metadata": {
        "id": "dc20e5e7"
      },
      "source": [
        "Vertex AI contains optimized pre-built training and prediction containers for popular ML frameworks such as TensorFlow, Pytorch, as well as XGBoost. You will upload your XGBoost from GCS to Vertex AI and provide the [latest pre-built Vertex XGBoost prediction container](https://cloud.google.com/vertex-ai/docs/predictions/pre-built-containers) to execute your model code to generate predictions in the cells below."
      ]
    },
    {
      "cell_type": "code",
      "execution_count": null,
      "id": "c86cd67e",
      "metadata": {
        "id": "c86cd67e"
      },
      "outputs": [],
      "source": [
        "IMAGE_URI='us-docker.pkg.dev/vertex-ai/prediction/xgboost-cpu.1-4:latest'"
      ]
    },
    {
      "cell_type": "code",
      "execution_count": null,
      "id": "e3278567",
      "metadata": {
        "id": "e3278567"
      },
      "outputs": [],
      "source": [
        "model = vertexai.Model.upload(\n",
        "    display_name=MODEL_NAME,\n",
        "    artifact_uri=BQ_MODEL_EXPORT_DIR,\n",
        "    serving_container_image_uri=IMAGE_URI,\n",
        ")"
      ]
    },
    {
      "cell_type": "markdown",
      "id": "0874197c",
      "metadata": {
        "id": "0874197c"
      },
      "source": [
        "### Deploy a Vertex `Endpoint` for online predictions"
      ]
    },
    {
      "cell_type": "markdown",
      "id": "1410ebc6",
      "metadata": {
        "id": "1410ebc6"
      },
      "source": [
        "Before you use your model to make predictions, you need to deploy it to an `Endpoint` object. When you deploy a model to an `Endpoint`, you associate physical (machine) resources with that model to enable it to serve online predictions. Online predictions have low latency requirements; providing resources to the model in advance reduces latency. You can do this by calling the deploy function on the `Model` resource. This will do two things:\n",
        "\n",
        "1. Create an `Endpoint` resource for deploying the `Model` resource to.\n",
        "2. Deploy the `Model` resource to the `Endpoint` resource.\n",
        "\n",
        "The `deploy()` function takes the following parameters:\n",
        "\n",
        "* `deployed_model_display_name`: A human readable name for the deployed model.\n",
        "* `traffic_split`: Percent of traffic at the endpoint that goes to this model, which is specified as a dictionary of one or more key/value pairs. If only one model, then specify as { \"0\": 100 }, where \"0\" refers to this model being uploaded and 100 means 100% of the traffic.\n",
        "* `machine_type`: The type of machine to use for training.\n",
        "* `accelerator_type`: The hardware accelerator type.\n",
        "* `accelerator_count`: The number of accelerators to attach to a worker replica.\n",
        "* `starting_replica_count`: The number of compute instances to initially provision.\n",
        "* `max_replica_count`: The maximum number of compute instances to scale to. In this lab, only one instance is provisioned.\n",
        "* `explanation_parameters`: Metadata to configure the Explainable AI learning method.\n",
        "* `explanation_metadata`: Metadata that describes your TensorFlow model for Explainable AI such as features, input and output tensors.\n",
        "\n",
        "Note: this can take about 3-5 minutes to provision prediction resources for your model."
      ]
    },
    {
      "cell_type": "code",
      "execution_count": null,
      "id": "df5368fb",
      "metadata": {
        "id": "df5368fb"
      },
      "outputs": [],
      "source": [
        "endpoint = model.deploy(\n",
        "    traffic_split={\"0\": 100},\n",
        "    machine_type=\"e2-standard-2\",\n",
        ")"
      ]
    },
    {
      "cell_type": "markdown",
      "id": "cc8448a1",
      "metadata": {
        "id": "cc8448a1"
      },
      "source": [
        "### Query model for online predictions"
      ]
    },
    {
      "cell_type": "markdown",
      "id": "0b67ca13",
      "metadata": {
        "id": "0b67ca13"
      },
      "source": [
        "XGBoost only takes numerical feature inputs. When you trained your BQML model above with CREATE MODEL statement, it automatically handled encoding of categorical features such as user `country`, `operating system`, and `language` into numeric representations. In order for our exported model to generate online predictions, you will use the categorical feature vocabulary files exported under the `assets/` folder of your model directory and the Scikit-Learn preprocessing code below to map your test instances to numeric values."
      ]
    },
    {
      "cell_type": "code",
      "execution_count": null,
      "id": "6b647538",
      "metadata": {
        "id": "6b647538"
      },
      "outputs": [],
      "source": [
        "CATEGORICAL_FEATURES = ['country',\n",
        "                        'operating_system',\n",
        "                        'language']"
      ]
    },
    {
      "cell_type": "code",
      "execution_count": null,
      "id": "18bb0e82",
      "metadata": {
        "id": "18bb0e82"
      },
      "outputs": [],
      "source": [
        "from sklearn.preprocessing import OrdinalEncoder"
      ]
    },
    {
      "cell_type": "code",
      "execution_count": null,
      "id": "350c5727",
      "metadata": {
        "id": "350c5727"
      },
      "outputs": [],
      "source": [
        "def _build_cat_feature_encoders(cat_feature_list, gcs_bucket, model_name, na_value='Unknown'):\n",
        "    \"\"\"Build categorical feature encoders for mapping text to integers for XGBoost inference.\n",
        "    Args:\n",
        "      cat_feature_list (list): List of string feature names.\n",
        "      gcs_bucket (str): A string path to your Google Cloud Storage bucket.\n",
        "      model_name (str): A string model directory in GCS where your BQML model was exported to.\n",
        "      na_value (str): default is 'Unknown'. String value to replace any vocab NaN values prior to encoding.\n",
        "    Returns:\n",
        "      feature_encoders (dict): A dictionary containing OrdinalEncoder objects for integerizing\n",
        "        categorical features that has the format [feature] = feature encoder.\n",
        "    \"\"\"\n",
        "\n",
        "    feature_encoders = {}\n",
        "\n",
        "    for idx, feature in enumerate(cat_feature_list):\n",
        "        feature_encoder = OrdinalEncoder(handle_unknown=\"use_encoded_value\", unknown_value=-1)\n",
        "        feature_vocab_file = f\"gs://{gcs_bucket}/{model_name}/assets/{idx}_categorical_label.txt\"\n",
        "        feature_vocab_df = pd.read_csv(feature_vocab_file, delimiter = \"\\t\", header=None).fillna(na_value)\n",
        "        feature_encoder.fit(feature_vocab_df.values)\n",
        "        feature_encoders[feature] = feature_encoder\n",
        "\n",
        "    return feature_encoders"
      ]
    },
    {
      "cell_type": "code",
      "execution_count": null,
      "id": "809875a4",
      "metadata": {
        "id": "809875a4"
      },
      "outputs": [],
      "source": [
        "def preprocess_xgboost(instances, cat_feature_list, feature_encoders):\n",
        "    \"\"\"Transform instances to numerical values for inference.\n",
        "    Args:\n",
        "      instances (list[dict]): A list of feature dictionaries with the format feature: value.\n",
        "      cat_feature_list (list): A list of string feature names.\n",
        "      feature_encoders (dict): A dictionary with the format feature: feature_encoder.\n",
        "    Returns:\n",
        "      transformed_instances (list[list]): A list of lists containing numerical feature values needed\n",
        "        for Vertex XGBoost inference.\n",
        "    \"\"\"\n",
        "    transformed_instances = []\n",
        "\n",
        "    for instance in instances:\n",
        "        for feature in cat_feature_list:\n",
        "            feature_int = feature_encoders[feature].transform([[instance[feature]]]).item()\n",
        "            instance[feature] = feature_int\n",
        "            instance_list = list(instance.values())\n",
        "        transformed_instances.append(instance_list)\n",
        "\n",
        "    return transformed_instances"
      ]
    },
    {
      "cell_type": "code",
      "execution_count": null,
      "id": "eae41101",
      "metadata": {
        "id": "eae41101"
      },
      "outputs": [],
      "source": [
        "# Build a dictionary of ordinal categorical feature encoders.\n",
        "feature_encoders = _build_cat_feature_encoders(CATEGORICAL_FEATURES, GCS_BUCKET, MODEL_NAME)"
      ]
    },
    {
      "cell_type": "code",
      "execution_count": null,
      "id": "201f0aa9",
      "metadata": {
        "id": "201f0aa9"
      },
      "outputs": [],
      "source": [
        "%%bigquery test_df --project $PROJECT_ID\n",
        "\n",
        "SELECT* EXCEPT (user_pseudo_id, churned, data_split)\n",
        "FROM bqmlga4.ml_features\n",
        "WHERE data_split=\"TEST\"\n",
        "LIMIT 3;"
      ]
    },
    {
      "cell_type": "code",
      "execution_count": null,
      "id": "d397bc03",
      "metadata": {
        "id": "d397bc03"
      },
      "outputs": [],
      "source": [
        "# Convert dataframe records to feature dictionaries for preprocessing by feature name.\n",
        "test_instances = test_df.astype(str).to_dict(orient='records')"
      ]
    },
    {
      "cell_type": "code",
      "execution_count": null,
      "id": "e19ade61",
      "metadata": {
        "id": "e19ade61"
      },
      "outputs": [],
      "source": [
        "# Apply preprocessing to transform categorical features and return numerical instances for prediction.\n",
        "transformed_test_instances = preprocess_xgboost(test_instances, CATEGORICAL_FEATURES, feature_encoders)"
      ]
    },
    {
      "cell_type": "code",
      "execution_count": null,
      "id": "873c0db2",
      "metadata": {
        "id": "873c0db2"
      },
      "outputs": [],
      "source": [
        "# Generate predictions from model deployed to Vertex AI Endpoint.\n",
        "predictions = endpoint.predict(instances=transformed_test_instances)"
      ]
    },
    {
      "cell_type": "code",
      "execution_count": null,
      "id": "a3a08430",
      "metadata": {
        "id": "a3a08430"
      },
      "outputs": [],
      "source": [
        "for idx, prediction in enumerate(predictions.predictions):\n",
        "    # Class labels [1,0] retrieved from model_metadata.json in GCS model dir.\n",
        "    # BQML binary classification default is 0.5 with above \"Churn\" and below \"Not Churn\".\n",
        "    is_churned = \"Churn\" if prediction[0] >= 0.5 else \"Not Churn\"\n",
        "    print(f\"Prediction: Customer {idx} - {is_churned} {prediction}\")\n",
        "    print(test_df.iloc[idx].astype(str).to_json() + \"\\n\")"
      ]
    },
    {
      "cell_type": "markdown",
      "id": "d7a4e13f",
      "metadata": {
        "id": "d7a4e13f"
      },
      "source": [
        "## Next steps"
      ]
    },
    {
      "cell_type": "markdown",
      "id": "0f0d1f2c",
      "metadata": {
        "id": "0f0d1f2c"
      },
      "source": [
        "Congratulations! In this lab, you trained, tuned, explained, and deployed a BigQuery ML user churn model to generate high business impact batch and online churn predictions to target customers likely to churn with interventions such as in-game rewards and reminder notifications.\n",
        "\n",
        "In this lab, you used `user_psuedo_id` as a user identifier. As next steps, you can extend this code further by having your application return a `user_id` to Google Analytics so you can join your model's predictions with additional first-party data such as purchase history and marketing engagement data. This enables you to integrate batch predictions into Looker dashboards to help product teams prioritize user experience improvements and marketing teams create targeted user interventions such as reminder emails to improve retention.\n",
        "\n",
        "Through having your model in Vertex AI Prediction, you also have a scalable prediction service to call from your application to directly integrate online predictions in order to to tailor personalized user game experiences and allow for targeted habit-building notifications.\n",
        "\n",
        "As you collect more data from your users, you may want to regularly evaluate your model on fresh data and re-train the model if you notice that the model quality is decaying. [Vertex Pipelines](https://cloud.google.com/vertex-ai/docs/pipelines/introduction) can help you to automate, monitor, and govern your ML solutions by orchestrating your BQML workflow in a serverless manner, and storing your workflow's artifacts using [Vertex ML Metadata](https://cloud.google.com/vertex-ai/docs/ml-metadata/introduction). For another alternative for continuous BQML models, checkout the blog post [Continuous model evaluation with BigQuery ML, Stored Procedures, and Cloud Scheduler](https://cloud.google.com/blog/topics/developers-practitioners/continuous-model-evaluation-bigquery-ml-stored-procedures-and-cloud-scheduler).\n",
        "\n"
      ]
    },
    {
      "cell_type": "markdown",
      "id": "a04b58a0",
      "metadata": {
        "id": "a04b58a0"
      },
      "source": [
        "## License"
      ]
    },
    {
      "cell_type": "code",
      "execution_count": null,
      "id": "1593ed77",
      "metadata": {
        "id": "1593ed77"
      },
      "outputs": [],
      "source": [
        "# Copyright 2021 Google LLC\n",
        "#\n",
        "# Licensed under the Apache License, Version 2.0 (the \"License\");\n",
        "# you may not use this file except in compliance with the License.\n",
        "# You may obtain a copy of the License at\n",
        "#\n",
        "#     https://www.apache.org/licenses/LICENSE-2.0\n",
        "#\n",
        "# Unless required by applicable law or agreed to in writing, software\n",
        "# distributed under the License is distributed on an \"AS IS\" BASIS,\n",
        "# WITHOUT WARRANTIES OR CONDITIONS OF ANY KIND, either express or implied.\n",
        "# See the License for the specific language governing permissions and\n",
        "# limitations under the License."
      ]
    }
  ],
  "metadata": {
    "environment": {
      "kernel": "python3",
      "name": "tf2-gpu.2-15.m125",
      "type": "gcloud",
      "uri": "us-docker.pkg.dev/deeplearning-platform-release/gcr.io/tf2-gpu.2-15:m125"
    },
    "kernelspec": {
      "display_name": "Python 3 (Local)",
      "language": "python",
      "name": "python3"
    },
    "language_info": {
      "codemirror_mode": {
        "name": "ipython",
        "version": 3
      },
      "file_extension": ".py",
      "mimetype": "text/x-python",
      "name": "python",
      "nbconvert_exporter": "python",
      "pygments_lexer": "ipython3",
      "version": "3.10.15"
    },
    "colab": {
      "provenance": [],
      "toc_visible": true,
      "include_colab_link": true
    }
  },
  "nbformat": 4,
  "nbformat_minor": 5
}